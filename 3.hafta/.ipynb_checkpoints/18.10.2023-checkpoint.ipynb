{
 "cells": [
  {
   "cell_type": "code",
   "execution_count": 1,
   "id": "4c207022-5429-4059-b611-47c23d994075",
   "metadata": {},
   "outputs": [],
   "source": [
    "import pandas as pd\n",
    "import matplotlib.pyplot as plt\n",
    "%matplotlib inline\n",
    "import numpy as np\n",
    "import seaborn as sns\n",
    "import warnings\n",
    "warnings.filterwarnings(\"ignore\")"
   ]
  },
  {
   "cell_type": "code",
   "execution_count": 2,
   "id": "e08bfbec-4e35-42d2-b95e-990b288c8857",
   "metadata": {},
   "outputs": [],
   "source": [
    "df=pd.read_csv('supermarket.csv')\n",
    "#3 Süpermarketin 3 aylık verisi"
   ]
  },
  {
   "cell_type": "markdown",
   "id": "eb6b036d-2c83-4fa0-9fc7-d84ad0dbe428",
   "metadata": {},
   "source": [
    "## EDA"
   ]
  },
  {
   "cell_type": "code",
   "execution_count": 3,
   "id": "f2bd3b15-b3c7-4091-841b-02d704d3a132",
   "metadata": {},
   "outputs": [
    {
     "data": {
      "text/html": [
       "<div>\n",
       "<style scoped>\n",
       "    .dataframe tbody tr th:only-of-type {\n",
       "        vertical-align: middle;\n",
       "    }\n",
       "\n",
       "    .dataframe tbody tr th {\n",
       "        vertical-align: top;\n",
       "    }\n",
       "\n",
       "    .dataframe thead th {\n",
       "        text-align: right;\n",
       "    }\n",
       "</style>\n",
       "<table border=\"1\" class=\"dataframe\">\n",
       "  <thead>\n",
       "    <tr style=\"text-align: right;\">\n",
       "      <th></th>\n",
       "      <th>Invoice ID</th>\n",
       "      <th>Branch</th>\n",
       "      <th>City</th>\n",
       "      <th>Customer type</th>\n",
       "      <th>Gender</th>\n",
       "      <th>Product line</th>\n",
       "      <th>Unit price</th>\n",
       "      <th>Quantity</th>\n",
       "      <th>Tax 5%</th>\n",
       "      <th>Total</th>\n",
       "      <th>Date</th>\n",
       "      <th>Time</th>\n",
       "      <th>Payment</th>\n",
       "      <th>cogs</th>\n",
       "      <th>gross margin percentage</th>\n",
       "      <th>gross income</th>\n",
       "      <th>Rating</th>\n",
       "    </tr>\n",
       "  </thead>\n",
       "  <tbody>\n",
       "    <tr>\n",
       "      <th>0</th>\n",
       "      <td>750-67-8428</td>\n",
       "      <td>A</td>\n",
       "      <td>Yangon</td>\n",
       "      <td>Member</td>\n",
       "      <td>Female</td>\n",
       "      <td>Health and beauty</td>\n",
       "      <td>74.69</td>\n",
       "      <td>7</td>\n",
       "      <td>26.1415</td>\n",
       "      <td>548.9715</td>\n",
       "      <td>1/5/2019</td>\n",
       "      <td>13:08</td>\n",
       "      <td>Ewallet</td>\n",
       "      <td>522.83</td>\n",
       "      <td>4.761905</td>\n",
       "      <td>26.1415</td>\n",
       "      <td>9.1</td>\n",
       "    </tr>\n",
       "    <tr>\n",
       "      <th>1</th>\n",
       "      <td>226-31-3081</td>\n",
       "      <td>C</td>\n",
       "      <td>Naypyitaw</td>\n",
       "      <td>Normal</td>\n",
       "      <td>Female</td>\n",
       "      <td>Electronic accessories</td>\n",
       "      <td>15.28</td>\n",
       "      <td>5</td>\n",
       "      <td>3.8200</td>\n",
       "      <td>80.2200</td>\n",
       "      <td>3/8/2019</td>\n",
       "      <td>10:29</td>\n",
       "      <td>Cash</td>\n",
       "      <td>76.40</td>\n",
       "      <td>4.761905</td>\n",
       "      <td>3.8200</td>\n",
       "      <td>9.6</td>\n",
       "    </tr>\n",
       "    <tr>\n",
       "      <th>2</th>\n",
       "      <td>631-41-3108</td>\n",
       "      <td>A</td>\n",
       "      <td>Yangon</td>\n",
       "      <td>Normal</td>\n",
       "      <td>Male</td>\n",
       "      <td>Home and lifestyle</td>\n",
       "      <td>46.33</td>\n",
       "      <td>7</td>\n",
       "      <td>16.2155</td>\n",
       "      <td>340.5255</td>\n",
       "      <td>3/3/2019</td>\n",
       "      <td>13:23</td>\n",
       "      <td>Credit card</td>\n",
       "      <td>324.31</td>\n",
       "      <td>4.761905</td>\n",
       "      <td>16.2155</td>\n",
       "      <td>7.4</td>\n",
       "    </tr>\n",
       "    <tr>\n",
       "      <th>3</th>\n",
       "      <td>123-19-1176</td>\n",
       "      <td>A</td>\n",
       "      <td>Yangon</td>\n",
       "      <td>Member</td>\n",
       "      <td>Male</td>\n",
       "      <td>Health and beauty</td>\n",
       "      <td>58.22</td>\n",
       "      <td>8</td>\n",
       "      <td>23.2880</td>\n",
       "      <td>489.0480</td>\n",
       "      <td>1/27/2019</td>\n",
       "      <td>20:33</td>\n",
       "      <td>Ewallet</td>\n",
       "      <td>465.76</td>\n",
       "      <td>4.761905</td>\n",
       "      <td>23.2880</td>\n",
       "      <td>8.4</td>\n",
       "    </tr>\n",
       "    <tr>\n",
       "      <th>4</th>\n",
       "      <td>373-73-7910</td>\n",
       "      <td>A</td>\n",
       "      <td>Yangon</td>\n",
       "      <td>Normal</td>\n",
       "      <td>Male</td>\n",
       "      <td>Sports and travel</td>\n",
       "      <td>86.31</td>\n",
       "      <td>7</td>\n",
       "      <td>30.2085</td>\n",
       "      <td>634.3785</td>\n",
       "      <td>2/8/2019</td>\n",
       "      <td>10:37</td>\n",
       "      <td>Ewallet</td>\n",
       "      <td>604.17</td>\n",
       "      <td>4.761905</td>\n",
       "      <td>30.2085</td>\n",
       "      <td>5.3</td>\n",
       "    </tr>\n",
       "  </tbody>\n",
       "</table>\n",
       "</div>"
      ],
      "text/plain": [
       "    Invoice ID Branch       City Customer type  Gender  \\\n",
       "0  750-67-8428      A     Yangon        Member  Female   \n",
       "1  226-31-3081      C  Naypyitaw        Normal  Female   \n",
       "2  631-41-3108      A     Yangon        Normal    Male   \n",
       "3  123-19-1176      A     Yangon        Member    Male   \n",
       "4  373-73-7910      A     Yangon        Normal    Male   \n",
       "\n",
       "             Product line  Unit price  Quantity   Tax 5%     Total       Date  \\\n",
       "0       Health and beauty       74.69         7  26.1415  548.9715   1/5/2019   \n",
       "1  Electronic accessories       15.28         5   3.8200   80.2200   3/8/2019   \n",
       "2      Home and lifestyle       46.33         7  16.2155  340.5255   3/3/2019   \n",
       "3       Health and beauty       58.22         8  23.2880  489.0480  1/27/2019   \n",
       "4       Sports and travel       86.31         7  30.2085  634.3785   2/8/2019   \n",
       "\n",
       "    Time      Payment    cogs  gross margin percentage  gross income  Rating  \n",
       "0  13:08      Ewallet  522.83                 4.761905       26.1415     9.1  \n",
       "1  10:29         Cash   76.40                 4.761905        3.8200     9.6  \n",
       "2  13:23  Credit card  324.31                 4.761905       16.2155     7.4  \n",
       "3  20:33      Ewallet  465.76                 4.761905       23.2880     8.4  \n",
       "4  10:37      Ewallet  604.17                 4.761905       30.2085     5.3  "
      ]
     },
     "execution_count": 3,
     "metadata": {},
     "output_type": "execute_result"
    }
   ],
   "source": [
    "df.head()"
   ]
  },
  {
   "cell_type": "code",
   "execution_count": 4,
   "id": "27dc0e9e-57e3-4b3a-b67f-2dd26f36ae16",
   "metadata": {},
   "outputs": [
    {
     "data": {
      "text/html": [
       "<div>\n",
       "<style scoped>\n",
       "    .dataframe tbody tr th:only-of-type {\n",
       "        vertical-align: middle;\n",
       "    }\n",
       "\n",
       "    .dataframe tbody tr th {\n",
       "        vertical-align: top;\n",
       "    }\n",
       "\n",
       "    .dataframe thead th {\n",
       "        text-align: right;\n",
       "    }\n",
       "</style>\n",
       "<table border=\"1\" class=\"dataframe\">\n",
       "  <thead>\n",
       "    <tr style=\"text-align: right;\">\n",
       "      <th></th>\n",
       "      <th>Invoice ID</th>\n",
       "      <th>Branch</th>\n",
       "      <th>City</th>\n",
       "      <th>Customer type</th>\n",
       "      <th>Gender</th>\n",
       "      <th>Product line</th>\n",
       "      <th>Unit price</th>\n",
       "      <th>Quantity</th>\n",
       "      <th>Tax 5%</th>\n",
       "      <th>Total</th>\n",
       "      <th>Date</th>\n",
       "      <th>Time</th>\n",
       "      <th>Payment</th>\n",
       "      <th>cogs</th>\n",
       "      <th>gross margin percentage</th>\n",
       "      <th>gross income</th>\n",
       "      <th>Rating</th>\n",
       "    </tr>\n",
       "  </thead>\n",
       "  <tbody>\n",
       "    <tr>\n",
       "      <th>995</th>\n",
       "      <td>233-67-5758</td>\n",
       "      <td>C</td>\n",
       "      <td>Naypyitaw</td>\n",
       "      <td>Normal</td>\n",
       "      <td>Male</td>\n",
       "      <td>Health and beauty</td>\n",
       "      <td>40.35</td>\n",
       "      <td>1</td>\n",
       "      <td>2.0175</td>\n",
       "      <td>42.3675</td>\n",
       "      <td>1/29/2019</td>\n",
       "      <td>13:46</td>\n",
       "      <td>Ewallet</td>\n",
       "      <td>40.35</td>\n",
       "      <td>4.761905</td>\n",
       "      <td>2.0175</td>\n",
       "      <td>6.2</td>\n",
       "    </tr>\n",
       "    <tr>\n",
       "      <th>996</th>\n",
       "      <td>303-96-2227</td>\n",
       "      <td>B</td>\n",
       "      <td>Mandalay</td>\n",
       "      <td>Normal</td>\n",
       "      <td>Female</td>\n",
       "      <td>Home and lifestyle</td>\n",
       "      <td>97.38</td>\n",
       "      <td>10</td>\n",
       "      <td>48.6900</td>\n",
       "      <td>1022.4900</td>\n",
       "      <td>3/2/2019</td>\n",
       "      <td>17:16</td>\n",
       "      <td>Ewallet</td>\n",
       "      <td>973.80</td>\n",
       "      <td>4.761905</td>\n",
       "      <td>48.6900</td>\n",
       "      <td>4.4</td>\n",
       "    </tr>\n",
       "    <tr>\n",
       "      <th>997</th>\n",
       "      <td>727-02-1313</td>\n",
       "      <td>A</td>\n",
       "      <td>Yangon</td>\n",
       "      <td>Member</td>\n",
       "      <td>Male</td>\n",
       "      <td>Food and beverages</td>\n",
       "      <td>31.84</td>\n",
       "      <td>1</td>\n",
       "      <td>1.5920</td>\n",
       "      <td>33.4320</td>\n",
       "      <td>2/9/2019</td>\n",
       "      <td>13:22</td>\n",
       "      <td>Cash</td>\n",
       "      <td>31.84</td>\n",
       "      <td>4.761905</td>\n",
       "      <td>1.5920</td>\n",
       "      <td>7.7</td>\n",
       "    </tr>\n",
       "    <tr>\n",
       "      <th>998</th>\n",
       "      <td>347-56-2442</td>\n",
       "      <td>A</td>\n",
       "      <td>Yangon</td>\n",
       "      <td>Normal</td>\n",
       "      <td>Male</td>\n",
       "      <td>Home and lifestyle</td>\n",
       "      <td>65.82</td>\n",
       "      <td>1</td>\n",
       "      <td>3.2910</td>\n",
       "      <td>69.1110</td>\n",
       "      <td>2/22/2019</td>\n",
       "      <td>15:33</td>\n",
       "      <td>Cash</td>\n",
       "      <td>65.82</td>\n",
       "      <td>4.761905</td>\n",
       "      <td>3.2910</td>\n",
       "      <td>4.1</td>\n",
       "    </tr>\n",
       "    <tr>\n",
       "      <th>999</th>\n",
       "      <td>849-09-3807</td>\n",
       "      <td>A</td>\n",
       "      <td>Yangon</td>\n",
       "      <td>Member</td>\n",
       "      <td>Female</td>\n",
       "      <td>Fashion accessories</td>\n",
       "      <td>88.34</td>\n",
       "      <td>7</td>\n",
       "      <td>30.9190</td>\n",
       "      <td>649.2990</td>\n",
       "      <td>2/18/2019</td>\n",
       "      <td>13:28</td>\n",
       "      <td>Cash</td>\n",
       "      <td>618.38</td>\n",
       "      <td>4.761905</td>\n",
       "      <td>30.9190</td>\n",
       "      <td>6.6</td>\n",
       "    </tr>\n",
       "  </tbody>\n",
       "</table>\n",
       "</div>"
      ],
      "text/plain": [
       "      Invoice ID Branch       City Customer type  Gender         Product line  \\\n",
       "995  233-67-5758      C  Naypyitaw        Normal    Male    Health and beauty   \n",
       "996  303-96-2227      B   Mandalay        Normal  Female   Home and lifestyle   \n",
       "997  727-02-1313      A     Yangon        Member    Male   Food and beverages   \n",
       "998  347-56-2442      A     Yangon        Normal    Male   Home and lifestyle   \n",
       "999  849-09-3807      A     Yangon        Member  Female  Fashion accessories   \n",
       "\n",
       "     Unit price  Quantity   Tax 5%      Total       Date   Time  Payment  \\\n",
       "995       40.35         1   2.0175    42.3675  1/29/2019  13:46  Ewallet   \n",
       "996       97.38        10  48.6900  1022.4900   3/2/2019  17:16  Ewallet   \n",
       "997       31.84         1   1.5920    33.4320   2/9/2019  13:22     Cash   \n",
       "998       65.82         1   3.2910    69.1110  2/22/2019  15:33     Cash   \n",
       "999       88.34         7  30.9190   649.2990  2/18/2019  13:28     Cash   \n",
       "\n",
       "       cogs  gross margin percentage  gross income  Rating  \n",
       "995   40.35                 4.761905        2.0175     6.2  \n",
       "996  973.80                 4.761905       48.6900     4.4  \n",
       "997   31.84                 4.761905        1.5920     7.7  \n",
       "998   65.82                 4.761905        3.2910     4.1  \n",
       "999  618.38                 4.761905       30.9190     6.6  "
      ]
     },
     "execution_count": 4,
     "metadata": {},
     "output_type": "execute_result"
    }
   ],
   "source": [
    "#sondan 5 satırı getirir.\n",
    "df.tail()"
   ]
  },
  {
   "cell_type": "code",
   "execution_count": 5,
   "id": "610bdc0b-82b0-436c-bf17-a113225be375",
   "metadata": {},
   "outputs": [
    {
     "data": {
      "text/html": [
       "<div>\n",
       "<style scoped>\n",
       "    .dataframe tbody tr th:only-of-type {\n",
       "        vertical-align: middle;\n",
       "    }\n",
       "\n",
       "    .dataframe tbody tr th {\n",
       "        vertical-align: top;\n",
       "    }\n",
       "\n",
       "    .dataframe thead th {\n",
       "        text-align: right;\n",
       "    }\n",
       "</style>\n",
       "<table border=\"1\" class=\"dataframe\">\n",
       "  <thead>\n",
       "    <tr style=\"text-align: right;\">\n",
       "      <th></th>\n",
       "      <th>Invoice ID</th>\n",
       "      <th>Branch</th>\n",
       "      <th>City</th>\n",
       "      <th>Customer type</th>\n",
       "      <th>Gender</th>\n",
       "      <th>Product line</th>\n",
       "      <th>Unit price</th>\n",
       "      <th>Quantity</th>\n",
       "      <th>Tax 5%</th>\n",
       "      <th>Total</th>\n",
       "      <th>Date</th>\n",
       "      <th>Time</th>\n",
       "      <th>Payment</th>\n",
       "      <th>cogs</th>\n",
       "      <th>gross margin percentage</th>\n",
       "      <th>gross income</th>\n",
       "      <th>Rating</th>\n",
       "    </tr>\n",
       "  </thead>\n",
       "  <tbody>\n",
       "    <tr>\n",
       "      <th>300</th>\n",
       "      <td>446-47-6729</td>\n",
       "      <td>C</td>\n",
       "      <td>Naypyitaw</td>\n",
       "      <td>Normal</td>\n",
       "      <td>Male</td>\n",
       "      <td>Fashion accessories</td>\n",
       "      <td>99.82</td>\n",
       "      <td>2</td>\n",
       "      <td>9.982</td>\n",
       "      <td>209.622</td>\n",
       "      <td>1/2/2019</td>\n",
       "      <td>18:09</td>\n",
       "      <td>Credit card</td>\n",
       "      <td>199.64</td>\n",
       "      <td>4.761905</td>\n",
       "      <td>9.982</td>\n",
       "      <td>6.7</td>\n",
       "    </tr>\n",
       "  </tbody>\n",
       "</table>\n",
       "</div>"
      ],
      "text/plain": [
       "      Invoice ID Branch       City Customer type Gender         Product line  \\\n",
       "300  446-47-6729      C  Naypyitaw        Normal   Male  Fashion accessories   \n",
       "\n",
       "     Unit price  Quantity  Tax 5%    Total      Date   Time      Payment  \\\n",
       "300       99.82         2   9.982  209.622  1/2/2019  18:09  Credit card   \n",
       "\n",
       "       cogs  gross margin percentage  gross income  Rating  \n",
       "300  199.64                 4.761905         9.982     6.7  "
      ]
     },
     "execution_count": 5,
     "metadata": {},
     "output_type": "execute_result"
    }
   ],
   "source": [
    "#random satır getirir\n",
    "df.sample() "
   ]
  },
  {
   "cell_type": "code",
   "execution_count": 6,
   "id": "f5c4c3ff-5019-404e-b963-e5e7fcadff6e",
   "metadata": {},
   "outputs": [
    {
     "name": "stdout",
     "output_type": "stream",
     "text": [
      "<class 'pandas.core.frame.DataFrame'>\n",
      "RangeIndex: 1000 entries, 0 to 999\n",
      "Data columns (total 17 columns):\n",
      " #   Column                   Non-Null Count  Dtype  \n",
      "---  ------                   --------------  -----  \n",
      " 0   Invoice ID               1000 non-null   object \n",
      " 1   Branch                   1000 non-null   object \n",
      " 2   City                     1000 non-null   object \n",
      " 3   Customer type            1000 non-null   object \n",
      " 4   Gender                   1000 non-null   object \n",
      " 5   Product line             1000 non-null   object \n",
      " 6   Unit price               1000 non-null   float64\n",
      " 7   Quantity                 1000 non-null   int64  \n",
      " 8   Tax 5%                   1000 non-null   float64\n",
      " 9   Total                    1000 non-null   float64\n",
      " 10  Date                     1000 non-null   object \n",
      " 11  Time                     1000 non-null   object \n",
      " 12  Payment                  1000 non-null   object \n",
      " 13  cogs                     1000 non-null   float64\n",
      " 14  gross margin percentage  1000 non-null   float64\n",
      " 15  gross income             1000 non-null   float64\n",
      " 16  Rating                   1000 non-null   float64\n",
      "dtypes: float64(7), int64(1), object(9)\n",
      "memory usage: 132.9+ KB\n"
     ]
    }
   ],
   "source": [
    "#bilgi getirir\n",
    "df.info()"
   ]
  },
  {
   "cell_type": "code",
   "execution_count": 7,
   "id": "7730be2b-d266-403c-9b7b-3ff6104f6cbf",
   "metadata": {},
   "outputs": [
    {
     "data": {
      "text/plain": [
       "Invoice ID                 0\n",
       "Branch                     0\n",
       "City                       0\n",
       "Customer type              0\n",
       "Gender                     0\n",
       "Product line               0\n",
       "Unit price                 0\n",
       "Quantity                   0\n",
       "Tax 5%                     0\n",
       "Total                      0\n",
       "Date                       0\n",
       "Time                       0\n",
       "Payment                    0\n",
       "cogs                       0\n",
       "gross margin percentage    0\n",
       "gross income               0\n",
       "Rating                     0\n",
       "dtype: int64"
      ]
     },
     "execution_count": 7,
     "metadata": {},
     "output_type": "execute_result"
    }
   ],
   "source": [
    "#Boş veri var mı kontrolü\n",
    "df.isnull().sum()"
   ]
  },
  {
   "cell_type": "code",
   "execution_count": 8,
   "id": "22723e7a-b5e4-4168-bc4e-80dca13452a6",
   "metadata": {},
   "outputs": [
    {
     "data": {
      "text/html": [
       "<div>\n",
       "<style scoped>\n",
       "    .dataframe tbody tr th:only-of-type {\n",
       "        vertical-align: middle;\n",
       "    }\n",
       "\n",
       "    .dataframe tbody tr th {\n",
       "        vertical-align: top;\n",
       "    }\n",
       "\n",
       "    .dataframe thead th {\n",
       "        text-align: right;\n",
       "    }\n",
       "</style>\n",
       "<table border=\"1\" class=\"dataframe\">\n",
       "  <thead>\n",
       "    <tr style=\"text-align: right;\">\n",
       "      <th></th>\n",
       "      <th>Invoice ID</th>\n",
       "      <th>Branch</th>\n",
       "      <th>City</th>\n",
       "      <th>Customer type</th>\n",
       "      <th>Gender</th>\n",
       "      <th>Product line</th>\n",
       "      <th>Unit price</th>\n",
       "      <th>Quantity</th>\n",
       "      <th>Tax 5%</th>\n",
       "      <th>Total</th>\n",
       "      <th>Date</th>\n",
       "      <th>Time</th>\n",
       "      <th>Payment</th>\n",
       "      <th>cogs</th>\n",
       "      <th>gross margin percentage</th>\n",
       "      <th>gross income</th>\n",
       "      <th>Rating</th>\n",
       "    </tr>\n",
       "  </thead>\n",
       "  <tbody>\n",
       "    <tr>\n",
       "      <th>978</th>\n",
       "      <td>156-20-0370</td>\n",
       "      <td>B</td>\n",
       "      <td>Mandalay</td>\n",
       "      <td>Normal</td>\n",
       "      <td>Female</td>\n",
       "      <td>Electronic accessories</td>\n",
       "      <td>25.45</td>\n",
       "      <td>1</td>\n",
       "      <td>1.2725</td>\n",
       "      <td>26.7225</td>\n",
       "      <td>3/10/2019</td>\n",
       "      <td>18:10</td>\n",
       "      <td>Credit card</td>\n",
       "      <td>25.45</td>\n",
       "      <td>4.761905</td>\n",
       "      <td>1.2725</td>\n",
       "      <td>5.1</td>\n",
       "    </tr>\n",
       "    <tr>\n",
       "      <th>985</th>\n",
       "      <td>374-38-5555</td>\n",
       "      <td>B</td>\n",
       "      <td>Mandalay</td>\n",
       "      <td>Normal</td>\n",
       "      <td>Female</td>\n",
       "      <td>Fashion accessories</td>\n",
       "      <td>63.71</td>\n",
       "      <td>5</td>\n",
       "      <td>15.9275</td>\n",
       "      <td>334.4775</td>\n",
       "      <td>2/7/2019</td>\n",
       "      <td>19:30</td>\n",
       "      <td>Ewallet</td>\n",
       "      <td>318.55</td>\n",
       "      <td>4.761905</td>\n",
       "      <td>15.9275</td>\n",
       "      <td>8.5</td>\n",
       "    </tr>\n",
       "    <tr>\n",
       "      <th>450</th>\n",
       "      <td>891-01-7034</td>\n",
       "      <td>B</td>\n",
       "      <td>Mandalay</td>\n",
       "      <td>Normal</td>\n",
       "      <td>Female</td>\n",
       "      <td>Electronic accessories</td>\n",
       "      <td>74.71</td>\n",
       "      <td>6</td>\n",
       "      <td>22.4130</td>\n",
       "      <td>470.6730</td>\n",
       "      <td>1/1/2019</td>\n",
       "      <td>19:07</td>\n",
       "      <td>Cash</td>\n",
       "      <td>448.26</td>\n",
       "      <td>4.761905</td>\n",
       "      <td>22.4130</td>\n",
       "      <td>6.7</td>\n",
       "    </tr>\n",
       "    <tr>\n",
       "      <th>561</th>\n",
       "      <td>866-99-7614</td>\n",
       "      <td>C</td>\n",
       "      <td>Naypyitaw</td>\n",
       "      <td>Normal</td>\n",
       "      <td>Male</td>\n",
       "      <td>Food and beverages</td>\n",
       "      <td>89.20</td>\n",
       "      <td>10</td>\n",
       "      <td>44.6000</td>\n",
       "      <td>936.6000</td>\n",
       "      <td>2/11/2019</td>\n",
       "      <td>15:42</td>\n",
       "      <td>Credit card</td>\n",
       "      <td>892.00</td>\n",
       "      <td>4.761905</td>\n",
       "      <td>44.6000</td>\n",
       "      <td>4.4</td>\n",
       "    </tr>\n",
       "    <tr>\n",
       "      <th>491</th>\n",
       "      <td>510-09-5628</td>\n",
       "      <td>A</td>\n",
       "      <td>Yangon</td>\n",
       "      <td>Member</td>\n",
       "      <td>Female</td>\n",
       "      <td>Fashion accessories</td>\n",
       "      <td>19.66</td>\n",
       "      <td>10</td>\n",
       "      <td>9.8300</td>\n",
       "      <td>206.4300</td>\n",
       "      <td>3/15/2019</td>\n",
       "      <td>18:20</td>\n",
       "      <td>Credit card</td>\n",
       "      <td>196.60</td>\n",
       "      <td>4.761905</td>\n",
       "      <td>9.8300</td>\n",
       "      <td>7.2</td>\n",
       "    </tr>\n",
       "    <tr>\n",
       "      <th>396</th>\n",
       "      <td>316-01-3952</td>\n",
       "      <td>A</td>\n",
       "      <td>Yangon</td>\n",
       "      <td>Normal</td>\n",
       "      <td>Female</td>\n",
       "      <td>Food and beverages</td>\n",
       "      <td>54.27</td>\n",
       "      <td>5</td>\n",
       "      <td>13.5675</td>\n",
       "      <td>284.9175</td>\n",
       "      <td>3/13/2019</td>\n",
       "      <td>14:16</td>\n",
       "      <td>Ewallet</td>\n",
       "      <td>271.35</td>\n",
       "      <td>4.761905</td>\n",
       "      <td>13.5675</td>\n",
       "      <td>4.6</td>\n",
       "    </tr>\n",
       "    <tr>\n",
       "      <th>347</th>\n",
       "      <td>725-96-3778</td>\n",
       "      <td>C</td>\n",
       "      <td>Naypyitaw</td>\n",
       "      <td>Member</td>\n",
       "      <td>Female</td>\n",
       "      <td>Home and lifestyle</td>\n",
       "      <td>89.25</td>\n",
       "      <td>8</td>\n",
       "      <td>35.7000</td>\n",
       "      <td>749.7000</td>\n",
       "      <td>1/20/2019</td>\n",
       "      <td>10:13</td>\n",
       "      <td>Cash</td>\n",
       "      <td>714.00</td>\n",
       "      <td>4.761905</td>\n",
       "      <td>35.7000</td>\n",
       "      <td>4.7</td>\n",
       "    </tr>\n",
       "    <tr>\n",
       "      <th>475</th>\n",
       "      <td>502-05-1910</td>\n",
       "      <td>A</td>\n",
       "      <td>Yangon</td>\n",
       "      <td>Normal</td>\n",
       "      <td>Male</td>\n",
       "      <td>Health and beauty</td>\n",
       "      <td>65.18</td>\n",
       "      <td>3</td>\n",
       "      <td>9.7770</td>\n",
       "      <td>205.3170</td>\n",
       "      <td>2/25/2019</td>\n",
       "      <td>20:35</td>\n",
       "      <td>Credit card</td>\n",
       "      <td>195.54</td>\n",
       "      <td>4.761905</td>\n",
       "      <td>9.7770</td>\n",
       "      <td>6.3</td>\n",
       "    </tr>\n",
       "    <tr>\n",
       "      <th>559</th>\n",
       "      <td>218-59-9410</td>\n",
       "      <td>A</td>\n",
       "      <td>Yangon</td>\n",
       "      <td>Member</td>\n",
       "      <td>Female</td>\n",
       "      <td>Home and lifestyle</td>\n",
       "      <td>72.42</td>\n",
       "      <td>3</td>\n",
       "      <td>10.8630</td>\n",
       "      <td>228.1230</td>\n",
       "      <td>3/29/2019</td>\n",
       "      <td>16:54</td>\n",
       "      <td>Ewallet</td>\n",
       "      <td>217.26</td>\n",
       "      <td>4.761905</td>\n",
       "      <td>10.8630</td>\n",
       "      <td>8.2</td>\n",
       "    </tr>\n",
       "    <tr>\n",
       "      <th>124</th>\n",
       "      <td>268-27-6179</td>\n",
       "      <td>B</td>\n",
       "      <td>Mandalay</td>\n",
       "      <td>Member</td>\n",
       "      <td>Female</td>\n",
       "      <td>Fashion accessories</td>\n",
       "      <td>56.47</td>\n",
       "      <td>8</td>\n",
       "      <td>22.5880</td>\n",
       "      <td>474.3480</td>\n",
       "      <td>3/9/2019</td>\n",
       "      <td>14:57</td>\n",
       "      <td>Ewallet</td>\n",
       "      <td>451.76</td>\n",
       "      <td>4.761905</td>\n",
       "      <td>22.5880</td>\n",
       "      <td>7.3</td>\n",
       "    </tr>\n",
       "  </tbody>\n",
       "</table>\n",
       "</div>"
      ],
      "text/plain": [
       "      Invoice ID Branch       City Customer type  Gender  \\\n",
       "978  156-20-0370      B   Mandalay        Normal  Female   \n",
       "985  374-38-5555      B   Mandalay        Normal  Female   \n",
       "450  891-01-7034      B   Mandalay        Normal  Female   \n",
       "561  866-99-7614      C  Naypyitaw        Normal    Male   \n",
       "491  510-09-5628      A     Yangon        Member  Female   \n",
       "396  316-01-3952      A     Yangon        Normal  Female   \n",
       "347  725-96-3778      C  Naypyitaw        Member  Female   \n",
       "475  502-05-1910      A     Yangon        Normal    Male   \n",
       "559  218-59-9410      A     Yangon        Member  Female   \n",
       "124  268-27-6179      B   Mandalay        Member  Female   \n",
       "\n",
       "               Product line  Unit price  Quantity   Tax 5%     Total  \\\n",
       "978  Electronic accessories       25.45         1   1.2725   26.7225   \n",
       "985     Fashion accessories       63.71         5  15.9275  334.4775   \n",
       "450  Electronic accessories       74.71         6  22.4130  470.6730   \n",
       "561      Food and beverages       89.20        10  44.6000  936.6000   \n",
       "491     Fashion accessories       19.66        10   9.8300  206.4300   \n",
       "396      Food and beverages       54.27         5  13.5675  284.9175   \n",
       "347      Home and lifestyle       89.25         8  35.7000  749.7000   \n",
       "475       Health and beauty       65.18         3   9.7770  205.3170   \n",
       "559      Home and lifestyle       72.42         3  10.8630  228.1230   \n",
       "124     Fashion accessories       56.47         8  22.5880  474.3480   \n",
       "\n",
       "          Date   Time      Payment    cogs  gross margin percentage  \\\n",
       "978  3/10/2019  18:10  Credit card   25.45                 4.761905   \n",
       "985   2/7/2019  19:30      Ewallet  318.55                 4.761905   \n",
       "450   1/1/2019  19:07         Cash  448.26                 4.761905   \n",
       "561  2/11/2019  15:42  Credit card  892.00                 4.761905   \n",
       "491  3/15/2019  18:20  Credit card  196.60                 4.761905   \n",
       "396  3/13/2019  14:16      Ewallet  271.35                 4.761905   \n",
       "347  1/20/2019  10:13         Cash  714.00                 4.761905   \n",
       "475  2/25/2019  20:35  Credit card  195.54                 4.761905   \n",
       "559  3/29/2019  16:54      Ewallet  217.26                 4.761905   \n",
       "124   3/9/2019  14:57      Ewallet  451.76                 4.761905   \n",
       "\n",
       "     gross income  Rating  \n",
       "978        1.2725     5.1  \n",
       "985       15.9275     8.5  \n",
       "450       22.4130     6.7  \n",
       "561       44.6000     4.4  \n",
       "491        9.8300     7.2  \n",
       "396       13.5675     4.6  \n",
       "347       35.7000     4.7  \n",
       "475        9.7770     6.3  \n",
       "559       10.8630     8.2  \n",
       "124       22.5880     7.3  "
      ]
     },
     "execution_count": 8,
     "metadata": {},
     "output_type": "execute_result"
    }
   ],
   "source": [
    "#ne kadar satır istiyosak o kadar satır rastgele veri getirir.\n",
    "df.sample(10)"
   ]
  },
  {
   "cell_type": "code",
   "execution_count": 9,
   "id": "ba602838-213a-408a-a175-eb7dd1ef0626",
   "metadata": {},
   "outputs": [
    {
     "data": {
      "text/plain": [
       "array(['Yangon', 'Naypyitaw', 'Mandalay'], dtype=object)"
      ]
     },
     "execution_count": 9,
     "metadata": {},
     "output_type": "execute_result"
    }
   ],
   "source": [
    "#Verideki, 'City' sütununda bulunan benzersiz şehir isimlerini döndürür. \n",
    "df['City'].unique()"
   ]
  },
  {
   "cell_type": "code",
   "execution_count": 10,
   "id": "250beab0-519f-427b-a9b7-d94d1e675cdd",
   "metadata": {},
   "outputs": [
    {
     "data": {
      "text/plain": [
       "array(['A', 'C', 'B'], dtype=object)"
      ]
     },
     "execution_count": 10,
     "metadata": {},
     "output_type": "execute_result"
    }
   ],
   "source": [
    "#Bu komut, 'Branch' sütununda bulunan benzersiz değerleri döndürecektir. \n",
    "df['Branch'].unique()"
   ]
  },
  {
   "cell_type": "code",
   "execution_count": 11,
   "id": "4b52d986-beb2-48a8-ad99-a277738c41e0",
   "metadata": {},
   "outputs": [
    {
     "data": {
      "text/plain": [
       "3"
      ]
     },
     "execution_count": 11,
     "metadata": {},
     "output_type": "execute_result"
    }
   ],
   "source": [
    "#DataFrame'deki 'Branch' sütunundaki benzersiz değerlerin sayısını döndürür. \n",
    "df['Branch'].nunique()"
   ]
  },
  {
   "cell_type": "code",
   "execution_count": 12,
   "id": "3c09f4db-253f-4989-86e1-72add9f409d7",
   "metadata": {},
   "outputs": [
    {
     "data": {
      "text/plain": [
       "1042.65"
      ]
     },
     "execution_count": 12,
     "metadata": {},
     "output_type": "execute_result"
    }
   ],
   "source": [
    "# DataFrame'deki 'Total' sütununun en büyük değerini döndürecektir. \n",
    "df.Total.max()"
   ]
  },
  {
   "cell_type": "code",
   "execution_count": 13,
   "id": "7a832f41-98e9-4c79-aac4-a40db2a53bbb",
   "metadata": {},
   "outputs": [
    {
     "data": {
      "text/plain": [
       "1042.65"
      ]
     },
     "execution_count": 13,
     "metadata": {},
     "output_type": "execute_result"
    }
   ],
   "source": [
    "#df['Total'].max() ifadesi, belirli bir pandas DataFrame'deki 'Total' sütununun en yüksek değerini döndürecektir.\n",
    "df['Total'].max()"
   ]
  },
  {
   "cell_type": "code",
   "execution_count": 14,
   "id": "cd39405c-2462-4f5f-bc39-389cd96be3d1",
   "metadata": {},
   "outputs": [
    {
     "data": {
      "text/plain": [
       "(60459.598017717326,\n",
       " <bound method NDFrame._add_numeric_operations.<locals>.mean of 0       548.9715\n",
       " 1        80.2200\n",
       " 2       340.5255\n",
       " 3       489.0480\n",
       " 4       634.3785\n",
       "          ...    \n",
       " 995      42.3675\n",
       " 996    1022.4900\n",
       " 997      33.4320\n",
       " 998      69.1110\n",
       " 999     649.2990\n",
       " Name: Total, Length: 1000, dtype: float64>)"
      ]
     },
     "execution_count": 14,
     "metadata": {},
     "output_type": "execute_result"
    }
   ],
   "source": [
    "#df['Total'].max() : 'Total' sütununun en büyük değerini döndürür.\n",
    "#df['Total'].min() : 'Total' sütununun en küçük değerini döndürür.\n",
    "#df['Total'].std() : 'Total' sütununun standart sapmasını döndürür.\n",
    "#df['Total'].var() : 'Total' sütununun varyansını döndürür.\n",
    "#df['Total'].mean() : 'Total' sütununun ortalamasını döndürür.\n",
    "\n",
    "df['Total'].max(),\n",
    "df['Total'].min(),\n",
    "df['Total'].std(),\n",
    "df['Total'].var(), df['Total'].mean"
   ]
  },
  {
   "cell_type": "code",
   "execution_count": 15,
   "id": "1e2e41fb-07e9-4b07-887e-edb0f78e0e2c",
   "metadata": {},
   "outputs": [],
   "source": [
    "#Bu komut, df adlı pandas veri çerçevesindeki 'Date' sütunundaki değerleri tarih zaman damgası olarak tanımlamak için kullanılır.\n",
    "df['Date'] = pd.to_datetime(df['Date'])"
   ]
  },
  {
   "cell_type": "code",
   "execution_count": 16,
   "id": "c8ee8c75-5794-4660-be5b-a465e148160d",
   "metadata": {},
   "outputs": [],
   "source": [
    "#DataFrame'deki 'Date' sütunundaki tarih değerlerinden gün, ay ve yıl bilgilerini ayıklamak için kullanılır. \n",
    "#Aşağıdaki kodda, sırasıyla tarih sütunundaki gün, ay ve yıl bilgilerini elde etmek için kullanılır.\n",
    "df['day'] = (df['Date']).dt.day\n",
    "df['month'] = (df['Date']).dt.month\n",
    "df['year'] = (df['Date']).dt.year"
   ]
  },
  {
   "cell_type": "code",
   "execution_count": 17,
   "id": "d34dbf1e-aed2-4ad7-8396-4ff80bfe3ad3",
   "metadata": {},
   "outputs": [],
   "source": [
    "#DataFrame'deki 'Date' sütunundan ay bilgisini alır ve bunu ay isimlerine dönüştürür. \n",
    "df['month_name'] = df['Date'].dt.month_name()"
   ]
  },
  {
   "cell_type": "code",
   "execution_count": 18,
   "id": "2b7f20de-84aa-4a68-a7dd-e313f17dc877",
   "metadata": {},
   "outputs": [],
   "source": [
    "# DataFrame'deki 'Date' sütunundan haftanın günü bilgisini alır ve bu bilgiyi haftanın günlerinin isimlerine dönüştürür.\n",
    "df['weekday'] = df['Date'].dt.day_name()"
   ]
  },
  {
   "cell_type": "code",
   "execution_count": 19,
   "id": "acae2a7d-7e99-4537-9cbe-a35f4284e8d3",
   "metadata": {},
   "outputs": [],
   "source": [
    "#Bu komut, 'Time' sütunundaki verileri tarih ve saat nesnelerine dönüştürmek için kullanılır. \n",
    "df['Time'] = pd.to_datetime(df['Time'])"
   ]
  },
  {
   "cell_type": "code",
   "execution_count": 20,
   "id": "e242e277-b22d-488b-8ad9-6f9fc02e7b07",
   "metadata": {},
   "outputs": [],
   "source": [
    "#Bu komut, 'Time' sütunundan saat bilgilerini alır ve bunları ayrı bir 'Hour' sütununa ekler. \n",
    "df['Hour'] = (df['Time']).dt.hour"
   ]
  },
  {
   "cell_type": "code",
   "execution_count": 21,
   "id": "b49c2b2f-a587-4719-ace8-c86eb05b3538",
   "metadata": {},
   "outputs": [
    {
     "data": {
      "image/png": "[encoded data removed]",
      "text/plain": [
       "<Figure size 720x432 with 1 Axes>"
      ]
     },
     "metadata": {
      "needs_background": "light"
     },
     "output_type": "display_data"
    }
   ],
   "source": [
    "#Bu kodlar, bir çubuk grafik oluşturarak aylık işlem sayılarını görselleştirmeyi amaçlamaktadır.\n",
    "plt.figure(figsize=(10,6)) #figsize: grafiğin boyutunu belirler\n",
    "plt.title('Monthly transaction') #başlık belirler\n",
    "sns.countplot(df['month_name']) #çubuk grafik oluşturulur\n",
    "order=df['month_name'].value_counts().index #x ekseni için sıralama belirlenir\n",
    "plt.xticks(rotation=45); #x ekseni etiketlerinin dönüşü belirlenir."
   ]
  },
  {
   "cell_type": "code",
   "execution_count": 22,
   "id": "6ee2880f-4d96-4707-9207-23e7a7419ed6",
   "metadata": {},
   "outputs": [
    {
     "data": {
      "text/plain": [
       "<AxesSubplot:title={'center':'Male vs Female Customers'}, xlabel='Gender', ylabel='count'>"
      ]
     },
     "execution_count": 22,
     "metadata": {},
     "output_type": "execute_result"
    },
    {
     "data": {
      "image/png": "[encoded data removed]",
      "text/plain": [
       "<Figure size 576x432 with 1 Axes>"
      ]
     },
     "metadata": {
      "needs_background": "light"
     },
     "output_type": "display_data"
    }
   ],
   "source": [
    "#Bu kodlar, 'Gender' sütunundaki verilere dayalı olarak erkek ve kadın müşteri sayılarını görselleştirmeyi amaçlamaktadır. \n",
    "plt.figure(figsize=(8,6)) #grafik boyutu belirlenir\n",
    "plt.title('Male vs Female Customers') #grafiğin başlığı belirlenir\n",
    "sns.countplot(df['Gender']) # çubuk grafiği oluşturulur ve her cinsiyetin gözlenme sayısını gösterir."
   ]
  },
  {
   "cell_type": "code",
   "execution_count": 23,
   "id": "c4239342-ec3a-4a74-a383-2121e036146f",
   "metadata": {},
   "outputs": [
    {
     "data": {
      "text/plain": [
       "January     352\n",
       "March       345\n",
       "February    303\n",
       "Name: month_name, dtype: int64"
      ]
     },
     "execution_count": 23,
     "metadata": {},
     "output_type": "execute_result"
    }
   ],
   "source": [
    "#Bu komut, 'month_name' sütunundaki farklı değerlerin (ay isimleri) ne sıklıkla tekrarlandığının sayısını verir. \n",
    "df['month_name'].value_counts()"
   ]
  },
  {
   "cell_type": "code",
   "execution_count": 24,
   "id": "b9acf7d5-fa5e-414f-ac0b-7bab04190238",
   "metadata": {},
   "outputs": [
    {
     "data": {
      "text/plain": [
       "Saturday     164\n",
       "Tuesday      158\n",
       "Wednesday    143\n",
       "Friday       139\n",
       "Thursday     138\n",
       "Sunday       133\n",
       "Monday       125\n",
       "Name: weekday, dtype: int64"
      ]
     },
     "execution_count": 24,
     "metadata": {},
     "output_type": "execute_result"
    }
   ],
   "source": [
    "#Bu komut, 'weekday' sütunundaki farklı değerlerin (haftanın günleri) ne sıklıkla tekrarlandığının sayısını verir. \n",
    "df['weekday'].value_counts()"
   ]
  },
  {
   "cell_type": "code",
   "execution_count": 25,
   "id": "eb2b3ab0-b1bf-4c61-a8ce-fdfbeab05438",
   "metadata": {},
   "outputs": [
    {
     "data": {
      "image/png": "[encoded data removed]",
      "text/plain": [
       "<Figure size 432x288 with 1 Axes>"
      ]
     },
     "metadata": {
      "needs_background": "light"
     },
     "output_type": "display_data"
    }
   ],
   "source": [
    "#Bu kod, 'weekday' sütunundaki değerlerin sayısını sayar ve her bir gün için bir çubuk grafiği oluşturur. \n",
    "sns.countplot(df['weekday']);"
   ]
  },
  {
   "cell_type": "code",
   "execution_count": 26,
   "id": "ab9a8464-0c21-404b-bfe0-aca8cd0160aa",
   "metadata": {},
   "outputs": [
    {
     "data": {
      "text/plain": [
       "(array([0, 1, 2, 3, 4, 5, 6]),\n",
       " [Text(0, 0, 'Saturday'),\n",
       "  Text(1, 0, 'Friday'),\n",
       "  Text(2, 0, 'Sunday'),\n",
       "  Text(3, 0, 'Monday'),\n",
       "  Text(4, 0, 'Thursday'),\n",
       "  Text(5, 0, 'Wednesday'),\n",
       "  Text(6, 0, 'Tuesday')])"
      ]
     },
     "execution_count": 26,
     "metadata": {},
     "output_type": "execute_result"
    },
    {
     "data": {
      "image/png": "[encoded data removed]",
      "text/plain": [
       "<Figure size 432x288 with 1 Axes>"
      ]
     },
     "metadata": {
      "needs_background": "light"
     },
     "output_type": "display_data"
    }
   ],
   "source": [
    "#Bu kod, 'weekday' sütunundaki değerlerin sayısını sayar ve her bir gün için bir çubuk grafiği oluşturur. \n",
    "sns.countplot(df['weekday'])\n",
    "plt.xticks(rotation=45) #x eksenindeki etiketlerin 45 derece dönerek görünmesi sağlanır."
   ]
  },
  {
   "cell_type": "code",
   "execution_count": 27,
   "id": "cbfc0c1d-1352-4419-9f2c-e292588c279d",
   "metadata": {},
   "outputs": [
    {
     "data": {
      "text/plain": [
       "Text(0.5, 1.0, 'Transaction per month')"
      ]
     },
     "execution_count": 27,
     "metadata": {},
     "output_type": "execute_result"
    },
    {
     "data": {
      "image/png": "[encoded data removed]",
      "text/plain": [
       "<Figure size 576x576 with 1 Axes>"
      ]
     },
     "metadata": {},
     "output_type": "display_data"
    }
   ],
   "source": [
    "#Bu kodlar, aylara göre işlemlerin yüzde dağılımını gösteren bir pasta grafiği oluşturur. \n",
    "plt.figure(figsize=(8,8)) # grafik boyutunu belirler.\n",
    "explode = (0.1, 0.0, 0.0) #pasta dilimlerinin çıkarılma miktarını belirtir\n",
    "df['month_name'].value_counts().plot.pie(autopct= '%1.2f%%',\n",
    "                                        startangle=60, explode=explode) #komutu, pasta grafiğini oluşturur ve yüzde değerlerini gösterir. \n",
    "plt.title('Transaction per month') #komutuyla grafiğe bir başlık eklenir."
   ]
  },
  {
   "cell_type": "code",
   "execution_count": 28,
   "id": "3bf3cffc-ae7c-47c3-9557-f8a31c80530c",
   "metadata": {},
   "outputs": [
    {
     "data": {
      "text/plain": [
       "Text(0.5, 1.0, 'Transaciton per month')"
      ]
     },
     "execution_count": 28,
     "metadata": {},
     "output_type": "execute_result"
    },
    {
     "data": {
      "image/png": "[encoded data removed]",
      "text/plain": [
       "<Figure size 576x576 with 1 Axes>"
      ]
     },
     "metadata": {},
     "output_type": "display_data"
    }
   ],
   "source": [
    "#Bu kodlar, 'Product line' sütunundaki değerlere göre işlemlerin yüzde dağılımını gösteren bir pasta grafiği oluşturur. \n",
    "plt.figure(figsize=(8,8)) #grafik boyutu\n",
    "explode=(0.1,0.0,0.0,0,0,0) #pasta grafiklerinin çıkarılma miktarı\n",
    "df['Product line'].value_counts().plot.pie(autopct='%1.2f%%',\n",
    "                                          startangle = 60,\n",
    "                                          explode=explode)#pasta grafiğini oluşturur ve yüzde değerlerini gösterir\n",
    "plt.title('Transaciton per month') #grafiğe başlık eklenir"
   ]
  },
  {
   "cell_type": "code",
   "execution_count": 29,
   "id": "1455412e-3559-4c14-9c64-9c5034108ddd",
   "metadata": {},
   "outputs": [
    {
     "data": {
      "image/png": "[encoded data removed]",
      "text/plain": [
       "<Figure size 432x288 with 1 Axes>"
      ]
     },
     "metadata": {
      "needs_background": "light"
     },
     "output_type": "display_data"
    }
   ],
   "source": [
    "#Bu kod, 'Product line' sütunundaki farklı değerlerin sayısını sayar ve her bir ürün hattı için bir çubuk grafiği oluşturur. \n",
    "sns.countplot(df['Product line']);"
   ]
  },
  {
   "cell_type": "code",
   "execution_count": 30,
   "id": "4dfd1c02-d14e-4bdb-9d7c-03129f6048e8",
   "metadata": {},
   "outputs": [
    {
     "data": {
      "text/plain": [
       "(array([0, 1, 2, 3, 4, 5]),\n",
       " [Text(0, 0, 'Health and beauty'),\n",
       "  Text(1, 0, 'Electronic accessories'),\n",
       "  Text(2, 0, 'Home and lifestyle'),\n",
       "  Text(3, 0, 'Sports and travel'),\n",
       "  Text(4, 0, 'Food and beverages'),\n",
       "  Text(5, 0, 'Fashion accessories')])"
      ]
     },
     "execution_count": 30,
     "metadata": {},
     "output_type": "execute_result"
    },
    {
     "data": {
      "image/png": "[encoded data removed]",
      "text/plain": [
       "<Figure size 432x288 with 1 Axes>"
      ]
     },
     "metadata": {
      "needs_background": "light"
     },
     "output_type": "display_data"
    }
   ],
   "source": [
    "sns.countplot(df['Product line']) #'Product line' sütunundaki farklı değerlerin sayısını sayar ve her bir ürün hattı için bir çubuk grafiği oluşturur.\n",
    "plt.xticks(rotation=90) #u, x ekseni etiketlerinin 90 derece döndürür."
   ]
  },
  {
   "cell_type": "code",
   "execution_count": 31,
   "id": "747875b2-51b1-4f6d-8ec0-2109c60515a6",
   "metadata": {},
   "outputs": [
    {
     "data": {
      "image/png": "[encoded data removed]",
      "text/plain": [
       "<Figure size 864x432 with 1 Axes>"
      ]
     },
     "metadata": {
      "needs_background": "light"
     },
     "output_type": "display_data"
    }
   ],
   "source": [
    "# 'Product line' sütunundaki farklı değerlerin sayısını sayar ve her bir ürün hattı için bir çubuk grafiği oluşturur. \n",
    "plt.figure(figsize=(12,6)) #grafik boyutu\n",
    "plt.title('Total Monthly Transaction') #grafiğin başlığı\n",
    "sns.countplot(df['Product line']);"
   ]
  },
  {
   "cell_type": "code",
   "execution_count": 32,
   "id": "f2d7b661-3388-4af2-8861-02ebb369052e",
   "metadata": {},
   "outputs": [
    {
     "data": {
      "text/plain": [
       "(array([0, 1, 2, 3, 4, 5]),\n",
       " [Text(0, 0, 'Health and beauty'),\n",
       "  Text(1, 0, 'Electronic accessories'),\n",
       "  Text(2, 0, 'Home and lifestyle'),\n",
       "  Text(3, 0, 'Sports and travel'),\n",
       "  Text(4, 0, 'Food and beverages'),\n",
       "  Text(5, 0, 'Fashion accessories')])"
      ]
     },
     "execution_count": 32,
     "metadata": {},
     "output_type": "execute_result"
    },
    {
     "data": {
      "image/png": "[encoded data removed]",
      "text/plain": [
       "<Figure size 864x432 with 1 Axes>"
      ]
     },
     "metadata": {
      "needs_background": "light"
     },
     "output_type": "display_data"
    }
   ],
   "source": [
    "#Erkekler ve kadınlar hangi üsünlerden alışveriş yapmış o bilgiyi verir.\n",
    "#Bu kodlar, 'Product line' sütunundaki farklı değerlerin sayısını, cinsiyete göre gruplandırarak ve çubuk grafiğinde renklerle ayrılarak gösterir. \n",
    "plt.figure(figsize=(12,6)) #grafik boyutu\n",
    "plt.title('Total Monthly Transaction') #başlık\n",
    "sns.countplot(df['Product line'], hue=df.Gender) #çubuk grafiği oluşturulur ve cinsiyete göre gruplanır\n",
    "plt.xticks(rotation=45) #x ekseni etiketlerini 45 derece döndürür"
   ]
  },
  {
   "cell_type": "code",
   "execution_count": 33,
   "id": "95900b6b-12ac-4d09-8572-85c00f2e3f45",
   "metadata": {},
   "outputs": [
    {
     "data": {
      "image/png": "[encoded data removed]",
      "text/plain": [
       "<Figure size 864x432 with 1 Axes>"
      ]
     },
     "metadata": {
      "needs_background": "light"
     },
     "output_type": "display_data"
    }
   ],
   "source": [
    "#Bu kodlar, 'Branch' ve 'Product line' sütunlarındaki değerleri kullanarak bir çubuk grafiği oluşturur ve bu değerleri şubelere göre gruplandırır. \n",
    "plt.figure(figsize=(12, 6)) #boyut\n",
    "plt.title('Total Monthly Transaction') #başlık\n",
    "sns.countplot(df['Branch'], hue=df['Product line']); #çubuk grafiğini oluşturur ve şubelere göre ürün hatlarını gruplandırır."
   ]
  },
  {
   "cell_type": "code",
   "execution_count": 34,
   "id": "69eeed84-13f4-40a5-8e2f-6c86a186b5a3",
   "metadata": {},
   "outputs": [
    {
     "data": {
      "image/png": "[encoded data removed]",
      "text/plain": [
       "<Figure size 432x288 with 1 Axes>"
      ]
     },
     "metadata": {
      "needs_background": "light"
     },
     "output_type": "display_data"
    }
   ],
   "source": [
    "#Bu kod, 'Customer type' sütunundaki farklı değerlerin sayısını sayar ve her bir müşteri türü için bir çubuk grafiği oluşturur.(Member ve Normal)\n",
    "plt.title('Count plot of customer types')\n",
    "sns.countplot(df['Customer type']);"
   ]
  },
  {
   "cell_type": "code",
   "execution_count": 35,
   "id": "3d72724f-5ff2-4872-a020-12b64e71ad52",
   "metadata": {},
   "outputs": [
    {
     "data": {
      "image/png": "[encoded data removed]",
      "text/plain": [
       "<Figure size 432x288 with 1 Axes>"
      ]
     },
     "metadata": {
      "needs_background": "light"
     },
     "output_type": "display_data"
    }
   ],
   "source": [
    "#Bu kod, 'City' sütunu ile 'Branch' sütununu kullanarak her şehirdeki şubelerin sayısını görselleştirmek için bir çubuk grafiği oluşturur. \n",
    "plt.title('Total Monthly transaciton')\n",
    "sns.countplot(df['City'], hue=df['Branch']); #her şehirdeki şubeleri farklı renklerle ayırarak gösterir."
   ]
  },
  {
   "cell_type": "code",
   "execution_count": 36,
   "id": "e660a940-b604-4356-aec3-015b82981ad6",
   "metadata": {},
   "outputs": [
    {
     "data": {
      "image/png": "[encoded data removed]",
      "text/plain": [
       "<Figure size 432x288 with 1 Axes>"
      ]
     },
     "metadata": {
      "needs_background": "light"
     },
     "output_type": "display_data"
    }
   ],
   "source": [
    "#Bu kod, her bir şehirdeki indeks değerlerini çubuklarla gösteren bir çubuk grafiği oluşturur.\n",
    "sns.barplot(x=df['City'], y=df.index, palette='hot'); #her bir şehirdeki indeks değerlerini gösterir. 'palette' parametresi renk paletini belirler."
   ]
  },
  {
   "cell_type": "code",
   "execution_count": 37,
   "id": "6a606ed5-4fac-452b-aa37-fb60725439b5",
   "metadata": {},
   "outputs": [
    {
     "data": {
      "image/png": "[encoded data removed]",
      "text/plain": [
       "<Figure size 432x288 with 1 Axes>"
      ]
     },
     "metadata": {
      "needs_background": "light"
     },
     "output_type": "display_data"
    }
   ],
   "source": [
    "#Bu kod, her bir şehirde cinsiyetlere göre satın alma sıklığını göstermek için bir çubuk grafiği oluşturur. \n",
    "plt.title('Frequency of purchases genderwise')\n",
    "sns.countplot(df['City'], hue=df['Gender']); #her bir şehirdeki cinsiyetlere göre satın alma sayısını farklı renklerle gösterir."
   ]
  },
  {
   "cell_type": "code",
   "execution_count": 38,
   "id": "6a67080a-bbea-45d5-bc90-d8bbafc37129",
   "metadata": {},
   "outputs": [
    {
     "data": {
      "image/png": "[encoded data removed]",
      "text/plain": [
       "<Figure size 432x288 with 1 Axes>"
      ]
     },
     "metadata": {
      "needs_background": "light"
     },
     "output_type": "display_data"
    }
   ],
   "source": [
    "#Bu kod, ödeme yöntemlerinin her birinin indeks değerlerini çubuklarla gösteren bir çubuk grafiği oluşturur.\n",
    "sns.barplot(x=df.Payment, y=df.index); #ödeme yöntemlerinin her birinin indeks değerlerini gösterir."
   ]
  },
  {
   "cell_type": "code",
   "execution_count": 39,
   "id": "baf00369-5bae-4652-90df-b835bb98ca71",
   "metadata": {},
   "outputs": [
    {
     "data": {
      "image/png": "[encoded data removed]",
      "text/plain": [
       "<Figure size 864x432 with 1 Axes>"
      ]
     },
     "metadata": {
      "needs_background": "light"
     },
     "output_type": "display_data"
    }
   ],
   "source": [
    "#Bu kod, 'Product line' sütunundaki verilerin 'gross income' sütununa göre çubuk grafik ile görselleştirilmesini sağlar.\n",
    "plt.figure(figsize=(12,6))\n",
    "sns.barplot(x=df['Product line'], y=df['gross income']); #'Product line' sütununun 'gross income' sütununa göre çubuk grafik ile gösterilmesini sağlar."
   ]
  },
  {
   "cell_type": "code",
   "execution_count": 40,
   "id": "5b6f90b0-32d7-4dab-b429-9db8992ef731",
   "metadata": {},
   "outputs": [
    {
     "data": {
      "image/png": "[encoded data removed]",
      "text/plain": [
       "<Figure size 864x432 with 1 Axes>"
      ]
     },
     "metadata": {
      "needs_background": "light"
     },
     "output_type": "display_data"
    }
   ],
   "source": [
    "#Bu kod, 'Product line' sütunundaki verilerin 'gross income' sütununa göre çubuk grafik ile görselleştirilmesini sağlar. \n",
    "plt.figure(figsize=(12,6))\n",
    "sns.barplot(x=df['Product line'], y=df['gross income'])\n",
    "plt.xticks(rotation=60); #komutu, x eksenindeki etiketlerin 60 derece dönmesini sağlar."
   ]
  },
  {
   "cell_type": "code",
   "execution_count": 41,
   "id": "f3cd6df2-b9ea-4b58-ba25-48b065a82a6d",
   "metadata": {},
   "outputs": [
    {
     "data": {
      "text/plain": [
       "<AxesSubplot:xlabel='Rating', ylabel='Product line'>"
      ]
     },
     "execution_count": 41,
     "metadata": {},
     "output_type": "execute_result"
    },
    {
     "data": {
      "image/png": "[encoded data removed]",
      "text/plain": [
       "<Figure size 864x432 with 1 Axes>"
      ]
     },
     "metadata": {
      "needs_background": "light"
     },
     "output_type": "display_data"
    }
   ],
   "source": [
    "#Bu kod, 'Product line' sütunundaki verilere göre 'Rating' sütununu çubuk grafikle görselleştirir. \n",
    "plt.figure(figsize=(12,6))\n",
    "sns.barplot(y=df['Product line'], x=df['Rating']) #komutu, 'Product line' sütununun 'Rating' sütununa göre çubuk grafikle gösterilmesini sağlar."
   ]
  },
  {
   "cell_type": "code",
   "execution_count": 42,
   "id": "f48818af-97fa-4b65-97f4-4d2f64a59e3c",
   "metadata": {},
   "outputs": [
    {
     "data": {
      "text/plain": [
       "<AxesSubplot:xlabel='Total', ylabel='Product line'>"
      ]
     },
     "execution_count": 42,
     "metadata": {},
     "output_type": "execute_result"
    },
    {
     "data": {
      "image/png": "[encoded data removed]",
      "text/plain": [
       "<Figure size 864x432 with 1 Axes>"
      ]
     },
     "metadata": {
      "needs_background": "light"
     },
     "output_type": "display_data"
    }
   ],
   "source": [
    "#Bu kod, 'Total' sütunundaki değerlere göre 'Product line' sütununu çubuk grafikle görselleştirir. \n",
    "plt.figure(figsize=(12,6))\n",
    "sns.barplot(x=df['Total'],y=df['Product line'])"
   ]
  },
  {
   "cell_type": "code",
   "execution_count": 43,
   "id": "79240961-de40-456c-8b98-afdee9f9b12a",
   "metadata": {},
   "outputs": [
    {
     "data": {
      "image/png": "[encoded data removed]",
      "text/plain": [
       "<Figure size 864x432 with 1 Axes>"
      ]
     },
     "metadata": {
      "needs_background": "light"
     },
     "output_type": "display_data"
    }
   ],
   "source": [
    "#Bu kod, 'Quantity' sütunundaki değerlerin dağılımını gösteren bir yoğunluk grafiği oluşturur. \n",
    "plt.figure(figsize=(12,6))\n",
    "sns.distplot(df['Quantity']); #komutu, 'Quantity' sütununun dağılımını gösteren bir yoğunluk grafiği oluşturur."
   ]
  },
  {
   "cell_type": "code",
   "execution_count": 44,
   "id": "f3c8ab0d-88be-43eb-aeb8-a8b1cc5d391d",
   "metadata": {},
   "outputs": [
    {
     "data": {
      "text/plain": [
       "11"
      ]
     },
     "execution_count": 44,
     "metadata": {},
     "output_type": "execute_result"
    }
   ],
   "source": [
    "#Bu komut, 'Hour' sütunundaki benzersiz saat değerlerinin sayısını döndürür.\n",
    "df['Hour'].nunique()"
   ]
  },
  {
   "cell_type": "code",
   "execution_count": 45,
   "id": "d0876089-3951-4d56-b9bb-684fd7a80fe5",
   "metadata": {},
   "outputs": [
    {
     "data": {
      "text/plain": [
       "array([13, 10, 20, 18, 14, 11, 17, 16, 19, 15, 12], dtype=int64)"
      ]
     },
     "execution_count": 45,
     "metadata": {},
     "output_type": "execute_result"
    }
   ],
   "source": [
    "#Bu komut, 'Hour' sütunundaki benzersiz saat değerlerini döndürür. \n",
    "df['Hour'].unique()"
   ]
  },
  {
   "cell_type": "code",
   "execution_count": 46,
   "id": "66ad9f67-5652-44b9-998f-b09eae8f994e",
   "metadata": {},
   "outputs": [
    {
     "data": {
      "text/html": [
       "<div>\n",
       "<style scoped>\n",
       "    .dataframe tbody tr th:only-of-type {\n",
       "        vertical-align: middle;\n",
       "    }\n",
       "\n",
       "    .dataframe tbody tr th {\n",
       "        vertical-align: top;\n",
       "    }\n",
       "\n",
       "    .dataframe thead th {\n",
       "        text-align: right;\n",
       "    }\n",
       "</style>\n",
       "<table border=\"1\" class=\"dataframe\">\n",
       "  <thead>\n",
       "    <tr style=\"text-align: right;\">\n",
       "      <th></th>\n",
       "      <th>Unit price</th>\n",
       "      <th>Quantity</th>\n",
       "      <th>Tax 5%</th>\n",
       "      <th>Total</th>\n",
       "      <th>cogs</th>\n",
       "      <th>gross margin percentage</th>\n",
       "      <th>gross income</th>\n",
       "      <th>Rating</th>\n",
       "      <th>day</th>\n",
       "      <th>month</th>\n",
       "      <th>year</th>\n",
       "      <th>Hour</th>\n",
       "    </tr>\n",
       "  </thead>\n",
       "  <tbody>\n",
       "    <tr>\n",
       "      <th>count</th>\n",
       "      <td>1000.000000</td>\n",
       "      <td>1000.000000</td>\n",
       "      <td>1000.000000</td>\n",
       "      <td>1000.000000</td>\n",
       "      <td>1000.00000</td>\n",
       "      <td>1.000000e+03</td>\n",
       "      <td>1000.000000</td>\n",
       "      <td>1000.00000</td>\n",
       "      <td>1000.000000</td>\n",
       "      <td>1000.000000</td>\n",
       "      <td>1000.0</td>\n",
       "      <td>1000.000000</td>\n",
       "    </tr>\n",
       "    <tr>\n",
       "      <th>mean</th>\n",
       "      <td>55.672130</td>\n",
       "      <td>5.510000</td>\n",
       "      <td>15.379369</td>\n",
       "      <td>322.966749</td>\n",
       "      <td>307.58738</td>\n",
       "      <td>4.761905e+00</td>\n",
       "      <td>15.379369</td>\n",
       "      <td>6.97270</td>\n",
       "      <td>15.256000</td>\n",
       "      <td>1.993000</td>\n",
       "      <td>2019.0</td>\n",
       "      <td>14.910000</td>\n",
       "    </tr>\n",
       "    <tr>\n",
       "      <th>std</th>\n",
       "      <td>26.494628</td>\n",
       "      <td>2.923431</td>\n",
       "      <td>11.708825</td>\n",
       "      <td>245.885335</td>\n",
       "      <td>234.17651</td>\n",
       "      <td>6.131498e-14</td>\n",
       "      <td>11.708825</td>\n",
       "      <td>1.71858</td>\n",
       "      <td>8.693563</td>\n",
       "      <td>0.835254</td>\n",
       "      <td>0.0</td>\n",
       "      <td>3.186857</td>\n",
       "    </tr>\n",
       "    <tr>\n",
       "      <th>min</th>\n",
       "      <td>10.080000</td>\n",
       "      <td>1.000000</td>\n",
       "      <td>0.508500</td>\n",
       "      <td>10.678500</td>\n",
       "      <td>10.17000</td>\n",
       "      <td>4.761905e+00</td>\n",
       "      <td>0.508500</td>\n",
       "      <td>4.00000</td>\n",
       "      <td>1.000000</td>\n",
       "      <td>1.000000</td>\n",
       "      <td>2019.0</td>\n",
       "      <td>10.000000</td>\n",
       "    </tr>\n",
       "    <tr>\n",
       "      <th>25%</th>\n",
       "      <td>32.875000</td>\n",
       "      <td>3.000000</td>\n",
       "      <td>5.924875</td>\n",
       "      <td>124.422375</td>\n",
       "      <td>118.49750</td>\n",
       "      <td>4.761905e+00</td>\n",
       "      <td>5.924875</td>\n",
       "      <td>5.50000</td>\n",
       "      <td>8.000000</td>\n",
       "      <td>1.000000</td>\n",
       "      <td>2019.0</td>\n",
       "      <td>12.000000</td>\n",
       "    </tr>\n",
       "    <tr>\n",
       "      <th>50%</th>\n",
       "      <td>55.230000</td>\n",
       "      <td>5.000000</td>\n",
       "      <td>12.088000</td>\n",
       "      <td>253.848000</td>\n",
       "      <td>241.76000</td>\n",
       "      <td>4.761905e+00</td>\n",
       "      <td>12.088000</td>\n",
       "      <td>7.00000</td>\n",
       "      <td>15.000000</td>\n",
       "      <td>2.000000</td>\n",
       "      <td>2019.0</td>\n",
       "      <td>15.000000</td>\n",
       "    </tr>\n",
       "    <tr>\n",
       "      <th>75%</th>\n",
       "      <td>77.935000</td>\n",
       "      <td>8.000000</td>\n",
       "      <td>22.445250</td>\n",
       "      <td>471.350250</td>\n",
       "      <td>448.90500</td>\n",
       "      <td>4.761905e+00</td>\n",
       "      <td>22.445250</td>\n",
       "      <td>8.50000</td>\n",
       "      <td>23.000000</td>\n",
       "      <td>3.000000</td>\n",
       "      <td>2019.0</td>\n",
       "      <td>18.000000</td>\n",
       "    </tr>\n",
       "    <tr>\n",
       "      <th>max</th>\n",
       "      <td>99.960000</td>\n",
       "      <td>10.000000</td>\n",
       "      <td>49.650000</td>\n",
       "      <td>1042.650000</td>\n",
       "      <td>993.00000</td>\n",
       "      <td>4.761905e+00</td>\n",
       "      <td>49.650000</td>\n",
       "      <td>10.00000</td>\n",
       "      <td>31.000000</td>\n",
       "      <td>3.000000</td>\n",
       "      <td>2019.0</td>\n",
       "      <td>20.000000</td>\n",
       "    </tr>\n",
       "  </tbody>\n",
       "</table>\n",
       "</div>"
      ],
      "text/plain": [
       "        Unit price     Quantity       Tax 5%        Total        cogs  \\\n",
       "count  1000.000000  1000.000000  1000.000000  1000.000000  1000.00000   \n",
       "mean     55.672130     5.510000    15.379369   322.966749   307.58738   \n",
       "std      26.494628     2.923431    11.708825   245.885335   234.17651   \n",
       "min      10.080000     1.000000     0.508500    10.678500    10.17000   \n",
       "25%      32.875000     3.000000     5.924875   124.422375   118.49750   \n",
       "50%      55.230000     5.000000    12.088000   253.848000   241.76000   \n",
       "75%      77.935000     8.000000    22.445250   471.350250   448.90500   \n",
       "max      99.960000    10.000000    49.650000  1042.650000   993.00000   \n",
       "\n",
       "       gross margin percentage  gross income      Rating          day  \\\n",
       "count             1.000000e+03   1000.000000  1000.00000  1000.000000   \n",
       "mean              4.761905e+00     15.379369     6.97270    15.256000   \n",
       "std               6.131498e-14     11.708825     1.71858     8.693563   \n",
       "min               4.761905e+00      0.508500     4.00000     1.000000   \n",
       "25%               4.761905e+00      5.924875     5.50000     8.000000   \n",
       "50%               4.761905e+00     12.088000     7.00000    15.000000   \n",
       "75%               4.761905e+00     22.445250     8.50000    23.000000   \n",
       "max               4.761905e+00     49.650000    10.00000    31.000000   \n",
       "\n",
       "             month    year         Hour  \n",
       "count  1000.000000  1000.0  1000.000000  \n",
       "mean      1.993000  2019.0    14.910000  \n",
       "std       0.835254     0.0     3.186857  \n",
       "min       1.000000  2019.0    10.000000  \n",
       "25%       1.000000  2019.0    12.000000  \n",
       "50%       2.000000  2019.0    15.000000  \n",
       "75%       3.000000  2019.0    18.000000  \n",
       "max       3.000000  2019.0    20.000000  "
      ]
     },
     "execution_count": 46,
     "metadata": {},
     "output_type": "execute_result"
    }
   ],
   "source": [
    "df.describe() #her sutun için ortalama min, max, std vb. hesaplar."
   ]
  },
  {
   "cell_type": "code",
   "execution_count": 47,
   "id": "e57b527f-9561-4bdd-abef-64f8369aea65",
   "metadata": {},
   "outputs": [
    {
     "data": {
      "text/plain": [
       "array(['Saturday', 'Friday', 'Sunday', 'Monday', 'Thursday', 'Wednesday',\n",
       "       'Tuesday'], dtype=object)"
      ]
     },
     "execution_count": 47,
     "metadata": {},
     "output_type": "execute_result"
    }
   ],
   "source": [
    "#Bu komut, 'weekday' sütunundaki benzersiz haftanın günü değerlerini döndürür.\n",
    "df['weekday'].unique()"
   ]
  }
 ],
 "metadata": {
  "kernelspec": {
   "display_name": "Python 3 (ipykernel)",
   "language": "python",
   "name": "python3"
  },
  "language_info": {
   "codemirror_mode": {
    "name": "ipython",
    "version": 3
   },
   "file_extension": ".py",
   "mimetype": "text/x-python",
   "name": "python",
   "nbconvert_exporter": "python",
   "pygments_lexer": "ipython3",
   "version": "3.9.12"
  }
 },
 "nbformat": 4,
 "nbformat_minor": 5
}
