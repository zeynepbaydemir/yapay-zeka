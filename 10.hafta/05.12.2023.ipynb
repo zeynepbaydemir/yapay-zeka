{
 "cells": [
  {
   "cell_type": "code",
   "execution_count": 1,
   "id": "78c52ab0-465e-4c4b-813a-5b74ed7595ae",
   "metadata": {},
   "outputs": [],
   "source": [
    "import requests\n",
    "from bs4 import BeautifulSoup\n",
    "import pickle"
   ]
  },
  {
   "cell_type": "code",
   "execution_count": 2,
   "id": "99a1a893-8450-4916-8feb-e029e6fcf22e",
   "metadata": {
    "tags": []
   },
   "outputs": [],
   "source": [
    "#pip install parser-libraries"
   ]
  },
  {
   "cell_type": "code",
   "execution_count": 3,
   "id": "213bcaf4-cb60-44ab-9679-72007afd237a",
   "metadata": {},
   "outputs": [],
   "source": [
    "#pip install lxml"
   ]
  },
  {
   "cell_type": "code",
   "execution_count": 4,
   "id": "03b4eadd-f02e-4e19-9290-81f7323ae0bb",
   "metadata": {},
   "outputs": [],
   "source": [
    "def url_to_transcript(url):\n",
    "    page=requests.get(url).text\n",
    "    soup=BeautifulSoup(page,\"lxml\")\n",
    "    text=[p.text for p in soup.find(class_=\"elementor-element elementor-element-74af9a5b elementor-widget elementor-widget-theme-post-content\").find_all('p')]\n",
    "    print(url)\n",
    "    return text\n",
    "\n",
    "urls = ['http://scrapsfromtheloft.com/2017/05/06/louis-ck-oh-my-god-full-transcript/',\n",
    "        'http://scrapsfromtheloft.com/2017/04/11/dave-chappelle-age-spin-2017-full-transcript/',\n",
    "        'http://scrapsfromtheloft.com/2018/03/15/ricky-gervais-humanity-transcript/',\n",
    "      ]\n",
    "\n",
    "# Comedian names\n",
    "comedians = ['louis', 'dave', 'ricky']"
   ]
  },
  {
   "cell_type": "code",
   "execution_count": 5,
   "id": "0b5f9597-6524-407e-a94f-e2541e99706e",
   "metadata": {},
   "outputs": [
    {
     "name": "stdout",
     "output_type": "stream",
     "text": [
      "http://scrapsfromtheloft.com/2017/05/06/louis-ck-oh-my-god-full-transcript/\n",
      "http://scrapsfromtheloft.com/2017/04/11/dave-chappelle-age-spin-2017-full-transcript/\n",
      "http://scrapsfromtheloft.com/2018/03/15/ricky-gervais-humanity-transcript/\n"
     ]
    }
   ],
   "source": [
    "transcripts = [url_to_transcript(u) for u in urls]"
   ]
  },
  {
   "cell_type": "code",
   "execution_count": null,
   "id": "def58d41-a98f-4ef9-8e9c-62bf8379c62f",
   "metadata": {},
   "outputs": [],
   "source": []
  },
  {
   "cell_type": "code",
   "execution_count": 6,
   "id": "eadc3aa6-d4a9-409e-80f8-e0c66043b795",
   "metadata": {},
   "outputs": [
    {
     "name": "stdout",
     "output_type": "stream",
     "text": [
      "http://scrapsfromtheloft.com/2017/05/06/louis-ck-oh-my-god-full-transcript/\n",
      "http://scrapsfromtheloft.com/2017/04/11/dave-chappelle-age-spin-2017-full-transcript/\n",
      "http://scrapsfromtheloft.com/2018/03/15/ricky-gervais-humanity-transcript/\n"
     ]
    }
   ],
   "source": [
    "transcripts = [url_to_transcript(u) for u in urls]"
   ]
  },
  {
   "cell_type": "code",
   "execution_count": 7,
   "id": "ef74210b-b10c-4a3f-b5bb-630fcda7c34f",
   "metadata": {},
   "outputs": [
    {
     "name": "stderr",
     "output_type": "stream",
     "text": [
      "A subdirectory or file transcripts already exists.\n"
     ]
    }
   ],
   "source": [
    "!mkdir transcripts\n",
    "\n",
    "for i, c in enumerate(comedians):\n",
    "    with open('transcripts/' + c + '.txt', 'wb') as file:\n",
    "        pickle.dump(transcripts[i], file)"
   ]
  },
  {
   "cell_type": "code",
   "execution_count": null,
   "id": "20c60d2c-c788-4090-9918-1d36440efc1f",
   "metadata": {},
   "outputs": [],
   "source": [
    "data={}\n",
    "for i, c in enumerate(comedians):\n",
    "    with open('transcripts/' + c + '.txt', 'rb') as file:\n",
    "        data[c] = pickle.load(file)"
   ]
  },
  {
   "cell_type": "code",
   "execution_count": 9,
   "id": "7f6c500f-4951-4b87-80bd-ecdb2790ae4a",
   "metadata": {},
   "outputs": [
    {
     "data": {
      "text/plain": [
       "dict_keys(['louis', 'dave', 'ricky'])"
      ]
     },
     "execution_count": 9,
     "metadata": {},
     "output_type": "execute_result"
    }
   ],
   "source": [
    "data.keys()"
   ]
  },
  {
   "cell_type": "code",
   "execution_count": 10,
   "id": "24d83323-2520-4006-8bc8-8ae8788f4353",
   "metadata": {},
   "outputs": [
    {
     "data": {
      "text/plain": [
       "['Intro Fade the music out. Let’s roll. Hold there. Lights. Do the lights. Thank you. Thank you very much. I appreciate that. I don’t necessarily agree with you, but I appreciate very much. Well, this is a nice place. This is easily the nicest place For many miles in every direction. That’s how you compliment a building And shit on a town with one sentence. It is odd around here, as I was driving here. There doesn’t seem to be any difference Between the sidewalk and the street for pedestrians here. People just kind of walk in the middle of the road. I love traveling And seeing all the different parts of the country. I live in New York. I live in a– There’s no value to your doing that at all.',\n",
       " '“The Old Lady And The Dog” I live– I live in New York. I always– Like, there’s this old lady in my neighborhood, And she’s always walking her dog. She’s always just– she’s very old. She just stands there just being old, And the dog just fights gravity every day, just– The two of them, it’s really– The dog’s got a cloudy eye, and she’s got a cloudy eye, And they just stand there looking at the street In two dimensions together, and– And she’s always wearing, like, this old sweater dress. I guess it was a sweater when she was, like, 5’10”, But now it’s just, like, this sweater And her legs are– her legs are a nightmare. They’re just white with green streaks and bones sticking out. Her legs are awful. I saw a guy with no legs wheeling by, And he was like, “yecch, no thank you. “I do not want those. “I’d rather just have air down here like I have Than to look down at that shit.” I see these two all the time, and I always look at them, And I always think, “god, I hope she dies first.” I do. I hope she dies first, for her sake, Because I don’t want her to lose the dog. I don’t think she’ll be able to handle it. If she dies– If the old lady dies first, I’m not worried about the dog Because the dog doesn’t even know about the old lady. This dog is aware of three inches around his head. He’s living in two-second increments. The second he’s in and the one he just left Is all he knows about, But if he dies, this lady, she’s gonna be destroyed Because this dog is all she has, And I know he’s all she has because she has him. There’s no– If she had one person in her life, She would not keep this piece of shit little dog. Even if just some young woman in her building one morning Were to say, “good morning, gladys,” She’d be like, “good,” And just flush him down the toilet, just– Poom! Poom! The dog just keeps bumping on the drain. Poom! “” she gives up. Ends up just shitting on her dog for the rest of her life. P-p-p! Poom!']"
      ]
     },
     "execution_count": 10,
     "metadata": {},
     "output_type": "execute_result"
    }
   ],
   "source": [
    "data['louis'][:2]"
   ]
  },
  {
   "cell_type": "markdown",
   "id": "0e91ffa1-fc63-44f5-8b28-82619062c4c3",
   "metadata": {},
   "source": [
    "## Cleaning the data"
   ]
  },
  {
   "cell_type": "code",
   "execution_count": 11,
   "id": "3c3899dd-d355-46bd-b0cc-aa9cc343d28e",
   "metadata": {},
   "outputs": [],
   "source": [
    "def combine_text(list_of_text):\n",
    "    '''Takes a list of text and combines them into one large chunk of text'''\n",
    "    combined_text = ' '.join(list_of_text)\n",
    "    return combined_text"
   ]
  },
  {
   "cell_type": "code",
   "execution_count": 12,
   "id": "1d8e3660-9b39-4594-a2a2-76cfd12c2211",
   "metadata": {},
   "outputs": [],
   "source": [
    "data_combined={key: [combine_text(value)] for (key,value) in data.items()} "
   ]
  },
  {
   "cell_type": "code",
   "execution_count": 14,
   "id": "033d9402-8086-4641-a317-d0f9d13ca880",
   "metadata": {},
   "outputs": [
    {
     "data": {
      "text/html": [
       "<div>\n",
       "<style scoped>\n",
       "    .dataframe tbody tr th:only-of-type {\n",
       "        vertical-align: middle;\n",
       "    }\n",
       "\n",
       "    .dataframe tbody tr th {\n",
       "        vertical-align: top;\n",
       "    }\n",
       "\n",
       "    .dataframe thead th {\n",
       "        text-align: right;\n",
       "    }\n",
       "</style>\n",
       "<table border=\"1\" class=\"dataframe\">\n",
       "  <thead>\n",
       "    <tr style=\"text-align: right;\">\n",
       "      <th></th>\n",
       "      <th>transcript</th>\n",
       "    </tr>\n",
       "  </thead>\n",
       "  <tbody>\n",
       "    <tr>\n",
       "      <th>dave</th>\n",
       "      <td>This is Dave. He tells dirty jokes for a living. That stare is where most of his hard work happens. It signifies a profound train of thought, the ...</td>\n",
       "    </tr>\n",
       "    <tr>\n",
       "      <th>louis</th>\n",
       "      <td>Intro Fade the music out. Let’s roll. Hold there. Lights. Do the lights. Thank you. Thank you very much. I appreciate that. I don’t necessarily ag...</td>\n",
       "    </tr>\n",
       "    <tr>\n",
       "      <th>ricky</th>\n",
       "      <td>Hello. Hello! How you doing? Great. Thank you. Wow. Calm down. Shut the fuck up. Thank you. What a lovely welcome. I’m gonna try my hardest tonigh...</td>\n",
       "    </tr>\n",
       "  </tbody>\n",
       "</table>\n",
       "</div>"
      ],
      "text/plain": [
       "                                                                                                                                                  transcript\n",
       "dave   This is Dave. He tells dirty jokes for a living. That stare is where most of his hard work happens. It signifies a profound train of thought, the ...\n",
       "louis  Intro Fade the music out. Let’s roll. Hold there. Lights. Do the lights. Thank you. Thank you very much. I appreciate that. I don’t necessarily ag...\n",
       "ricky  Hello. Hello! How you doing? Great. Thank you. Wow. Calm down. Shut the fuck up. Thank you. What a lovely welcome. I’m gonna try my hardest tonigh..."
      ]
     },
     "execution_count": 14,
     "metadata": {},
     "output_type": "execute_result"
    }
   ],
   "source": [
    "import pandas as pd\n",
    "pd.set_option('max_colwidth', 150)\n",
    "\n",
    "data_df = pd.DataFrame.from_dict(data_combined).transpose()\n",
    "data_df.columns=['transcript']\n",
    "data_df=data_df.sort_index()\n",
    "data_df"
   ]
  },
  {
   "cell_type": "code",
   "execution_count": 16,
   "id": "10905fad-82f5-4b79-b700-b4f765cd942b",
   "metadata": {
    "collapsed": true,
    "jupyter": {
     "outputs_hidden": true
    },
    "tags": []
   },
   "outputs": [
    {
     "data": {
      "text/plain": [
       "'This is Dave. He tells dirty jokes for a living. That stare is where most of his hard work happens. It signifies a profound train of thought, the alchemist’s fire that transforms fear and tragedy into levity and livelihood. Dave calls that look “the trance.” ♪ Play me ♪ ♪ Buy me ♪ ♪ Workinonit ♪ ♪ Tune up ♪ ♪ Tune ♪ ♪ Oh ♪  ♪ Fade me ♪ ♪ Ah-ah, ah-ah, ah-ah ♪ ♪ In every ghetto ♪ ♪ Ah-ah, ah-ah, ah-ah ♪ ♪ In every ghetto ♪ ♪ Ah-ah, ah-ah, ah-ah ♪ ♪ In every ghetto ♪ ♪ Ah-ah, ah-ah, ah-ah ♪ ♪ In every ghetto ♪ ♪ Ah-ah, ah-ah, ah-ah ♪ ♪ In every ghetto ♪ ♪ Ah-ah, ah-ah, ah-ah ♪ ♪ In every ghetto ♪ ♪ Ah-ah, ah-ah, ah-ah ♪ Thank you! Thank you very much! Thank you all. Oh, wow. That was exciting, wasn’t it? Thank you, guys. Have a seat, feel comfortable, relax. I want to thank everyone in LA for a wonderful week. It’s been great here. You know what? It’s been ten years since the last time I played Los Angeles, if you can imagine. I know! I know, I’ve been gone for a very long time. And unbeknownst to you, it was a difficult ten years. I’m not gonna take you through all the agony I’ve been through, but it was tough. Some of it you might’ve seen. I don’t know if you ever saw on TMZ the big headline: “Dave Chappelle Drunk Onstage in Detroit.” Well, if you saw it, I wasn’t drunk. I had smoked some reefer… with some rappers. Yeah. I don’t know if you know anything about hanging out with rappers, but their weed is very strong, stronger than I what I was accustomed to. The article goes on to say I was booed offstage, which is also incorrect. I was booed. I did not leave. It was a long bomb. It was a fucking nightmare. Two puffs of weed, that’s all it was. Two puffs. I never had that happen, where I take two puffs of weed, I looked at the guy next to me, I was like, “I’m gonna bomb, n i g g a. I can feel it.” And that guy called my name. “Dave Chappelle!” N i g g a s was like… Normally, when you do a comedy show– you guys don’t know what it looks like up here, but n i g g a s be just looking up at you like… That’s how the show started. Didn’t take long for their faces to switch up like, “What the fuck?” They started looking amongst themselves. So I knew I wasn’t doing good. I don’t remember what I was saying. It just took one person to break the ice. It was a black lady with a Ford Motor shirt on. Stood up suddenly. “Fuck you, Dave Chappelle!” I said, “Excuse me?” She said, “I worked all week for this shit, and this show sucks!” And in a weird act of racial harmony, a conservative white guy stood up and backed her up. “Yeah!” The whole crowd banded together and started chanting, “We want our money back! We want our money back!” I said, “Oh, shit.” I snapped out of it. “Good people of Detroit, hear me. Hear me now. You will never get your fucking money back.” Fuck that. I said, “I’m like Evel Knievel. I get paid for the attempt. I didn’t promise this shit would be good.” “Boo!” They said, “Fuck you!” This went on for a long time. And then, after the show, I felt so bad, I took half of the money from the show– thousands of dollars– I said, “I’m gonna give this to charity.” You know what I did? I bought $25,000 worth of bubble gum and drove around Detroit and handed it out to the homeless so they could chew it and still be hungry. I was very mad at Detroit that night. Because not only did I bomb, I had to go back to the very same room the next night and do it all over again. Fucking nightmare. That would be like if you were having sex with a woman and, for some reason– this would never happen– but for some reason, she had a mousetrap in her pussy. You get caught in the trap. And then you’ve got to fuck her again tomorrow night. I’d still do it, but I’d be careful the next time. The old mousetrap-in-the-pussy trick, eh? Fool me once. Yeah. Yeah, it was a tough time. And I wanted to give up sometimes. I almost did give up, but then, right before I gave up, I decided not to. But I made the call. They answered the phone. “Hello? Dancing with the Stars.” I said, “Not yet. Not yet.” Yeah. If you see me on that shit, it’s over. Trust me. My spirit is broken. If you see me waiting for them judges… getting critiqued on my cha-cha, fuck that. I’ve been hanging out in– I haven’t been working in LA, but I come out here and hang out and shit. I was out here a few weeks ago. I almost got arrested. I’m not bullshitting. This happens to a lot of black people. What happened was… I was coming out of one of those nightclubs in Hollywood, and my friend saw me. I guess I was wobbling or something. So, he just rolled up. He’s a good friend of mine. He’s like, “Hey, Dave, give me the keys.” I was like, “All right, n i g g a, just take the keys.” And I got in the passenger’s side of my car, and he drove it. It was fine. Just talking, chopping it up. And then, on the 10, the blue-and-whites hit us. Now, I should tell you, the friend that was driving me was black, which really doesn’t have anything to do with the story other than to let you know there was fear in the car. Not my fear. I’m black, but I’m also Dave Chappelle. So, I figured, you know, shit will probably be fine. Traffic stop started off on the right foot. The cops came up to the driver’s side. “Hi. How are you guys doing tonight?” And he recognized me immediately. “Oh. Dave Chappelle.” And I looked at my friend like, “We’re getting out of this shit.” And then he says, “You guys were swerving in the lane. Do you mind just stepping out of the car for a second?” Still no cause for alarm. I looked through the rearview mirror. The body language of the arrest looked good. Just talking. So, then I started fucking with the radio. You know a traffic stop is going good if you’re listening to the radio when someone else is outside of the car. But then, when I looked back in the rearview mirror, something had gone horribly wrong. That motherfucker was back there like… And the next thing I knew, they were stuffing him in the back of the car, and I thought what anybody would think in a situation like that: “Oh, my God. What is gonna happen to me?” And the police walked up to the window. “Mr. Chappelle, we had to arrest your friend. He refused to take our breathalyzer test.” I said, “That motherfucker. Not complying? That’s odd. So, officer, what’s gonna happen to me?” “You’re fine. We’re just gonna have to ask you to step out of the car so we can impound the vehicle, and we’ll arrange for you to have a ride home.” I said, “Oh, well, no. I would rather you just give me the keys.” He said, “Mr. Chappelle, your friend already told us he’s your designated driver. We can’t let you drive in this condition.” I was like, “No, n i g g a, I’m good.” And then suddenly, the shit turned into Vegas. He was like… “I’ll let you blow for it.” I said, “Excuse me?” He said, “If you blow in my breathalyzer–” I said, “Oh, n i g g a, I thought you was trying to get your dick sucked. What’s the– Whew! Whew!” “If you blow in my breathalyzer and pass, I’ll give you the keys to the car.” I said, “Uh… set ’em up, n i g g a. Let’s play.” And I blew in that thing. And it made a noise. “Beep!” I said, “Uh-oh.” And he looked at it. He said, “Oh, well, Mr. Chappelle, I guess you’re free to go.” I said, “I am?” I didn’t know that thing didn’t pick up weed. I drove home on the miles an hour. Yeah, it all worked out. It all worked out. I’m one of the lucky ones. It doesn’t work out that well for everybody. I saw that videotape of that lady that got beat up in LA in traffic. You see that shit on rush hour traffic? They beat a black woman’s ass. This woman didn’t even do anything wrong. It’s fucked up. It was so fucked up, it didn’t even go to court. The City of L.A. just gave that woman $1.5 million for her pain and suffering. That is not bad, considering that’s the same amount of money that Marcos Maidana made to fight Floyd Mayweather the second time. And this woman obviously hasn’t trained a day in her life. You can see it on the tape. She didn’t come to fight. Her guards were low. She was taking a lot of shots. Everybody’s mad at police now. I watched that– You see that shit on Netflix, Making a Murderer? The Steven Avery story. If you haven’t seen it, check it out. Steven Avery is in more trouble than any white person in the history of the United States has ever been in! In a justice system designed for him to thrive, he’s failed miserably twice. I can’t even wrap my mind around it. If Making a Murderer was about a black dude, that shit would be called Duh! Of course everything would go wrong. Seems like he did it, all right. The motherfucker even had $200,000 for his legal defense. That should get you off in Wisconsin. That’s like OJ money. All he needed to get off that he didn’t have was a single black juror. That’s all it would’ve took. Because only a black dude in the United States can look at other dudes and be like, “I think the police did this shit.” He’s fucked up in the game. That’s how OJ got off. I’ve been watching that new OJ show. I can’t get enough of that shit. Doesn’t it bring back good memories? But I forgot just how polarizing that OJ case was. And you know, I’ve met OJ Simpson on four different occasions in my life. And before the end of the show, I will tell you about each of those occasions. The first time I met OJ Simpson, I was in Santa Monica. -Santa Monica! -Yeah! I can’t believe a black dude was like, “Santa Monica!” You the last n i g g a I would expect to say that. Let me see your shoes. You got some Vans on, n i g g a? What you got? “Santa Monica!” You? At the time, I was . I had done a show, and the guy from the club came up and was like, “Hey, OJ Simpson’s here, and he said he wants to meet you.” I said, “What? Fuck yeah!” I ran down the steps, and OJ was down there. He’s like, “Hey, young man. How are you? It’s very good to meet you. And you’re doing really good work, and I hope good things happen for you in your life.” I was like, “Man, thanks, Mr. Juice.” Standing beside him, was– I don’t know the nice way to say this– his soon-to-be-slain wife. Ladies and gentlemen, man the fuck up, or you’re not gonna make it to the end of this show. Just man the fuck up. She’s dead. We already know what happened. We don’t know who did it, but we know what happened. I should tell you, that woman was very nice to me. She actually embraced me. She said, “I think you’re adorable,” and she hugged me. She goes, “Good luck to you,” and she held me for a long time. And I whispered in her ear, “Bitch, are you trying to get us both killed?” I’m just kidding. I didn’t say that, but… that was the first time, in a nutshell. It’s good to see so many… so many different people here from so many different ethnicities. Very diverse crowd. Looks like you thought Bernie Sanders was gonna come out in this motherfucker. But… surprise! It’s me. Yeah. Yeah, you know, I’m happy, really, to see black people come. A lot of black people don’t fuck with me like they used to. But there’s a few reasons you don’t see black people at my shows. One is because, obviously, black people have slower Internet connections. I mean, that would be my guess. I don’t know what– Actually, my own actions drew a wedge between me and the community I hold so dear. A couple of weeks ago, I was supposed to be in Flint, Michigan, for a charity benefit that was supposed to raise awareness for the appalling condition of the water in Flint. I don’t know if you know this, but the water in Flint is fucking poisonous. It’s actually making people sick. Hollywood people are like, “So what? At least they have water.” But this water– this water is fucked up. So, a lot of black celebrities flew into Flint, and they did a tremendous charity benefit, and I was on the schedule to appear. Uh… So, the reason a lot of people haven’t heard about this benefit– it was the same day as the Oscars. Right, I know. So, I was on my way to the airport to go to Flint, and then Chris Rock calls me and is like, “Hey, Dave, I got a ticket for you for the Oscars. Can you make it?” And I was like, “Sure, n i g g a. I’m on my way to the airport right now.” Come on, man. What am I gonna do about that water? What am I, a fucking superhero? I need to have fun. I need to live, too! I didn’t fuck that water up! Stevie Wonder was there. They didn’t need me. I’m sorry, everybody. I’d never been to the Oscars. You’ve seen the movies I make. I was excited. I knew I was gonna get into some trouble, because when I was walking on the red carpet, the black press came after me. “Excuse me, brother.” When you hear somebody call you “brother” too much, something terrible is about to happen. “Excuse me, brother. Brother?” And I looked back, and the motherfucker had a tuxedo with the kente cloth tie. I said, “Uh-oh.” He said, “I just want to ask you a couple questions.” I said, “What publication are you with?” He said, “Me? I’m with The Daily Bongo.” I said, “Daily Bongo? What the fuck? Who the fuck reads this?” He said, “Listen, brother, I just want to ask you a quick question. You understand that this year, this is a boycott for the Oscars. So, I’m just wondering what made you, of all people, cross the motherfucking picket line and be here tonight.” I said, “Boycott? N i g g a, I haven’t been working in ten years. What do you mean, boycott? I’ve been on strike. Y’all n i g g a s didn’t stop working. I had to watch fucking Key and Peele do my show every night! So, fuck The Daily Bongo,” is what I said. I went to the Oscars and had a wonderful time. I went in that fucking green room. It was filled with so many stars, I couldn’t even believe what I was seeing. Hollywood was seducing me all over again. I was sitting back there. I’m smoking, drinking with the stars. And then two Hollywood movie producers came over, right to me. “Oh, my God. Dave Chappelle,” said the leader one. He was obviously gay. Some guys, you can just tell. The other one seemed like a money guy. Maybe he was from Texas or some shit. But the gay one was definitely the leader because he did all the talking. And then he hit me with: “So, David, um… do you have any movie ideas that you would like to pursue?” The truth is, I don’t. But if you know the game, you’re not supposed to tell motherfuckers you don’t have ideas. I was like, “Yeah, man. I got plenty of ideas.” And he called my bluff. “Really? Like what?” “Huh? Oh. Um… um…” And then I just started making up shit that I thought maybe he’d like to see. I said, “I have a superhero idea.” He goes, “Really?” I go, “Yeah. He’s a– He’s a gay superhero.” He was like, “Really?! What’s it called?” “Huh? Oh, it’s called– It’s called Same Hero, New Boots. It’s about a gay sous-chef in San Francisco… that gets bit by a radioactive rat on his shift when he’s taking out the trash and is blessed with powers beyond his wildest dreams, supersonic gay kind of powers. And he starts saving everybody in San Francisco. But at first, he only saves gay people. Later, he saves everybody, and the whole city just falls in love with him. The only problem is, no one remembers him when he saves them.” “Well, I don’t understand. Why wouldn’t they remember him?” I said, “Because, dummy, he’s gay. He keeps changing his outfit. People come up– ‘Thanks for saving me, sir. What’s your name anyway?’ He’s like, ‘Same Hero, New Boots!’ And that motherfucker flies away.” He was like, “I like it a lot.” The Texan didn’t like that shit at all. He was upset. “That’s impossible, a gay superhero.” I said, “What? Well, I have others. I have a superhero you’d love, ’cause he’s stronger than Superman and he fights for truth, justice and the American way, like Superman, but more than Superman. He beats up Mexicans for no reason.” The Texan’s like, “You got my attention.” I’m like, “Man, this motherfucker’s so strong, he can fly and do all this great shit. Only problem with this guy is he can’t even activate his powers unless he touches– unless he touches a woman’s vagina. Not a long touch, just a couple of pats.” He said, “Well, what’s the problem with that?” I said, “The problem, sir, is that our hero is not a handsome man. And he’s often short on cash. So, whenever trouble breaks out, he has to run around the city and convince women to let him pat their vaginas. ‘Please, miss! That building’s on fire. Can I pat your vagina? Quickly. People are dying!’ But he can’t tell them exactly why. ‘Eww! Get away! You’re gross!’ ‘Please, miss! People are dying! Just a couple of pats!’ ‘Eww! Gross! Get away!’ So, he rapes them. I know, I know. That’s the dilemma for the audience. Because he rapes, but he saves a lot of lives. And he saves way more than he rapes, and he only rapes to save. But he does rape.” I didn’t realize it, but the whole green room was looking at us. All the celebrities were disgusted. “Ohh.” That guy from Texas was like, “Here’s my card. Call me on Monday.” That worked out. The second time I met OJ Simpson. It was right after the trial of the century. There I was, now a young man of probably 23. OJ Simpson was the most famous, or infamous, face on planet Earth. I was in a restaurant in Beverly Hills with my agents. I wasn’t alone in the restaurant, but I was alone. I was the only black person in the restaurant. And in the 90’s, that felt very uncomfortable. Now I tend to enjoy it at this age. I was having dinner with my agents, celebrating a deal that they told me was lucrative, but I later learned fucking sucked. And suddenly, a group of women walked by. Every race was in that group. Black, white, Asian, Latina, white, white… and white again. They were all gorgeous. I watched them walk by. Then I saw a familiar face. Al Cowlings, the man from the infamous Bronco chase, walked by and embraced one of the women, and they walked towards the door. Couldn’t believe what I saw. And then, close behind him, was OJ Simpson, newly released from jail. The restaurant fell still. I was shocked. I didn’t mean to say it out loud, but it just came out. “OJ!” He stopped, turned around to see who said it, saw my black face and correctly assumed it was me. I was sitting in the corner of the booth. He leaned over all the white people I was having dinner with and shook my hand. “How are you, young man?” He looked in my eyes, and I could see in his eyes that he didn’t remember meeting me the first time. And then he walked away. And I looked back at my agents, and all of them had nothing short of disgust on their faces. And the only one with the courage to voice their disgust was a woman named Sharon who used to represent me. “How could you?” she said. “How could you shake hands with that murderer?” I said, “Sharon, with all due respect, that murderer ran for over 11,000 yards. And he was acquitted. So, you know, fuck it. The glove didn’t fit. The glove didn’t fit. Get over yourself.” Some people can’t do that. Some people just can’t get over themselves. Gay people have a hard time doing that recently. Here we go. Here comes the deep water. No, recently I’ve noticed that. I noticed it with that Manny Pacquiao controversy. Yeah, it was– Now, in the gay community’s defense, Manny Pacquiao said some outlandish shit about gay people, very not nice things that I won’t repeat, but there was biblical verses and some analogies to animals. It wasn’t a good look. Nike took his shoes immediately. Which I thought was a little harsh. A little harsh, you know what I mean? Just ’cause he’s Asian. You know what I mean? How the fuck are you gonna take the shoes off an Asian dude to appease a gay dude? You know what I mean? No? You don’t know what I mean. But Asian people kind of know what I mean. No? No Asians in the front? No? No, this is what I mean. Look, you’re an Asian dude– I say this with no disrespect. We’re all Americans, right? And we can agree that America has a huge body count all over the world, but nowhere more than Asia. Literally, if you look at history, recently, we have bombed the masculinity out of an entire continent. We dropped two atomic bombs on fucking Japan, and they’ve been drawing Hello Kitty and shit ever since. There’s a lot of lady-boys in the wake of our bombs. And I know these things because my wife is Asian. She’s Filipino. All right, okay. So, that explains it. Now you know why you see me at all those Filipino events. I’m not there picking up pussy. I’m dropping some off. I take my wife to all that shit. I took my wife to see Pacquiao fight Mayweather. We sat ringside, okay? That– Yeah, that was a quiet car ride home, that’s what that was. But if you know what’s popping in the Philippines, you know that they got a whole generation of kids in the Philippines growing up without their mothers. Yes. A lot of women in the Philippines go to the Arabian Peninsula, they come to the United States, they make all their money here, they send all that money back home, which is still one of the number-one staples in the Philippines’ economy– money that the expats send back to the Philippines. The men, on the other hand, are left rearing children, twiddling their thumbs, waiting on their wives’ checks. These men have been fucking emasculated. And then suddenly, a boxer rises from amongst them and reinstates their manhood with his motherfucking fist. This is not the guy you’re supposed to ask, “What do you think of homosexuals?” He’s not your champ. Shit. That’s why I don’t have a sneaker deal, ’cause if you say something that people don’t like, they’ll take your fucking shoes off. If Martin Luther King had a sneaker deal, we’d still be on the back of the bus. It’s true. The Nike exec would come up– “Hi, Martin. Uh… we need you to tone down the talk of civil rights and blacks being humans. It’s upsetting our Southern distributors.” “But I don’t understand. I thought that’s why I had a sneaker deal in the first place.” “Not quite. Really, it’s a walking shoe. And we like the marching, but… Try to understand.” Fuck that shit. You know, I get it, though. I understand why gay people are mad, and I empathize. You know what? I’m just telling you this as a black dude. I support your movement. But if you want to take some advice from a Negro, pace yourself. These things take a while. Just ’cause they passed the law doesn’t mean they’re gonna like it. Brown v. Board of Education was in. Somebody called me a n i g g e r in traffic last Wednesday. It takes a minute. My wife’s friend Stewart told me that. My wife has a lot of gay friends. Stewart’s their leader. She has a lot of gay friends. And I don’t like ’em. Not ’cause they’re gay. I’m just judging them on the merits of their character. They’re just not nice dudes. They’re fucking rude houseguests. They’re sitting on my couch, giggling with my wife, eating my motherfucking macaroons. Then I come in, and they act like the party’s over. “Hey, Stewart. What’s going on?” This guy talks to me the way a cat would speak if a cat could talk. “Hi, David.” “Stewart, what’s all the beef, man? What’s going–” He always wants to have some kind of gay political argument. The last one was about a petition in federal court to take the words “husband and wife” out of the law. I said, “Why would you want those words out of the law?” He said, “Because it discriminates against same-sex couples.” I was like, “N i g g a s, please, save me the semantics. Just trust me. Take your chips and get the fuck out of the casino. You’re about to crap out! Just go outside, talk that over amongst yourselves, and whichever one of you is gayer, that’s the wife.” No, no. Stewart didn’t like that. Stewart educates me about this movement. I didn’t even know shit about it. He told me it’s called “LBGTQ!” I was like, “What the fuck is the ‘Q’?” Does that even make sense? “Q”? Turns out “Q” is like the vowels. That shit is sometimes “Y.” It’s for gay dudes that don’t really know they’re gay. Like prison fags who are like, “What? I’m not gay, n i g g a. I’m just sucking these dicks to pass the time. I’m not ‘G.’ I’m ‘Q.’ Ugh.” I think– Okay, again, of all those letters, the “T” has the toughest road ahead. In fact, I think the “T” should stand for “Tough road ahead.” They’ve got the longest mental gap to bridge. That’s all I’m saying. Because whenever I see one of them Ts on the street, I don’t mind them, but I’ll be like, “Man, I miss Bruce.” I’m sorry, guys. I’m 42. I remember Bruce Jenner. Before the Kardashians, before all that, this motherfucker was a white American superhero. It was amazing. He was beating Africans at track and field. We’d never seen anything like it. He was on my cereal box growing up. You know how much of that cereal I ate? N i g g a, I didn’t know he was gonna do that. I knew before you guys knew. I heard things on the street in Hollywood. You’d just be out, see people. “Hey, what’s up, Kanye? Why the long face?” “N i g g a, you’ll see. I got two mother-in-laws now.” And when I heard he was gonna do it, I was scared. I didn’t think the public was ready. I didn’t think the media was ready. And you know what? I was wrong. Not only did the public embrace him, but the media was nice. I’d never seen anything like it. “Welcome to the world, Caitlyn. So long, Bruce. Hello, Caitlyn.” I was shocked! Is this happening? Wait a minute. Is this a time in American history where an American can make a decision for themselves, and even though other Americans don’t understand it, they’ll support it and let this person live a happy life? Is this what’s happening? If it is, then good for America. That’s Dave Chappelle, the American. Although, Dave Chappelle, the black American, he was a little jealous. I was like, “How the fuck are transgender people beating black people in the discrimination Olympics?” If the police shot half as many transgenders as they did n i g g a s last year, there’d be a fucking war in LA. I know black dudes in Brooklyn– hard street motherfuckers– that wear high heels just to feel safe. Transgenders are gangsters. I used to do business with a transgender in Hollywood. Man, everybody would be scared of her in the boardroom. She’d walk in there, newly-minted woman, high heels, purse. Wouldn’t say anything to us, just walk around the conference table, looking mean and shit. Then she’d walk to the head of the conference table, stare at us all, reach in her purse, pull her old dick out and throw it on the table. “Let’s talk business, gentlemen.” “Aaah!” Shit is scary as fuck. If your best friend pitched that to you, you’d be horrified. “Yo, n i g g a, let’s go to the hospital and cut our dicks off and make pussies out of them shits.” “What?! Can’t we just get matching jackets or tattoos or something? You sure that’s what you want to do?” “There’s only way to find out, n i g g a. Wu-Tang! Pow! Pow! Let’s go to the club and trick n i g g a s into fucking us. Yeah.” The third time I met OJ Simpson— The third time I met OJ Simpson, I was doing great in life. I’d just finished the second season of Chappelle’s Show. Man, those were good days. I was playing a comedy club in Miami, The Improv. I don’t know if you’ve ever been, but if you have, you’d know the door for the green room is right on the stage. Can you imagine such a thing? If I walked out of the door of the green room, bam, I was right here, right from the dressing room. And I did that. I walked out, and the whole crowd was like, “Hooray!” And I looked– ma’am, as close as you are to me– I saw him as soon as I came out: The Juice. And I saw recognition in his eyes, and it filled me with pride that he knew who I was. I didn’t acknowledge his presence because it was a white audience, and I didn’t want to start a panic. But I did my show. The show went great. I said, “Good night, everyone.” They all said, “Yay!” And I didn’t say nothing to OJ, but I just gave him the signal to let him know I knew he was there. And I walked into the green room, and OJ was already in there! I was like, “How the fuck is this possible?” I was scared. And then my friends came in, and we all started talking. We sat down on the couch. And I’m just telling you what I saw with my own eyes. You can believe me or not believe me. But in my experience, OJ Simpson– one of the nicest men I’d ever met. He was nice to me. He was nice to my friends. The conversation was filled with warmth and levity, humor and wisdom. We talked for minutes, and then suddenly, the Juice said, “You know what? I’ve got to be going. But it’s good to see you again, and I’m glad things went so well.” I said, “Thanks, Juice.” And my friends said, “Yeah, goodbye, Mr. Juice.” They were new to the game. He said, “No. Thank you… for your hospitality. Good night, guys.“ And we said, “Good night.” And he just walked out of the room. And as soon as the door closed, we all looked at each other like, “That n i g g a did that shit. Did you feel that? I could feel like… murder in the room.” Well, you young heads missed that shit. You’re all too young. You don’t remember that. -How old are you, young, man? You. -Twenty-four. Twenty-four? You don’t know shit. You don’t know shit! You gotta Google shit that I lived through. See, this is why I lock motherfuckers’ phones up. Seriously. Because the young kids, you guys need to take a break from that– We all need to break just from that technology, just for a minute. You know, I’m from a different time, young man. A dark time to you. I’m from a time that I didn’t even used to know who was on the phone until I answered the shit. Like, when tragedy used to strike. I remember I was 12 years old, and the teacher wheeled a television set into the classroom. You remember these days? And she turned it on to one of three channels. And she said, “Class, the space shuttle is taking off, and we’re all gonna watch it take off.” Man, that shit was going great for like, three to five minutes. That’s right. You remember. It fucking exploded! Right on television. Everybody on board, dead. Immediately presumed dead. It was so bad, the teacher looked at all the kids and was like… “You can go home.” It was a goddamn national tragedy. This was Cold War America. The Russians were laughing at us. My point is, for a guy your age wouldn’t even know the pain, because in your generation, it’s like the space shuttle blows up every fucking day. How can you care about anything when you know every goddamn thing? I’m getting over one cop shooting, and then another one happens, and then another one happens, and another one happens. I’m crying about Paris, and then Brussels happens. I can’t keep track of all this shit. So you just give the fuck up. That’s the hallmark of your generation, and that’s fucked up, because your generation lives in the most difficult time in human history. This is the age of spin. The age where nobody knows what the fuck they’re even looking at. Did you know that Planned Parenthood was for abortions? It’s for people that don’t plan things out at all. That’s right. So, a guy your age doesn’t really know how he feels. Are you pro-choice? Are you anti-consequences? What does it all really mean? It’s easier not to care for you. But for us, we were trained to care. We were raised that way. I used to watch a fucking cartoon when I was growing up called Care Bears. It was about a fucking group of teddy-bear people. They were like teddy bears, but they were like people, and they were all different colors, and they all fucking just walked around, caring. They cared about each other and everything else. They all had different designs on their stomachs, and the designs told you something about what they might be like inside. Very, very loving group of beings. And when shit got real bad, as nice as those teddy bears were, they didn’t get mean faces. They got determined. Hmm! And the leader would say, “Come on, guys. It’s time for the Care Bear Stare!” Remember that shit? And them little teddy bears would lock arms… and stare at the problem– and I’m not even bullshitting– actual love would shoot out of their chests… and would dispel anything that was fucked up. And when we grew up, we wanted to be like those bears. And then we got our hearts broken, because we found out that life wasn’t gonna let us do that and that it’s impossible to shoot love out of your chest. However, I have shot love onto somebody’s chest before. I do it all the time. It’s the next best thing. You kids don’t know. Your generation is just determined to be angry, mad. Everybody’s mad. Back when we were growing up, only black people were mad. Now everybody’s just trying to get in on the act. I try to think to myself, “When did everyone get mad?” And then I realize this happened before we were born. This is a long way to go, but… it probably started in the Second World War. Think about it. All these black men, millions of black men, leave the United States for the first time, go over to Europe with America’s Armed Forces and fight the Nazis and make more money fighting Nazis than they ever dreamed they would make in the United States. And a lot of those men, while they were in Europe– just to be real, not to be crass– a lot of them probably got their dicks sucked by white women. I’m sorry, ladies and gentlemen. This was World War II Europe, and these were desperate times, and penises were being sucked for shoelaces and chocolate and very frivolous things. And it’s very hard to come back to America and sit on the back of the bus after you’ve been in the South of France, getting your dick sucked for a Crunch bar or some crazy shit like that. That’s a life-changing experience. And while that was happening in Europe, here in America, for the first time, women entered the workforce en masse, by the millions. All the men were gone. Someone had to run the factory. The ladies did it. That’s right. This was the first generation of American women to have independent income en masse, and when the men came back, the women weren’t the same. American women had grown. They were uttering phrases that no woman on Earth had ever spoken before, things like, “No” and “Shut the fuck up” and “I don’t feel like it.” And then behind the scenes of that, there was a little-known government agency that started testing mind control drugs on the American public. They fucked up. They tested it for 12 years. They didn’t realize these drugs were not mind-controlling. They were mind-expanding. It was LSD and mescaline and shit like that. And for the first time, there was a new school of thought that was chemically induced that made people question the very society they lived in. By 1960, the President of the United States was only 42 years old. Can you imagine? DMX is older than that. And he was gonna usher in a new era of peace. He was gonna avoid the Cold War. He was gonna end segregation. And they blew his fucking brains out in front of everyone in Dallas. This country was never the same. There were seven more major assassinations in the ’60s. Anyone that stood up and said anything was shot down in the streets like a fucking dog. Kennedy, Kennedy, King, X, Evers, on and on. You didn’t even have to be famous. You could be a college student at Kent State, or in Mississippi, protesting the Vietnam War, and they shot them, too. The ’70s were a wild era. And while all this was going on… Bill Cosby raped 54 people. Holy shit. That’s a lot of rapes, man. This guy’s putting up real numbers. He’s like the Steph Curry of rape. Man, that’s a lot of rapes. Fifty-four? If he had raped less people… that’s still two dozen rapes! Don’t forget, each one of these rapes has eight hours of sleep in it. Ladies and gentlemen, that’s over hours of rape. It only takes hours to get a pilot’s license. If rapes were aircrafts, this n i g g a is Top Gun for sure. Yeah, that’s a tough one. And I was onstage not too long ago. I was in Syracuse, New York. Yeah. Well, yeah, for Syracuse. But the show didn’t go so good… all because I was talking about Bill Cosby a little bit. Not a little bit. I’ll be honest. I talked about him for like, minutes. And a woman stood up in the back of the room, and she screamed out, “You are a fucking asshole for saying these things!” “I know.” Instantly, I felt bad. Not bad about what I was saying. I just felt bad like, “Oh, that’s too bad she doesn’t like the show.” I didn’t realize it at first, but not only did she say that, she was rushing the stage. By the time I saw her, I just saw this shadowy figure fucking charging up the aisle towards me in full fight mode. I was horrified. I said, “Oh, my God! I’m gonna kick this bitch in the face.” Lucky for me, I didn’t have to. Security tackled her. But it was a really fucking horrifying scene. A scuffle ensued. And then, finally, she screamed out to me, “Women suffer!” I said, “I know.” And, ladies, I need you to know… that I know. I need you to know. Seriously, there’s a lot of men in this room that identify themselves as feminists. I would include myself in that. Don’t ever forget, we all have mothers and daughters and sisters and wives, and we want to see all these women do well and not be held back by their gender. There’s a lot of men like that in this room. There’s a lot of men like that in the world. Or as we are known on the streets, bitch-ass n i g g a s. But as this woman was wrestling and screaming at me, I started to take offense. And I’ll be honest, race was involved. She was a young white woman. Well-intentioned, but just not thinking it all the way through. “Bitch, how the fuck are you going to yell at a black man about discrimination?” She didn’t get it. She just kept going. “Women suffer!” “I know.” “Women suffer!” “Same team.” “Women suffer!” “I know.” And this is when she went too far: “We suffer just like you.” “Slow your roll, bitch. You suffer, yes, but not like me. Not like us.” She goes, “Suffering is suffering. What’s the difference?” I said, “Come on, white woman, you know what it is. You was in on the heist. You just don’t like your cut.” You suffer, I suffer. You suffer, I suffer. That’s how it works. Can’t do comparative suffering. If you’re hungry, and your friend says, “You know, people are starving in Africa,” “So what, n i g g a? I still want lunch.” Black people know about comparative suffering, and you know that it’s a fucking dead-end game. Blacks and Jews do that shit to each other all the time. You ever played Who Suffered More with a Jewish person? It’s a tough game. Whenever you think you’ve got the Jewish guy on the ropes, that motherfucker will be like, “Well, don’t forget about Egypt.” “Egypt?! God damn, n i g g a, I didn’t know we was going all the way back to Egypt.” What the fuck is wrong with her? What does she think? Does she think that I don’t know that rape is wrong? Does she think that maybe I don’t have empathy for Bill Cosby’s alleged victims? And I would be remiss if I didn’t remind you that technically these are all still allegations. Although, I admit it looks very bad. Perhaps if she looked at it correctly, she would have empathy for me, the man she was attacking, a 42-year-old black comedian. Obviously, Bill Cosby was a hero to me. And she doesn’t know what it feels like to think that your hero might’ve done something so heinous, my God, you can’t imagine. It’d be as if you heard that chocolate ice cream itself… had raped 54 people. You’d say to yourself, “Oh, man, but I like chocolate ice cream. I don’t want it to rape.” Didn’t want to believe it. At first, I didn’t believe it. I said, “These people are obviously trying to destroy Dr. Cosby’s rich legacy.” Even 34 allegations into it, I was still like, “Man… he probably only raped ten or 11 of those people.” I know, I know. But it’s really tough. You guys are young. Imagine if you found out 40 years from now that Kevin Hart raped 54 people. You’d be like, “Oh, my God.” The only one that would believe that would be Katt Williams. He’d be like, “I knew that motherfucker was up to something! I knew Kevin had raped those people.” You know, I was mad at Kevin, too, though. You know why? Okay, first of all, I didn’t even know Kevin was as successful as he was. I found that shit out the hard way. I was at home when my son busted in. He said, “Dad, I need $250.” He’s only years old, so I freaked out. “What’s going on, n i g g a? Is somebody trying to kill you?” He said, “No, no. Kevin Hart’s coming to town, and I wanted to see his show.” I said, “How much are the tickets?” He said, “They’re $125.” I said, “God damn! Mine are only 80.” I said, “Why do you need $250, then?” He goes, “Because I want to go with you, Dad. Please? And there it is. So, I took him to the show. And we go, we sit right up front. The lights go down, and one opening act after another goes on. Then Kevin takes the stage. The crowd goes fucking nuts. Thousands of people. I was furious. The longer the show went on, the madder I got. Because his show was fucking outstanding. It was maddening. These people were fucking holding their stomachs. My son was slapping his knee. I’m like, “Damn, n i g g a, I do this, too.” Kevin says, “Good night.” The crowd goes crazy. And then everyone starts walking to his door, and the lights come on, and then my son is just standing there, looking at an empty stage. People are pushing past me, and nobody’s recognizing me. I’m like, “Man, this place fucking sucks!” I said, “Come on, son, let’s get out of here.” Then my son looks back at me and says, “Dad, please. Please, I have to meet him.” I was like, “Oh, my God.” So, I took him backstage. I’ve known Kevin for years, but can you believe I was scared to knock on his dressing room door? I almost said… “Son, I haven’t seen him for a long time.” And one of Kevin’s goons opened the door. “Hey, what’s up, Dave Chappelle? What are you doing, man? It’s good to see you, brother. What are you doing in this area? This is a terrible area.” I’m like, “Actually, I live around here. Listen… is Kevin here? My son just wanted to meet him real quick.” “I don’t know, ’cause Kevin’s about to eat dinner.” Just then, Kevin came around the corner to see who it was. “What? Oh, shit! What’s up, Dave? Come on back. I was just about to have dinner. I don’t know if you guys ate, but you’re welcome to join me if you’d like.” And then my son pushed passed me. It was some cold shit. He goes, “Actually, Mr. Hart, we haven’t eaten in several hours.” Man, Kevin took us into his back room. This guy had a fucking spread. It was Tuesday night. This motherfucker was having Sunday dinner. There were steaks, chops, corn with butter all over it. My son was eating all fast, embarrassing me. I was like, “Slow down, son.” He was like… Then I looked over in the corner, and there was a box of custom-made jerseys for the local team. Each one was hand-stitched, and on the back, they stitched on “K-Hart” on all of them. Kevin saw me staring at that box, and he went over and grabbed one of them jerseys, and he walked right to my son. He said, “Hey, little man. I want you to have this.” And my son was like, “Thanks, Mr. Hart.” This is when I got mad. He goes, “If your father ever makes you mad, put that on.” And he walked out. Oh, that was some cold shit. Then I realized– I looked up what Kevin made on Google. I couldn’t believe that shit. Kevin is the first comedian that a Drake song could be about. Kevin could walk around his house and sing “All Me,” and the whole song would still be true. “♪ Got everything, I got everything ♪ ♪ I cannot complain, I cannot ♪ ♪ I don’t even know How much I really made ♪ ♪ I forgot, it’s a lot ♪ ♪ Fuck that, never mind what I got ♪” And his wife will be like, “Kevin, come to bed!” He’ll be like… “♪ Ho, shut the fuck up ♪ ♪ I got way too much– ♪” You know how much money you have to have to tell a girl to shut the fuck up? I have “Quiet, please” money at best. I’d have to take a loan out for “Shut the fuck up.” “Shut the fuck up–” That’s Jay Z money. And Beyoncé got “No, you shut the fuck up” money. Let’s not forget. Let’s not forget. I’ve never met Bill Cosby, so I’m not defending him. Let’s just remember that he has a valuable legacy that I can’t just throw away. I remember that he’s the first black man to ever win an Emmy in television. I also remember that he’s the first guy to make a cartoon with black characters where their lips and noses were drawn proportionately. I remember that he had a television show that got numbers equivalent to the Super Bowl every Thursday night. And I remember that he partnered up with a clinical psychologist to make sure that there was not one negative image of African-Americans on his show. I’m telling you, that’s no small thing. I’ve had a television show. I wouldn’t have done that shit. He gave tens of millions of dollars to African-American institutions of higher learning, and is directly responsible for thousands of black kids going to college. Not just the ones he raped. Here comes the kicker. You ready? Here’s the fact that I heard, but haven’t confirmed. I heard that when Martin Luther King stood on the steps of the Lincoln Memorial and said he had a dream, he was speaking into a PA system that Bill Cosby paid for. So, you understand what I’m saying? The point is this: He rapes, but he saves. And he saves more than he rapes. But he probably does rape. Thank you very much! Good night! ♪ Ah-ah, ah-ah ♪ ♪ In every ghetto ♪ ♪ Ah-ah, ah-ah, ah-ah ♪ ♪ In every ghetto ♪ ♪ Ah-ah, ah-ah, ah-ah ♪ ♪ In every ghetto ♪ ♪ Ah-ah, ah-ah, ah-ah ♪ ♪ In every ghetto ♪ Wait, wait, wait, wait, wait! I forgot. The fourth time I met OJ Simpson. The fourth time is not the funniest time, but it was the last time I’d see the Juice. For some reason, I was at the Kentucky Derby. It’s a very long story. This is right after I quit Chappelle’s Show in spectacular fashion. There was a party hosted by Michael Jordan, and every athlete I’ve ever admired was in that room. Yes. And then I saw a familiar face by the bar, standing there, drinking alone. It was Chris Tucker. Now… you have to remember, at this time, we were both technically missing. And we went over, and we’re talking with one another, and motherfuckers were amazed to see us together. Seeing me and Chris Tucker at that point would be like seeing Bigfoot riding a unicorn. You wouldn’t believe that’s what you were seeing. And then, through all the gawkers, a familiar face pushed through the crowd. Here he was again. The Juice. He had his camera ready. He was like, “Dave, Chris. Good to see you guys. Hey, come on, guys. Let’s all get together for a picture.” And at the same time, me and Chris were like, “No. I can’t do that. Sorry, Juice, my career is too flimsy to survive a picture with you.” That’s the end. Good night. ♪ Ah-ah, ah-ah ♪ ♪ In every ghetto ♪ ♪ Ah-ah ♪ ♪ Revolution ♪ ♪ Ah-ah, ah-ah, ah-ah ♪ ♪ In every ghetto… ♪ One last thing. Before you go, I just wanted to acknowledge for the real comedy fans. We can’t not acknowledge it. We lost a fucking juggernaut in comedy this week. So, I’m just shouting out the family and friends of Garry Shandling. Much love to you guys. My sincerest condolences. And for the hip-hop fans in the building… put two fingers up in the air for A Tribe Called Quest and my man Phife Dawg. May he rest in peace forever and ever. Thank you for that beautiful music. Good night, everybody. Thank you. Twos up! Twos up! Hands up, hands up! Twos up! We’re gonna do this for Phife! I need everybody to rap with me right now! ♪ Can I kick it? ♪ ♪ Yes, you can ♪ ♪ Can I kick it? ♪  ♪ Yes, you can ♪ ♪ Can I kick it? ♪  ♪ Yes, you can ♪ ♪ Well, I’m gone ♪ ♪ Go on, then ♪ ♪ Can I kick it? To my Tribe that flows in layers ♪ ♪ Right now, Phife is a poem sayer ♪ ♪ At times, I’m a studio conveyor ♪ ♪ Mr. Dinkins Would you please be my mayor? ♪  ♪ You’ll be doing us a really big favor ♪  ♪ Boy, this track really has a lot Of flavor ♪ ♪ When it comes to rhythms Quest is your savior ♪ ♪ Follow us for the funky behavior ♪ ♪ Make a note On the rhythm we gave ya ♪  ♪ Feel free, drop your pants Check your hair ♪ ♪ Do you like the garments That we wear? ♪  ♪ I instruct you to be the obeyer ♪ ♪ A rhythm recipe that you’ll savor ♪  ♪ Doesn’t matter if you’re minor Or major ♪ ♪ Yes, the Tribe of the game We’re the player ♪ ♪ As you inhale Like a breath of fresh air ♪ I’m rich, biatch!'"
      ]
     },
     "execution_count": 16,
     "metadata": {},
     "output_type": "execute_result"
    }
   ],
   "source": [
    "data_df.transcript.loc['dave']"
   ]
  },
  {
   "cell_type": "code",
   "execution_count": 17,
   "id": "697e51de-1651-4613-81da-bd1572ac0b01",
   "metadata": {},
   "outputs": [],
   "source": [
    "import re\n",
    "import string\n",
    "\n",
    "def clean_text_round1(text):\n",
    "    '''Make text lowercase, remove text in square brackets, remove punctuiton'''\n",
    "    text=text.lower()\n",
    "    text=re.sub('\\[.*?\\]', '', text)\n",
    "    text=re.sub('[%s]' %re.escape(string.punctuation), '', text)\n",
    "    text=re.sub('\\w*\\d\\w*', '', text)\n",
    "    return text\n",
    "round1=lambda x: clean_text_round1(x)"
   ]
  },
  {
   "cell_type": "code",
   "execution_count": 18,
   "id": "b90053e8-4b2b-4e4b-9ddb-34be423f013f",
   "metadata": {},
   "outputs": [
    {
     "data": {
      "text/html": [
       "<div>\n",
       "<style scoped>\n",
       "    .dataframe tbody tr th:only-of-type {\n",
       "        vertical-align: middle;\n",
       "    }\n",
       "\n",
       "    .dataframe tbody tr th {\n",
       "        vertical-align: top;\n",
       "    }\n",
       "\n",
       "    .dataframe thead th {\n",
       "        text-align: right;\n",
       "    }\n",
       "</style>\n",
       "<table border=\"1\" class=\"dataframe\">\n",
       "  <thead>\n",
       "    <tr style=\"text-align: right;\">\n",
       "      <th></th>\n",
       "      <th>transcript</th>\n",
       "    </tr>\n",
       "  </thead>\n",
       "  <tbody>\n",
       "    <tr>\n",
       "      <th>dave</th>\n",
       "      <td>this is dave he tells dirty jokes for a living that stare is where most of his hard work happens it signifies a profound train of thought the alch...</td>\n",
       "    </tr>\n",
       "    <tr>\n",
       "      <th>louis</th>\n",
       "      <td>intro fade the music out let’s roll hold there lights do the lights thank you thank you very much i appreciate that i don’t necessarily agree with...</td>\n",
       "    </tr>\n",
       "    <tr>\n",
       "      <th>ricky</th>\n",
       "      <td>hello hello how you doing great thank you wow calm down shut the fuck up thank you what a lovely welcome i’m gonna try my hardest tonight you’re t...</td>\n",
       "    </tr>\n",
       "  </tbody>\n",
       "</table>\n",
       "</div>"
      ],
      "text/plain": [
       "                                                                                                                                                  transcript\n",
       "dave   this is dave he tells dirty jokes for a living that stare is where most of his hard work happens it signifies a profound train of thought the alch...\n",
       "louis  intro fade the music out let’s roll hold there lights do the lights thank you thank you very much i appreciate that i don’t necessarily agree with...\n",
       "ricky  hello hello how you doing great thank you wow calm down shut the fuck up thank you what a lovely welcome i’m gonna try my hardest tonight you’re t..."
      ]
     },
     "execution_count": 18,
     "metadata": {},
     "output_type": "execute_result"
    }
   ],
   "source": [
    "data_clean=pd.DataFrame(data_df.transcript.apply(round1))\n",
    "data_clean"
   ]
  },
  {
   "cell_type": "code",
   "execution_count": 20,
   "id": "e573c00c-2a5c-4f4c-9e31-e1a87b9ace88",
   "metadata": {},
   "outputs": [],
   "source": [
    "def clean_text_round2(text):\n",
    "    '''Get rid of some additional punctuation and non sensical text that was'''\n",
    "    text = re.sub('\\['' \"\"_]', '', text)\n",
    "    text = re.sub('\\n', '', text)\n",
    "    return text\n",
    "\n",
    "round2 = lambda x: clean_text_round2(x)"
   ]
  },
  {
   "cell_type": "code",
   "execution_count": 21,
   "id": "c7d634f0-596c-4ee2-9679-1c47bdc33860",
   "metadata": {},
   "outputs": [
    {
     "data": {
      "text/html": [
       "<div>\n",
       "<style scoped>\n",
       "    .dataframe tbody tr th:only-of-type {\n",
       "        vertical-align: middle;\n",
       "    }\n",
       "\n",
       "    .dataframe tbody tr th {\n",
       "        vertical-align: top;\n",
       "    }\n",
       "\n",
       "    .dataframe thead th {\n",
       "        text-align: right;\n",
       "    }\n",
       "</style>\n",
       "<table border=\"1\" class=\"dataframe\">\n",
       "  <thead>\n",
       "    <tr style=\"text-align: right;\">\n",
       "      <th></th>\n",
       "      <th>transcript</th>\n",
       "    </tr>\n",
       "  </thead>\n",
       "  <tbody>\n",
       "    <tr>\n",
       "      <th>dave</th>\n",
       "      <td>This is Dave. He tells dirty jokes for a living. That stare is where most of his hard work happens. It signifies a profound train of thought, the ...</td>\n",
       "    </tr>\n",
       "    <tr>\n",
       "      <th>louis</th>\n",
       "      <td>Intro Fade the music out. Let’s roll. Hold there. Lights. Do the lights. Thank you. Thank you very much. I appreciate that. I don’t necessarily ag...</td>\n",
       "    </tr>\n",
       "    <tr>\n",
       "      <th>ricky</th>\n",
       "      <td>Hello. Hello! How you doing? Great. Thank you. Wow. Calm down. Shut the fuck up. Thank you. What a lovely welcome. I’m gonna try my hardest tonigh...</td>\n",
       "    </tr>\n",
       "  </tbody>\n",
       "</table>\n",
       "</div>"
      ],
      "text/plain": [
       "                                                                                                                                                  transcript\n",
       "dave   This is Dave. He tells dirty jokes for a living. That stare is where most of his hard work happens. It signifies a profound train of thought, the ...\n",
       "louis  Intro Fade the music out. Let’s roll. Hold there. Lights. Do the lights. Thank you. Thank you very much. I appreciate that. I don’t necessarily ag...\n",
       "ricky  Hello. Hello! How you doing? Great. Thank you. Wow. Calm down. Shut the fuck up. Thank you. What a lovely welcome. I’m gonna try my hardest tonigh..."
      ]
     },
     "execution_count": 21,
     "metadata": {},
     "output_type": "execute_result"
    }
   ],
   "source": [
    "data_clean=pd.DataFrame(data_df.transcript.apply(round2))\n",
    "data_clean"
   ]
  },
  {
   "cell_type": "markdown",
   "id": "70b93cbc-fe08-4170-907f-8c07fcc36726",
   "metadata": {},
   "source": [
    "#### corpus"
   ]
  },
  {
   "cell_type": "code",
   "execution_count": 22,
   "id": "6770aee9-424e-43e2-89f7-66efa94cbca9",
   "metadata": {},
   "outputs": [
    {
     "data": {
      "text/html": [
       "<div>\n",
       "<style scoped>\n",
       "    .dataframe tbody tr th:only-of-type {\n",
       "        vertical-align: middle;\n",
       "    }\n",
       "\n",
       "    .dataframe tbody tr th {\n",
       "        vertical-align: top;\n",
       "    }\n",
       "\n",
       "    .dataframe thead th {\n",
       "        text-align: right;\n",
       "    }\n",
       "</style>\n",
       "<table border=\"1\" class=\"dataframe\">\n",
       "  <thead>\n",
       "    <tr style=\"text-align: right;\">\n",
       "      <th></th>\n",
       "      <th>transcript</th>\n",
       "    </tr>\n",
       "  </thead>\n",
       "  <tbody>\n",
       "    <tr>\n",
       "      <th>dave</th>\n",
       "      <td>This is Dave. He tells dirty jokes for a living. That stare is where most of his hard work happens. It signifies a profound train of thought, the ...</td>\n",
       "    </tr>\n",
       "    <tr>\n",
       "      <th>louis</th>\n",
       "      <td>Intro Fade the music out. Let’s roll. Hold there. Lights. Do the lights. Thank you. Thank you very much. I appreciate that. I don’t necessarily ag...</td>\n",
       "    </tr>\n",
       "    <tr>\n",
       "      <th>ricky</th>\n",
       "      <td>Hello. Hello! How you doing? Great. Thank you. Wow. Calm down. Shut the fuck up. Thank you. What a lovely welcome. I’m gonna try my hardest tonigh...</td>\n",
       "    </tr>\n",
       "  </tbody>\n",
       "</table>\n",
       "</div>"
      ],
      "text/plain": [
       "                                                                                                                                                  transcript\n",
       "dave   This is Dave. He tells dirty jokes for a living. That stare is where most of his hard work happens. It signifies a profound train of thought, the ...\n",
       "louis  Intro Fade the music out. Let’s roll. Hold there. Lights. Do the lights. Thank you. Thank you very much. I appreciate that. I don’t necessarily ag...\n",
       "ricky  Hello. Hello! How you doing? Great. Thank you. Wow. Calm down. Shut the fuck up. Thank you. What a lovely welcome. I’m gonna try my hardest tonigh..."
      ]
     },
     "execution_count": 22,
     "metadata": {},
     "output_type": "execute_result"
    }
   ],
   "source": [
    "data_df"
   ]
  },
  {
   "cell_type": "code",
   "execution_count": 23,
   "id": "c3593d7b-7a2b-45e5-824d-e15792b1d263",
   "metadata": {},
   "outputs": [
    {
     "data": {
      "text/html": [
       "<div>\n",
       "<style scoped>\n",
       "    .dataframe tbody tr th:only-of-type {\n",
       "        vertical-align: middle;\n",
       "    }\n",
       "\n",
       "    .dataframe tbody tr th {\n",
       "        vertical-align: top;\n",
       "    }\n",
       "\n",
       "    .dataframe thead th {\n",
       "        text-align: right;\n",
       "    }\n",
       "</style>\n",
       "<table border=\"1\" class=\"dataframe\">\n",
       "  <thead>\n",
       "    <tr style=\"text-align: right;\">\n",
       "      <th></th>\n",
       "      <th>transcript</th>\n",
       "      <th>full_name</th>\n",
       "    </tr>\n",
       "  </thead>\n",
       "  <tbody>\n",
       "    <tr>\n",
       "      <th>dave</th>\n",
       "      <td>This is Dave. He tells dirty jokes for a living. That stare is where most of his hard work happens. It signifies a profound train of thought, the ...</td>\n",
       "      <td>Dave Chappelle</td>\n",
       "    </tr>\n",
       "    <tr>\n",
       "      <th>louis</th>\n",
       "      <td>Intro Fade the music out. Let’s roll. Hold there. Lights. Do the lights. Thank you. Thank you very much. I appreciate that. I don’t necessarily ag...</td>\n",
       "      <td>Louis C.K.</td>\n",
       "    </tr>\n",
       "    <tr>\n",
       "      <th>ricky</th>\n",
       "      <td>Hello. Hello! How you doing? Great. Thank you. Wow. Calm down. Shut the fuck up. Thank you. What a lovely welcome. I’m gonna try my hardest tonigh...</td>\n",
       "      <td>Ricky Gervais</td>\n",
       "    </tr>\n",
       "  </tbody>\n",
       "</table>\n",
       "</div>"
      ],
      "text/plain": [
       "                                                                                                                                                  transcript  \\\n",
       "dave   This is Dave. He tells dirty jokes for a living. That stare is where most of his hard work happens. It signifies a profound train of thought, the ...   \n",
       "louis  Intro Fade the music out. Let’s roll. Hold there. Lights. Do the lights. Thank you. Thank you very much. I appreciate that. I don’t necessarily ag...   \n",
       "ricky  Hello. Hello! How you doing? Great. Thank you. Wow. Calm down. Shut the fuck up. Thank you. What a lovely welcome. I’m gonna try my hardest tonigh...   \n",
       "\n",
       "            full_name  \n",
       "dave   Dave Chappelle  \n",
       "louis      Louis C.K.  \n",
       "ricky   Ricky Gervais  "
      ]
     },
     "execution_count": 23,
     "metadata": {},
     "output_type": "execute_result"
    }
   ],
   "source": [
    "full_names = ['Dave Chappelle', 'Louis C.K.', 'Ricky Gervais']\n",
    "data_df['full_name'] = full_names\n",
    "data_df"
   ]
  },
  {
   "cell_type": "code",
   "execution_count": 24,
   "id": "2114ba53-ed1b-4dd3-8a7b-131c0e05b0cb",
   "metadata": {},
   "outputs": [],
   "source": [
    "data_df.to_pickle('corpus.pkl')"
   ]
  },
  {
   "cell_type": "markdown",
   "id": "ece72a2c-dd6d-49a9-84e8-6af66a823abf",
   "metadata": {},
   "source": [
    "### Document-Term Matrix"
   ]
  },
  {
   "cell_type": "code",
   "execution_count": 29,
   "id": "5cd92ba0-660e-4881-ae59-bc53b41cefa4",
   "metadata": {},
   "outputs": [
    {
     "data": {
      "text/html": [
       "<div>\n",
       "<style scoped>\n",
       "    .dataframe tbody tr th:only-of-type {\n",
       "        vertical-align: middle;\n",
       "    }\n",
       "\n",
       "    .dataframe tbody tr th {\n",
       "        vertical-align: top;\n",
       "    }\n",
       "\n",
       "    .dataframe thead th {\n",
       "        text-align: right;\n",
       "    }\n",
       "</style>\n",
       "<table border=\"1\" class=\"dataframe\">\n",
       "  <thead>\n",
       "    <tr style=\"text-align: right;\">\n",
       "      <th></th>\n",
       "      <th>00</th>\n",
       "      <th>000</th>\n",
       "      <th>10</th>\n",
       "      <th>100</th>\n",
       "      <th>11</th>\n",
       "      <th>114</th>\n",
       "      <th>12</th>\n",
       "      <th>125</th>\n",
       "      <th>13</th>\n",
       "      <th>130</th>\n",
       "      <th>...</th>\n",
       "      <th>york</th>\n",
       "      <th>young</th>\n",
       "      <th>younger</th>\n",
       "      <th>youngest</th>\n",
       "      <th>youth</th>\n",
       "      <th>youtube</th>\n",
       "      <th>yulin</th>\n",
       "      <th>yummy</th>\n",
       "      <th>zero</th>\n",
       "      <th>zoo</th>\n",
       "    </tr>\n",
       "  </thead>\n",
       "  <tbody>\n",
       "    <tr>\n",
       "      <th>dave</th>\n",
       "      <td>0</td>\n",
       "      <td>3</td>\n",
       "      <td>1</td>\n",
       "      <td>0</td>\n",
       "      <td>2</td>\n",
       "      <td>0</td>\n",
       "      <td>2</td>\n",
       "      <td>1</td>\n",
       "      <td>0</td>\n",
       "      <td>0</td>\n",
       "      <td>...</td>\n",
       "      <td>1</td>\n",
       "      <td>10</td>\n",
       "      <td>0</td>\n",
       "      <td>0</td>\n",
       "      <td>0</td>\n",
       "      <td>0</td>\n",
       "      <td>0</td>\n",
       "      <td>0</td>\n",
       "      <td>0</td>\n",
       "      <td>0</td>\n",
       "    </tr>\n",
       "    <tr>\n",
       "      <th>louis</th>\n",
       "      <td>1</td>\n",
       "      <td>0</td>\n",
       "      <td>1</td>\n",
       "      <td>1</td>\n",
       "      <td>0</td>\n",
       "      <td>1</td>\n",
       "      <td>0</td>\n",
       "      <td>0</td>\n",
       "      <td>0</td>\n",
       "      <td>0</td>\n",
       "      <td>...</td>\n",
       "      <td>4</td>\n",
       "      <td>8</td>\n",
       "      <td>3</td>\n",
       "      <td>0</td>\n",
       "      <td>1</td>\n",
       "      <td>1</td>\n",
       "      <td>0</td>\n",
       "      <td>0</td>\n",
       "      <td>2</td>\n",
       "      <td>0</td>\n",
       "    </tr>\n",
       "    <tr>\n",
       "      <th>ricky</th>\n",
       "      <td>0</td>\n",
       "      <td>4</td>\n",
       "      <td>0</td>\n",
       "      <td>2</td>\n",
       "      <td>0</td>\n",
       "      <td>0</td>\n",
       "      <td>2</td>\n",
       "      <td>0</td>\n",
       "      <td>1</td>\n",
       "      <td>1</td>\n",
       "      <td>...</td>\n",
       "      <td>0</td>\n",
       "      <td>2</td>\n",
       "      <td>0</td>\n",
       "      <td>1</td>\n",
       "      <td>0</td>\n",
       "      <td>1</td>\n",
       "      <td>1</td>\n",
       "      <td>1</td>\n",
       "      <td>0</td>\n",
       "      <td>1</td>\n",
       "    </tr>\n",
       "  </tbody>\n",
       "</table>\n",
       "<p>3 rows × 2971 columns</p>\n",
       "</div>"
      ],
      "text/plain": [
       "       00  000  10  100  11  114  12  125  13  130  ...  york  young  younger  \\\n",
       "dave    0    3   1    0   2    0   2    1   0    0  ...     1     10        0   \n",
       "louis   1    0   1    1   0    1   0    0   0    0  ...     4      8        3   \n",
       "ricky   0    4   0    2   0    0   2    0   1    1  ...     0      2        0   \n",
       "\n",
       "       youngest  youth  youtube  yulin  yummy  zero  zoo  \n",
       "dave          0      0        0      0      0     0    0  \n",
       "louis         0      1        1      0      0     2    0  \n",
       "ricky         1      0        1      1      1     0    1  \n",
       "\n",
       "[3 rows x 2971 columns]"
      ]
     },
     "execution_count": 29,
     "metadata": {},
     "output_type": "execute_result"
    }
   ],
   "source": [
    "from sklearn.feature_extraction.text import CountVectorizer\n",
    "\n",
    "cv=CountVectorizer(stop_words='english')\n",
    "data_cv=cv.fit_transform(data_clean.transcript)\n",
    "data_dtm = pd.DataFrame(data_cv.toarray(), columns=cv.get_feature_names_out())\n",
    "data_dtm.index=data_clean.index\n",
    "data_dtm"
   ]
  },
  {
   "cell_type": "code",
   "execution_count": 30,
   "id": "e8e8dac1-632c-4af4-afa6-0620004e8a56",
   "metadata": {},
   "outputs": [],
   "source": [
    "data_dtm.to_pickle('dtm.pkl')"
   ]
  },
  {
   "cell_type": "code",
   "execution_count": 31,
   "id": "b7ad4e7e-e819-4215-8f78-f5edf6fe2a16",
   "metadata": {},
   "outputs": [],
   "source": [
    "data_clean.to_pickle('data_clean.pkl')\n",
    "pickle.dump(cv, open('cv.pkl', 'wb'))"
   ]
  },
  {
   "cell_type": "code",
   "execution_count": 32,
   "id": "e428638c-feb1-4d82-9275-86e5f62b54cb",
   "metadata": {},
   "outputs": [],
   "source": [
    "from textblob import TextBlob"
   ]
  },
  {
   "cell_type": "code",
   "execution_count": 33,
   "id": "4e54cd03-bda6-4449-a82d-d0cc9b64b7a5",
   "metadata": {},
   "outputs": [],
   "source": [
    "pol = lambda x: TextBlob(x).sentiment.polarity\n",
    "sub = lambda x: TextBlob(x).sentiment.subjectivity"
   ]
  },
  {
   "cell_type": "code",
   "execution_count": 34,
   "id": "a7586733-638b-4445-ab52-a8c6e0828d2c",
   "metadata": {},
   "outputs": [
    {
     "ename": "KeyError",
     "evalue": "'transcript'",
     "output_type": "error",
     "traceback": [
      "\u001b[1;31m---------------------------------------------------------------------------\u001b[0m",
      "\u001b[1;31mKeyError\u001b[0m                                  Traceback (most recent call last)",
      "Input \u001b[1;32mIn [34]\u001b[0m, in \u001b[0;36m<cell line: 1>\u001b[1;34m()\u001b[0m\n\u001b[1;32m----> 1\u001b[0m data[\u001b[38;5;124m'\u001b[39m\u001b[38;5;124mpolarity\u001b[39m\u001b[38;5;124m'\u001b[39m] \u001b[38;5;241m=\u001b[39m \u001b[43mdata\u001b[49m\u001b[43m[\u001b[49m\u001b[38;5;124;43m'\u001b[39;49m\u001b[38;5;124;43mtranscript\u001b[39;49m\u001b[38;5;124;43m'\u001b[39;49m\u001b[43m]\u001b[49m\u001b[38;5;241m.\u001b[39mapply(pol)\n\u001b[0;32m      2\u001b[0m data[\u001b[38;5;124m'\u001b[39m\u001b[38;5;124msubjectivity\u001b[39m\u001b[38;5;124m'\u001b[39m] \u001b[38;5;241m=\u001b[39m data[\u001b[38;5;124m'\u001b[39m\u001b[38;5;124mtranscript\u001b[39m\u001b[38;5;124m'\u001b[39m]\u001b[38;5;241m.\u001b[39mapply(sub)\n\u001b[0;32m      3\u001b[0m data\n",
      "\u001b[1;31mKeyError\u001b[0m: 'transcript'"
     ]
    }
   ],
   "source": [
    "data['polarity'] = data['transcript'].apply(pol)\n",
    "data['subjectivity'] = data['transcript'].apply(sub)\n",
    "data"
   ]
  }
 ],
 "metadata": {
  "kernelspec": {
   "display_name": "Python 3 (ipykernel)",
   "language": "python",
   "name": "python3"
  },
  "language_info": {
   "codemirror_mode": {
    "name": "ipython",
    "version": 3
   },
   "file_extension": ".py",
   "mimetype": "text/x-python",
   "name": "python",
   "nbconvert_exporter": "python",
   "pygments_lexer": "ipython3",
   "version": "3.9.13"
  }
 },
 "nbformat": 4,
 "nbformat_minor": 5
}
