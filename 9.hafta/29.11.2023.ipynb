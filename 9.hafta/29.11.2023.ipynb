{
 "cells": [
  {
   "cell_type": "code",
   "execution_count": 1,
   "id": "5579286d-d201-4fac-b06a-2db0dc60cfd7",
   "metadata": {},
   "outputs": [],
   "source": [
    "#!pip install plotly"
   ]
  },
  {
   "cell_type": "code",
   "execution_count": 2,
   "id": "cb110816-b2bc-4c5f-b1f3-ce088ebec1d9",
   "metadata": {},
   "outputs": [
    {
     "data": {
      "text/html": [
       "        <script type=\"text/javascript\">\n",
       "        window.PlotlyConfig = {MathJaxConfig: 'local'};\n",
       "        if (window.MathJax && window.MathJax.Hub && window.MathJax.Hub.Config) {window.MathJax.Hub.Config({SVG: {font: \"STIX-Web\"}});}\n",
       "        if (typeof require !== 'undefined') {\n",
       "        require.undef(\"plotly\");\n",
       "        requirejs.config({\n",
       "            paths: {\n",
       "                'plotly': ['https://cdn.plot.ly/plotly-2.27.0.min']\n",
       "            }\n",
       "        });\n",
       "        require(['plotly'], function(Plotly) {\n",
       "            window._Plotly = Plotly;\n",
       "        });\n",
       "        }\n",
       "        </script>\n",
       "        "
      ]
     },
     "metadata": {},
     "output_type": "display_data"
    }
   ],
   "source": [
    "import pandas as pd\n",
    "import plotly.graph_objs as go\n",
    "from plotly.offline import init_notebook_mode,iplot,plot\n",
    "init_notebook_mode(connected=True)"
   ]
  },
  {
   "cell_type": "code",
   "execution_count": 3,
   "id": "263cebfe-ffe8-494e-9017-030619bbc47d",
   "metadata": {},
   "outputs": [],
   "source": [
    "df = pd.read_csv('2014_World_Power_Consumption')"
   ]
  },
  {
   "cell_type": "code",
   "execution_count": 4,
   "id": "26f6cd14-ba91-44b6-886b-6e2a21907ea7",
   "metadata": {},
   "outputs": [
    {
     "data": {
      "text/html": [
       "<div>\n",
       "<style scoped>\n",
       "    .dataframe tbody tr th:only-of-type {\n",
       "        vertical-align: middle;\n",
       "    }\n",
       "\n",
       "    .dataframe tbody tr th {\n",
       "        vertical-align: top;\n",
       "    }\n",
       "\n",
       "    .dataframe thead th {\n",
       "        text-align: right;\n",
       "    }\n",
       "</style>\n",
       "<table border=\"1\" class=\"dataframe\">\n",
       "  <thead>\n",
       "    <tr style=\"text-align: right;\">\n",
       "      <th></th>\n",
       "      <th>Country</th>\n",
       "      <th>Power Consumption KWH</th>\n",
       "      <th>Text</th>\n",
       "    </tr>\n",
       "  </thead>\n",
       "  <tbody>\n",
       "    <tr>\n",
       "      <th>0</th>\n",
       "      <td>China</td>\n",
       "      <td>5.523000e+12</td>\n",
       "      <td>China 5,523,000,000,000</td>\n",
       "    </tr>\n",
       "    <tr>\n",
       "      <th>1</th>\n",
       "      <td>United States</td>\n",
       "      <td>3.832000e+12</td>\n",
       "      <td>United 3,832,000,000,000</td>\n",
       "    </tr>\n",
       "    <tr>\n",
       "      <th>2</th>\n",
       "      <td>European</td>\n",
       "      <td>2.771000e+12</td>\n",
       "      <td>European 2,771,000,000,000</td>\n",
       "    </tr>\n",
       "    <tr>\n",
       "      <th>3</th>\n",
       "      <td>Russia</td>\n",
       "      <td>1.065000e+12</td>\n",
       "      <td>Russia 1,065,000,000,000</td>\n",
       "    </tr>\n",
       "    <tr>\n",
       "      <th>4</th>\n",
       "      <td>Japan</td>\n",
       "      <td>9.210000e+11</td>\n",
       "      <td>Japan 921,000,000,000</td>\n",
       "    </tr>\n",
       "  </tbody>\n",
       "</table>\n",
       "</div>"
      ],
      "text/plain": [
       "         Country  Power Consumption KWH                        Text\n",
       "0          China           5.523000e+12     China 5,523,000,000,000\n",
       "1  United States           3.832000e+12    United 3,832,000,000,000\n",
       "2       European           2.771000e+12  European 2,771,000,000,000\n",
       "3         Russia           1.065000e+12    Russia 1,065,000,000,000\n",
       "4          Japan           9.210000e+11       Japan 921,000,000,000"
      ]
     },
     "execution_count": 4,
     "metadata": {},
     "output_type": "execute_result"
    }
   ],
   "source": [
    "df.head()"
   ]
  },
  {
   "cell_type": "code",
   "execution_count": 5,
   "id": "5f2bebe6-eb62-4f7c-9631-71efd885a857",
   "metadata": {},
   "outputs": [],
   "source": [
    "data = dict(\n",
    "    type = 'choropleth',\n",
    "    colorscale = 'Viridis',\n",
    "    reversescale = True,\n",
    "    locations = df['Country'],\n",
    "    locationmode = \"country names\",\n",
    "    z = df['Power Consumption KWH'],\n",
    "    text = df['Country'],\n",
    "    colorbar = {'title' : 'Power Consumption KWH'},\n",
    ")\n",
    "layout = dict(title = '2014 Power Consumption KWH',\n",
    "             geo = dict(showframe = False,\n",
    "                       projection = {'type':'mercator'})\n",
    "             )"
   ]
  },
  {
   "cell_type": "code",
   "execution_count": 6,
   "id": "c1349efe-17b0-4a0f-b49c-c58509e968b8",
   "metadata": {},
   "outputs": [
    {
     "data": {
      "application/vnd.plotly.v1+json": {
       "config": {
        "linkText": "Export to plot.ly",
        "plotlyServerURL": "https://plot.ly",
        "showLink": false
       },
       "data": [
        {
         "colorbar": {
          "title": {
           "text": "Power Consumption KWH"
          }
         },
         "colorscale": [
          [
           0,
           "#440154"
          ],
          [
           0.1111111111111111,
           "#482878"
          ],
          [
           0.2222222222222222,
           "#3e4989"
          ],
          [
           0.3333333333333333,
           "#31688e"
          ],
          [
           0.4444444444444444,
           "#26828e"
          ],
          [
           0.5555555555555556,
           "#1f9e89"
          ],
          [
           0.6666666666666666,
           "#35b779"
          ],
          [
           0.7777777777777778,
           "#6ece58"
          ],
          [
           0.8888888888888888,
           "#b5de2b"
          ],
          [
           1,
           "#fde725"
          ]
         ],
         "locationmode": "country names",
         "locations": [
          "China",
          "United States",
          "European",
          "Russia",
          "Japan",
          "India",
          "Germany",
          "Canada",
          "Brazil",
          "Korea,",
          "France",
          "United Kingdom",
          "Italy",
          "Taiwan",
          "Spain",
          "Mexico",
          "Saudi",
          "Australia",
          "South",
          "Turkey",
          "Iran",
          "Indonesia",
          "Ukraine",
          "Thailand",
          "Poland",
          "Egypt",
          "Sweden",
          "Norway",
          "Malaysia",
          "Argentina",
          "Netherlands",
          "Vietnam",
          "Venezuela",
          "United Arab Emirates",
          "Finland",
          "Belgium",
          "Kazakhstan",
          "Pakistan",
          "Philippines",
          "Austria",
          "Chile",
          "Czechia",
          "Israel",
          "Switzerland",
          "Greece",
          "Iraq",
          "Romania",
          "Kuwait",
          "Colombia",
          "Singapore",
          "Portugal",
          "Uzbekistan",
          "Hong",
          "Algeria",
          "Bangladesh",
          "New",
          "Bulgaria",
          "Belarus",
          "Peru",
          "Denmark",
          "Qatar",
          "Slovakia",
          "Libya",
          "Serbia",
          "Morocco",
          "Syria",
          "Nigeria",
          "Ireland",
          "Hungary",
          "Oman",
          "Ecuador",
          "Puerto",
          "Azerbaijan",
          "Croatia",
          "Iceland",
          "Cuba",
          "Korea,",
          "Dominican",
          "Jordan",
          "Tajikistan",
          "Tunisia",
          "Slovenia",
          "Lebanon",
          "Bosnia",
          "Turkmenistan",
          "Bahrain",
          "Mozambique",
          "Ghana",
          "Sri",
          "Kyrgyzstan",
          "Lithuania",
          "Uruguay",
          "Costa",
          "Guatemala",
          "Georgia",
          "Trinidad",
          "Zambia",
          "Paraguay",
          "Albania",
          "Burma",
          "Estonia",
          "Congo,",
          "Panama",
          "Latvia",
          "Macedonia",
          "Zimbabwe",
          "Kenya",
          "Bolivia",
          "Luxembourg",
          "Sudan",
          "El",
          "Cameroon",
          "West",
          "Ethiopia",
          "Armenia",
          "Honduras",
          "Angola",
          "Cote",
          "Tanzania",
          "Nicaragua",
          "Moldova",
          "Cyprus",
          "Macau",
          "Namibia",
          "Mongolia",
          "Afghanistan",
          "Yemen",
          "Brunei",
          "Cambodia",
          "Montenegro",
          "Nepal",
          "Botswana",
          "Papua",
          "Jamaica",
          "Kosovo",
          "Laos",
          "Uganda",
          "New",
          "Mauritius",
          "Senegal",
          "Bhutan",
          "Malawi",
          "Madagascar",
          "Bahamas,",
          "Gabon",
          "Suriname",
          "Guam",
          "Liechtenstein",
          "Swaziland",
          "Burkina",
          "Togo",
          "Curacao",
          "Mauritania",
          "Barbados",
          "Niger",
          "Aruba",
          "Benin",
          "Guinea",
          "Mali",
          "Fiji",
          "Congo,",
          "Virgin",
          "Lesotho",
          "South",
          "Bermuda",
          "French",
          "Jersey",
          "Belize",
          "Andorra",
          "Guyana",
          "Cayman",
          "Haiti",
          "Rwanda",
          "Saint",
          "Djibouti",
          "Seychelles",
          "Somalia",
          "Antigua",
          "Greenland",
          "Cabo",
          "Eritrea",
          "Burundi",
          "Liberia",
          "Maldives",
          "Faroe",
          "Gambia,",
          "Chad",
          "Micronesia,",
          "Grenada",
          "Central",
          "Turks",
          "Gibraltar",
          "American",
          "Sierra",
          "Saint",
          "Saint",
          "Timor-Leste",
          "Equatorial",
          "Samoa",
          "Dominica",
          "Western",
          "Solomon",
          "Sao",
          "British",
          "Vanuatu",
          "Guinea-Bissau",
          "Tonga",
          "Saint",
          "Comoros",
          "Cook",
          "Kiribati",
          "Montserrat",
          "Nauru",
          "Falkland",
          "Saint",
          "Niue",
          "Gaza",
          "Malta",
          "Northern"
         ],
         "reversescale": true,
         "text": [
          "China",
          "United States",
          "European",
          "Russia",
          "Japan",
          "India",
          "Germany",
          "Canada",
          "Brazil",
          "Korea,",
          "France",
          "United Kingdom",
          "Italy",
          "Taiwan",
          "Spain",
          "Mexico",
          "Saudi",
          "Australia",
          "South",
          "Turkey",
          "Iran",
          "Indonesia",
          "Ukraine",
          "Thailand",
          "Poland",
          "Egypt",
          "Sweden",
          "Norway",
          "Malaysia",
          "Argentina",
          "Netherlands",
          "Vietnam",
          "Venezuela",
          "United Arab Emirates",
          "Finland",
          "Belgium",
          "Kazakhstan",
          "Pakistan",
          "Philippines",
          "Austria",
          "Chile",
          "Czechia",
          "Israel",
          "Switzerland",
          "Greece",
          "Iraq",
          "Romania",
          "Kuwait",
          "Colombia",
          "Singapore",
          "Portugal",
          "Uzbekistan",
          "Hong",
          "Algeria",
          "Bangladesh",
          "New",
          "Bulgaria",
          "Belarus",
          "Peru",
          "Denmark",
          "Qatar",
          "Slovakia",
          "Libya",
          "Serbia",
          "Morocco",
          "Syria",
          "Nigeria",
          "Ireland",
          "Hungary",
          "Oman",
          "Ecuador",
          "Puerto",
          "Azerbaijan",
          "Croatia",
          "Iceland",
          "Cuba",
          "Korea,",
          "Dominican",
          "Jordan",
          "Tajikistan",
          "Tunisia",
          "Slovenia",
          "Lebanon",
          "Bosnia",
          "Turkmenistan",
          "Bahrain",
          "Mozambique",
          "Ghana",
          "Sri",
          "Kyrgyzstan",
          "Lithuania",
          "Uruguay",
          "Costa",
          "Guatemala",
          "Georgia",
          "Trinidad",
          "Zambia",
          "Paraguay",
          "Albania",
          "Burma",
          "Estonia",
          "Congo,",
          "Panama",
          "Latvia",
          "Macedonia",
          "Zimbabwe",
          "Kenya",
          "Bolivia",
          "Luxembourg",
          "Sudan",
          "El",
          "Cameroon",
          "West",
          "Ethiopia",
          "Armenia",
          "Honduras",
          "Angola",
          "Cote",
          "Tanzania",
          "Nicaragua",
          "Moldova",
          "Cyprus",
          "Macau",
          "Namibia",
          "Mongolia",
          "Afghanistan",
          "Yemen",
          "Brunei",
          "Cambodia",
          "Montenegro",
          "Nepal",
          "Botswana",
          "Papua",
          "Jamaica",
          "Kosovo",
          "Laos",
          "Uganda",
          "New",
          "Mauritius",
          "Senegal",
          "Bhutan",
          "Malawi",
          "Madagascar",
          "Bahamas,",
          "Gabon",
          "Suriname",
          "Guam",
          "Liechtenstein",
          "Swaziland",
          "Burkina",
          "Togo",
          "Curacao",
          "Mauritania",
          "Barbados",
          "Niger",
          "Aruba",
          "Benin",
          "Guinea",
          "Mali",
          "Fiji",
          "Congo,",
          "Virgin",
          "Lesotho",
          "South",
          "Bermuda",
          "French",
          "Jersey",
          "Belize",
          "Andorra",
          "Guyana",
          "Cayman",
          "Haiti",
          "Rwanda",
          "Saint",
          "Djibouti",
          "Seychelles",
          "Somalia",
          "Antigua",
          "Greenland",
          "Cabo",
          "Eritrea",
          "Burundi",
          "Liberia",
          "Maldives",
          "Faroe",
          "Gambia,",
          "Chad",
          "Micronesia,",
          "Grenada",
          "Central",
          "Turks",
          "Gibraltar",
          "American",
          "Sierra",
          "Saint",
          "Saint",
          "Timor-Leste",
          "Equatorial",
          "Samoa",
          "Dominica",
          "Western",
          "Solomon",
          "Sao",
          "British",
          "Vanuatu",
          "Guinea-Bissau",
          "Tonga",
          "Saint",
          "Comoros",
          "Cook",
          "Kiribati",
          "Montserrat",
          "Nauru",
          "Falkland",
          "Saint",
          "Niue",
          "Gaza",
          "Malta",
          "Northern"
         ],
         "type": "choropleth",
         "z": [
          5523000000000,
          3832000000000,
          2771000000000,
          1065000000000,
          921000000000,
          864700000000,
          540100000000,
          511000000000,
          483500000000,
          482400000000,
          451100000000,
          319100000000,
          303100000000,
          249500000000,
          243100000000,
          234000000000,
          231600000000,
          222600000000,
          211600000000,
          197000000000,
          195300000000,
          167500000000,
          159800000000,
          155900000000,
          139000000000,
          135600000000,
          130500000000,
          126400000000,
          118500000000,
          117100000000,
          116800000000,
          108300000000,
          97690000000,
          93280000000,
          82040000000,
          81890000000,
          80290000000,
          78890000000,
          75270000000,
          69750000000,
          63390000000,
          60550000000,
          59830000000,
          58010000000,
          57730000000,
          53410000000,
          50730000000,
          50000000000,
          49380000000,
          47180000000,
          46250000000,
          45210000000,
          44210000000,
          42870000000,
          41520000000,
          40300000000,
          37990000000,
          37880000000,
          35690000000,
          31960000000,
          30530000000,
          28360000000,
          27540000000,
          26910000000,
          26700000000,
          25700000000,
          24780000000,
          24240000000,
          21550000000,
          20360000000,
          19020000000,
          18620000000,
          17790000000,
          16970000000,
          16940000000,
          16200000000,
          16000000000,
          15140000000,
          14560000000,
          14420000000,
          13310000000,
          13020000000,
          12940000000,
          12560000000,
          11750000000,
          11690000000,
          11280000000,
          10580000000,
          10170000000,
          9943000000,
          9664000000,
          9559000000,
          8987000000,
          8915000000,
          8468000000,
          8365000000,
          8327000000,
          8125000000,
          7793000000,
          7765000000,
          7417000000,
          7292000000,
          7144000000,
          7141000000,
          6960000000,
          6831000000,
          6627000000,
          6456000000,
          6108000000,
          5665000000,
          5665000000,
          5535000000,
          5312000000,
          5227000000,
          5043000000,
          5036000000,
          4842000000,
          4731000000,
          4545000000,
          4412000000,
          4305000000,
          4296000000,
          4291000000,
          4238000000,
          4204000000,
          3893000000,
          3838000000,
          3766000000,
          3553000000,
          3465000000,
          3239000000,
          3213000000,
          3116000000,
          3008000000,
          2887000000,
          2874000000,
          2821000000,
          2716000000,
          2658000000,
          2586000000,
          2085000000,
          2027000000,
          1883000000,
          1716000000,
          1680000000,
          1572000000,
          1566000000,
          1360000000,
          1295000000,
          985500000,
          976000000,
          968000000,
          962600000,
          938000000,
          930200000,
          920700000,
          911000000,
          903000000,
          882600000,
          777600000,
          740000000,
          723500000,
          707000000,
          694100000,
          664200000,
          652900000,
          630100000,
          605000000,
          562400000,
          558000000,
          545900000,
          452000000,
          365500000,
          336400000,
          311600000,
          293900000,
          293000000,
          293000000,
          292000000,
          285500000,
          284000000,
          282900000,
          276900000,
          267100000,
          261300000,
          218600000,
          190700000,
          178600000,
          178000000,
          168300000,
          167400000,
          160000000,
          146000000,
          134900000,
          130200000,
          127400000,
          125300000,
          93000000,
          90400000,
          89750000,
          83700000,
          79050000,
          60450000,
          51150000,
          49290000,
          46500000,
          44640000,
          39990000,
          39990000,
          28950000,
          24180000,
          23250000,
          23250000,
          11160000,
          7440000,
          2790000,
          202000,
          174700,
          48300
         ]
        }
       ],
       "layout": {
        "autosize": true,
        "geo": {
         "projection": {
          "type": "mercator"
         },
         "showframe": false
        },
        "template": {
         "data": {
          "bar": [
           {
            "error_x": {
             "color": "#2a3f5f"
            },
            "error_y": {
             "color": "#2a3f5f"
            },
            "marker": {
             "line": {
              "color": "#E5ECF6",
              "width": 0.5
             },
             "pattern": {
              "fillmode": "overlay",
              "size": 10,
              "solidity": 0.2
             }
            },
            "type": "bar"
           }
          ],
          "barpolar": [
           {
            "marker": {
             "line": {
              "color": "#E5ECF6",
              "width": 0.5
             },
             "pattern": {
              "fillmode": "overlay",
              "size": 10,
              "solidity": 0.2
             }
            },
            "type": "barpolar"
           }
          ],
          "carpet": [
           {
            "aaxis": {
             "endlinecolor": "#2a3f5f",
             "gridcolor": "white",
             "linecolor": "white",
             "minorgridcolor": "white",
             "startlinecolor": "#2a3f5f"
            },
            "baxis": {
             "endlinecolor": "#2a3f5f",
             "gridcolor": "white",
             "linecolor": "white",
             "minorgridcolor": "white",
             "startlinecolor": "#2a3f5f"
            },
            "type": "carpet"
           }
          ],
          "choropleth": [
           {
            "colorbar": {
             "outlinewidth": 0,
             "ticks": ""
            },
            "type": "choropleth"
           }
          ],
          "contour": [
           {
            "colorbar": {
             "outlinewidth": 0,
             "ticks": ""
            },
            "colorscale": [
             [
              0,
              "#0d0887"
             ],
             [
              0.1111111111111111,
              "#46039f"
             ],
             [
              0.2222222222222222,
              "#7201a8"
             ],
             [
              0.3333333333333333,
              "#9c179e"
             ],
             [
              0.4444444444444444,
              "#bd3786"
             ],
             [
              0.5555555555555556,
              "#d8576b"
             ],
             [
              0.6666666666666666,
              "#ed7953"
             ],
             [
              0.7777777777777778,
              "#fb9f3a"
             ],
             [
              0.8888888888888888,
              "#fdca26"
             ],
             [
              1,
              "#f0f921"
             ]
            ],
            "type": "contour"
           }
          ],
          "contourcarpet": [
           {
            "colorbar": {
             "outlinewidth": 0,
             "ticks": ""
            },
            "type": "contourcarpet"
           }
          ],
          "heatmap": [
           {
            "colorbar": {
             "outlinewidth": 0,
             "ticks": ""
            },
            "colorscale": [
             [
              0,
              "#0d0887"
             ],
             [
              0.1111111111111111,
              "#46039f"
             ],
             [
              0.2222222222222222,
              "#7201a8"
             ],
             [
              0.3333333333333333,
              "#9c179e"
             ],
             [
              0.4444444444444444,
              "#bd3786"
             ],
             [
              0.5555555555555556,
              "#d8576b"
             ],
             [
              0.6666666666666666,
              "#ed7953"
             ],
             [
              0.7777777777777778,
              "#fb9f3a"
             ],
             [
              0.8888888888888888,
              "#fdca26"
             ],
             [
              1,
              "#f0f921"
             ]
            ],
            "type": "heatmap"
           }
          ],
          "heatmapgl": [
           {
            "colorbar": {
             "outlinewidth": 0,
             "ticks": ""
            },
            "colorscale": [
             [
              0,
              "#0d0887"
             ],
             [
              0.1111111111111111,
              "#46039f"
             ],
             [
              0.2222222222222222,
              "#7201a8"
             ],
             [
              0.3333333333333333,
              "#9c179e"
             ],
             [
              0.4444444444444444,
              "#bd3786"
             ],
             [
              0.5555555555555556,
              "#d8576b"
             ],
             [
              0.6666666666666666,
              "#ed7953"
             ],
             [
              0.7777777777777778,
              "#fb9f3a"
             ],
             [
              0.8888888888888888,
              "#fdca26"
             ],
             [
              1,
              "#f0f921"
             ]
            ],
            "type": "heatmapgl"
           }
          ],
          "histogram": [
           {
            "marker": {
             "pattern": {
              "fillmode": "overlay",
              "size": 10,
              "solidity": 0.2
             }
            },
            "type": "histogram"
           }
          ],
          "histogram2d": [
           {
            "colorbar": {
             "outlinewidth": 0,
             "ticks": ""
            },
            "colorscale": [
             [
              0,
              "#0d0887"
             ],
             [
              0.1111111111111111,
              "#46039f"
             ],
             [
              0.2222222222222222,
              "#7201a8"
             ],
             [
              0.3333333333333333,
              "#9c179e"
             ],
             [
              0.4444444444444444,
              "#bd3786"
             ],
             [
              0.5555555555555556,
              "#d8576b"
             ],
             [
              0.6666666666666666,
              "#ed7953"
             ],
             [
              0.7777777777777778,
              "#fb9f3a"
             ],
             [
              0.8888888888888888,
              "#fdca26"
             ],
             [
              1,
              "#f0f921"
             ]
            ],
            "type": "histogram2d"
           }
          ],
          "histogram2dcontour": [
           {
            "colorbar": {
             "outlinewidth": 0,
             "ticks": ""
            },
            "colorscale": [
             [
              0,
              "#0d0887"
             ],
             [
              0.1111111111111111,
              "#46039f"
             ],
             [
              0.2222222222222222,
              "#7201a8"
             ],
             [
              0.3333333333333333,
              "#9c179e"
             ],
             [
              0.4444444444444444,
              "#bd3786"
             ],
             [
              0.5555555555555556,
              "#d8576b"
             ],
             [
              0.6666666666666666,
              "#ed7953"
             ],
             [
              0.7777777777777778,
              "#fb9f3a"
             ],
             [
              0.8888888888888888,
              "#fdca26"
             ],
             [
              1,
              "#f0f921"
             ]
            ],
            "type": "histogram2dcontour"
           }
          ],
          "mesh3d": [
           {
            "colorbar": {
             "outlinewidth": 0,
             "ticks": ""
            },
            "type": "mesh3d"
           }
          ],
          "parcoords": [
           {
            "line": {
             "colorbar": {
              "outlinewidth": 0,
              "ticks": ""
             }
            },
            "type": "parcoords"
           }
          ],
          "pie": [
           {
            "automargin": true,
            "type": "pie"
           }
          ],
          "scatter": [
           {
            "fillpattern": {
             "fillmode": "overlay",
             "size": 10,
             "solidity": 0.2
            },
            "type": "scatter"
           }
          ],
          "scatter3d": [
           {
            "line": {
             "colorbar": {
              "outlinewidth": 0,
              "ticks": ""
             }
            },
            "marker": {
             "colorbar": {
              "outlinewidth": 0,
              "ticks": ""
             }
            },
            "type": "scatter3d"
           }
          ],
          "scattercarpet": [
           {
            "marker": {
             "colorbar": {
              "outlinewidth": 0,
              "ticks": ""
             }
            },
            "type": "scattercarpet"
           }
          ],
          "scattergeo": [
           {
            "marker": {
             "colorbar": {
              "outlinewidth": 0,
              "ticks": ""
             }
            },
            "type": "scattergeo"
           }
          ],
          "scattergl": [
           {
            "marker": {
             "colorbar": {
              "outlinewidth": 0,
              "ticks": ""
             }
            },
            "type": "scattergl"
           }
          ],
          "scattermapbox": [
           {
            "marker": {
             "colorbar": {
              "outlinewidth": 0,
              "ticks": ""
             }
            },
            "type": "scattermapbox"
           }
          ],
          "scatterpolar": [
           {
            "marker": {
             "colorbar": {
              "outlinewidth": 0,
              "ticks": ""
             }
            },
            "type": "scatterpolar"
           }
          ],
          "scatterpolargl": [
           {
            "marker": {
             "colorbar": {
              "outlinewidth": 0,
              "ticks": ""
             }
            },
            "type": "scatterpolargl"
           }
          ],
          "scatterternary": [
           {
            "marker": {
             "colorbar": {
              "outlinewidth": 0,
              "ticks": ""
             }
            },
            "type": "scatterternary"
           }
          ],
          "surface": [
           {
            "colorbar": {
             "outlinewidth": 0,
             "ticks": ""
            },
            "colorscale": [
             [
              0,
              "#0d0887"
             ],
             [
              0.1111111111111111,
              "#46039f"
             ],
             [
              0.2222222222222222,
              "#7201a8"
             ],
             [
              0.3333333333333333,
              "#9c179e"
             ],
             [
              0.4444444444444444,
              "#bd3786"
             ],
             [
              0.5555555555555556,
              "#d8576b"
             ],
             [
              0.6666666666666666,
              "#ed7953"
             ],
             [
              0.7777777777777778,
              "#fb9f3a"
             ],
             [
              0.8888888888888888,
              "#fdca26"
             ],
             [
              1,
              "#f0f921"
             ]
            ],
            "type": "surface"
           }
          ],
          "table": [
           {
            "cells": {
             "fill": {
              "color": "#EBF0F8"
             },
             "line": {
              "color": "white"
             }
            },
            "header": {
             "fill": {
              "color": "#C8D4E3"
             },
             "line": {
              "color": "white"
             }
            },
            "type": "table"
           }
          ]
         },
         "layout": {
          "annotationdefaults": {
           "arrowcolor": "#2a3f5f",
           "arrowhead": 0,
           "arrowwidth": 1
          },
          "autotypenumbers": "strict",
          "coloraxis": {
           "colorbar": {
            "outlinewidth": 0,
            "ticks": ""
           }
          },
          "colorscale": {
           "diverging": [
            [
             0,
             "#8e0152"
            ],
            [
             0.1,
             "#c51b7d"
            ],
            [
             0.2,
             "#de77ae"
            ],
            [
             0.3,
             "#f1b6da"
            ],
            [
             0.4,
             "#fde0ef"
            ],
            [
             0.5,
             "#f7f7f7"
            ],
            [
             0.6,
             "#e6f5d0"
            ],
            [
             0.7,
             "#b8e186"
            ],
            [
             0.8,
             "#7fbc41"
            ],
            [
             0.9,
             "#4d9221"
            ],
            [
             1,
             "#276419"
            ]
           ],
           "sequential": [
            [
             0,
             "#0d0887"
            ],
            [
             0.1111111111111111,
             "#46039f"
            ],
            [
             0.2222222222222222,
             "#7201a8"
            ],
            [
             0.3333333333333333,
             "#9c179e"
            ],
            [
             0.4444444444444444,
             "#bd3786"
            ],
            [
             0.5555555555555556,
             "#d8576b"
            ],
            [
             0.6666666666666666,
             "#ed7953"
            ],
            [
             0.7777777777777778,
             "#fb9f3a"
            ],
            [
             0.8888888888888888,
             "#fdca26"
            ],
            [
             1,
             "#f0f921"
            ]
           ],
           "sequentialminus": [
            [
             0,
             "#0d0887"
            ],
            [
             0.1111111111111111,
             "#46039f"
            ],
            [
             0.2222222222222222,
             "#7201a8"
            ],
            [
             0.3333333333333333,
             "#9c179e"
            ],
            [
             0.4444444444444444,
             "#bd3786"
            ],
            [
             0.5555555555555556,
             "#d8576b"
            ],
            [
             0.6666666666666666,
             "#ed7953"
            ],
            [
             0.7777777777777778,
             "#fb9f3a"
            ],
            [
             0.8888888888888888,
             "#fdca26"
            ],
            [
             1,
             "#f0f921"
            ]
           ]
          },
          "colorway": [
           "#636efa",
           "#EF553B",
           "#00cc96",
           "#ab63fa",
           "#FFA15A",
           "#19d3f3",
           "#FF6692",
           "#B6E880",
           "#FF97FF",
           "#FECB52"
          ],
          "font": {
           "color": "#2a3f5f"
          },
          "geo": {
           "bgcolor": "white",
           "lakecolor": "white",
           "landcolor": "#E5ECF6",
           "showlakes": true,
           "showland": true,
           "subunitcolor": "white"
          },
          "hoverlabel": {
           "align": "left"
          },
          "hovermode": "closest",
          "mapbox": {
           "style": "light"
          },
          "paper_bgcolor": "white",
          "plot_bgcolor": "#E5ECF6",
          "polar": {
           "angularaxis": {
            "gridcolor": "white",
            "linecolor": "white",
            "ticks": ""
           },
           "bgcolor": "#E5ECF6",
           "radialaxis": {
            "gridcolor": "white",
            "linecolor": "white",
            "ticks": ""
           }
          },
          "scene": {
           "xaxis": {
            "backgroundcolor": "#E5ECF6",
            "gridcolor": "white",
            "gridwidth": 2,
            "linecolor": "white",
            "showbackground": true,
            "ticks": "",
            "zerolinecolor": "white"
           },
           "yaxis": {
            "backgroundcolor": "#E5ECF6",
            "gridcolor": "white",
            "gridwidth": 2,
            "linecolor": "white",
            "showbackground": true,
            "ticks": "",
            "zerolinecolor": "white"
           },
           "zaxis": {
            "backgroundcolor": "#E5ECF6",
            "gridcolor": "white",
            "gridwidth": 2,
            "linecolor": "white",
            "showbackground": true,
            "ticks": "",
            "zerolinecolor": "white"
           }
          },
          "shapedefaults": {
           "line": {
            "color": "#2a3f5f"
           }
          },
          "ternary": {
           "aaxis": {
            "gridcolor": "white",
            "linecolor": "white",
            "ticks": ""
           },
           "baxis": {
            "gridcolor": "white",
            "linecolor": "white",
            "ticks": ""
           },
           "bgcolor": "#E5ECF6",
           "caxis": {
            "gridcolor": "white",
            "linecolor": "white",
            "ticks": ""
           }
          },
          "title": {
           "x": 0.05
          },
          "xaxis": {
           "automargin": true,
           "gridcolor": "white",
           "linecolor": "white",
           "ticks": "",
           "title": {
            "standoff": 15
           },
           "zerolinecolor": "white",
           "zerolinewidth": 2
          },
          "yaxis": {
           "automargin": true,
           "gridcolor": "white",
           "linecolor": "white",
           "ticks": "",
           "title": {
            "standoff": 15
           },
           "zerolinecolor": "white",
           "zerolinewidth": 2
          }
         }
        },
        "title": {
         "text": "2014 Power Consumption KWH"
        }
       }
      },
      "image/png": "[encoded data removed]",
      "text/html": [
       "<div>                            <div id=\"5374aef3-d0f2-4a77-b699-4f3a887f0229\" class=\"plotly-graph-div\" style=\"height:525px; width:100%;\"></div>            <script type=\"text/javascript\">                require([\"plotly\"], function(Plotly) {                    window.PLOTLYENV=window.PLOTLYENV || {};                                    if (document.getElementById(\"5374aef3-d0f2-4a77-b699-4f3a887f0229\")) {                    Plotly.newPlot(                        \"5374aef3-d0f2-4a77-b699-4f3a887f0229\",                        [{\"colorbar\":{\"title\":{\"text\":\"Power Consumption KWH\"}},\"colorscale\":[[0.0,\"#440154\"],[0.1111111111111111,\"#482878\"],[0.2222222222222222,\"#3e4989\"],[0.3333333333333333,\"#31688e\"],[0.4444444444444444,\"#26828e\"],[0.5555555555555556,\"#1f9e89\"],[0.6666666666666666,\"#35b779\"],[0.7777777777777778,\"#6ece58\"],[0.8888888888888888,\"#b5de2b\"],[1.0,\"#fde725\"]],\"locationmode\":\"country names\",\"locations\":[\"China\",\"United States\",\"European\",\"Russia\",\"Japan\",\"India\",\"Germany\",\"Canada\",\"Brazil\",\"Korea,\",\"France\",\"United Kingdom\",\"Italy\",\"Taiwan\",\"Spain\",\"Mexico\",\"Saudi\",\"Australia\",\"South\",\"Turkey\",\"Iran\",\"Indonesia\",\"Ukraine\",\"Thailand\",\"Poland\",\"Egypt\",\"Sweden\",\"Norway\",\"Malaysia\",\"Argentina\",\"Netherlands\",\"Vietnam\",\"Venezuela\",\"United Arab Emirates\",\"Finland\",\"Belgium\",\"Kazakhstan\",\"Pakistan\",\"Philippines\",\"Austria\",\"Chile\",\"Czechia\",\"Israel\",\"Switzerland\",\"Greece\",\"Iraq\",\"Romania\",\"Kuwait\",\"Colombia\",\"Singapore\",\"Portugal\",\"Uzbekistan\",\"Hong\",\"Algeria\",\"Bangladesh\",\"New\",\"Bulgaria\",\"Belarus\",\"Peru\",\"Denmark\",\"Qatar\",\"Slovakia\",\"Libya\",\"Serbia\",\"Morocco\",\"Syria\",\"Nigeria\",\"Ireland\",\"Hungary\",\"Oman\",\"Ecuador\",\"Puerto\",\"Azerbaijan\",\"Croatia\",\"Iceland\",\"Cuba\",\"Korea,\",\"Dominican\",\"Jordan\",\"Tajikistan\",\"Tunisia\",\"Slovenia\",\"Lebanon\",\"Bosnia\",\"Turkmenistan\",\"Bahrain\",\"Mozambique\",\"Ghana\",\"Sri\",\"Kyrgyzstan\",\"Lithuania\",\"Uruguay\",\"Costa\",\"Guatemala\",\"Georgia\",\"Trinidad\",\"Zambia\",\"Paraguay\",\"Albania\",\"Burma\",\"Estonia\",\"Congo,\",\"Panama\",\"Latvia\",\"Macedonia\",\"Zimbabwe\",\"Kenya\",\"Bolivia\",\"Luxembourg\",\"Sudan\",\"El\",\"Cameroon\",\"West\",\"Ethiopia\",\"Armenia\",\"Honduras\",\"Angola\",\"Cote\",\"Tanzania\",\"Nicaragua\",\"Moldova\",\"Cyprus\",\"Macau\",\"Namibia\",\"Mongolia\",\"Afghanistan\",\"Yemen\",\"Brunei\",\"Cambodia\",\"Montenegro\",\"Nepal\",\"Botswana\",\"Papua\",\"Jamaica\",\"Kosovo\",\"Laos\",\"Uganda\",\"New\",\"Mauritius\",\"Senegal\",\"Bhutan\",\"Malawi\",\"Madagascar\",\"Bahamas,\",\"Gabon\",\"Suriname\",\"Guam\",\"Liechtenstein\",\"Swaziland\",\"Burkina\",\"Togo\",\"Curacao\",\"Mauritania\",\"Barbados\",\"Niger\",\"Aruba\",\"Benin\",\"Guinea\",\"Mali\",\"Fiji\",\"Congo,\",\"Virgin\",\"Lesotho\",\"South\",\"Bermuda\",\"French\",\"Jersey\",\"Belize\",\"Andorra\",\"Guyana\",\"Cayman\",\"Haiti\",\"Rwanda\",\"Saint\",\"Djibouti\",\"Seychelles\",\"Somalia\",\"Antigua\",\"Greenland\",\"Cabo\",\"Eritrea\",\"Burundi\",\"Liberia\",\"Maldives\",\"Faroe\",\"Gambia,\",\"Chad\",\"Micronesia,\",\"Grenada\",\"Central\",\"Turks\",\"Gibraltar\",\"American\",\"Sierra\",\"Saint\",\"Saint\",\"Timor-Leste\",\"Equatorial\",\"Samoa\",\"Dominica\",\"Western\",\"Solomon\",\"Sao\",\"British\",\"Vanuatu\",\"Guinea-Bissau\",\"Tonga\",\"Saint\",\"Comoros\",\"Cook\",\"Kiribati\",\"Montserrat\",\"Nauru\",\"Falkland\",\"Saint\",\"Niue\",\"Gaza\",\"Malta\",\"Northern\"],\"reversescale\":true,\"text\":[\"China\",\"United States\",\"European\",\"Russia\",\"Japan\",\"India\",\"Germany\",\"Canada\",\"Brazil\",\"Korea,\",\"France\",\"United Kingdom\",\"Italy\",\"Taiwan\",\"Spain\",\"Mexico\",\"Saudi\",\"Australia\",\"South\",\"Turkey\",\"Iran\",\"Indonesia\",\"Ukraine\",\"Thailand\",\"Poland\",\"Egypt\",\"Sweden\",\"Norway\",\"Malaysia\",\"Argentina\",\"Netherlands\",\"Vietnam\",\"Venezuela\",\"United Arab Emirates\",\"Finland\",\"Belgium\",\"Kazakhstan\",\"Pakistan\",\"Philippines\",\"Austria\",\"Chile\",\"Czechia\",\"Israel\",\"Switzerland\",\"Greece\",\"Iraq\",\"Romania\",\"Kuwait\",\"Colombia\",\"Singapore\",\"Portugal\",\"Uzbekistan\",\"Hong\",\"Algeria\",\"Bangladesh\",\"New\",\"Bulgaria\",\"Belarus\",\"Peru\",\"Denmark\",\"Qatar\",\"Slovakia\",\"Libya\",\"Serbia\",\"Morocco\",\"Syria\",\"Nigeria\",\"Ireland\",\"Hungary\",\"Oman\",\"Ecuador\",\"Puerto\",\"Azerbaijan\",\"Croatia\",\"Iceland\",\"Cuba\",\"Korea,\",\"Dominican\",\"Jordan\",\"Tajikistan\",\"Tunisia\",\"Slovenia\",\"Lebanon\",\"Bosnia\",\"Turkmenistan\",\"Bahrain\",\"Mozambique\",\"Ghana\",\"Sri\",\"Kyrgyzstan\",\"Lithuania\",\"Uruguay\",\"Costa\",\"Guatemala\",\"Georgia\",\"Trinidad\",\"Zambia\",\"Paraguay\",\"Albania\",\"Burma\",\"Estonia\",\"Congo,\",\"Panama\",\"Latvia\",\"Macedonia\",\"Zimbabwe\",\"Kenya\",\"Bolivia\",\"Luxembourg\",\"Sudan\",\"El\",\"Cameroon\",\"West\",\"Ethiopia\",\"Armenia\",\"Honduras\",\"Angola\",\"Cote\",\"Tanzania\",\"Nicaragua\",\"Moldova\",\"Cyprus\",\"Macau\",\"Namibia\",\"Mongolia\",\"Afghanistan\",\"Yemen\",\"Brunei\",\"Cambodia\",\"Montenegro\",\"Nepal\",\"Botswana\",\"Papua\",\"Jamaica\",\"Kosovo\",\"Laos\",\"Uganda\",\"New\",\"Mauritius\",\"Senegal\",\"Bhutan\",\"Malawi\",\"Madagascar\",\"Bahamas,\",\"Gabon\",\"Suriname\",\"Guam\",\"Liechtenstein\",\"Swaziland\",\"Burkina\",\"Togo\",\"Curacao\",\"Mauritania\",\"Barbados\",\"Niger\",\"Aruba\",\"Benin\",\"Guinea\",\"Mali\",\"Fiji\",\"Congo,\",\"Virgin\",\"Lesotho\",\"South\",\"Bermuda\",\"French\",\"Jersey\",\"Belize\",\"Andorra\",\"Guyana\",\"Cayman\",\"Haiti\",\"Rwanda\",\"Saint\",\"Djibouti\",\"Seychelles\",\"Somalia\",\"Antigua\",\"Greenland\",\"Cabo\",\"Eritrea\",\"Burundi\",\"Liberia\",\"Maldives\",\"Faroe\",\"Gambia,\",\"Chad\",\"Micronesia,\",\"Grenada\",\"Central\",\"Turks\",\"Gibraltar\",\"American\",\"Sierra\",\"Saint\",\"Saint\",\"Timor-Leste\",\"Equatorial\",\"Samoa\",\"Dominica\",\"Western\",\"Solomon\",\"Sao\",\"British\",\"Vanuatu\",\"Guinea-Bissau\",\"Tonga\",\"Saint\",\"Comoros\",\"Cook\",\"Kiribati\",\"Montserrat\",\"Nauru\",\"Falkland\",\"Saint\",\"Niue\",\"Gaza\",\"Malta\",\"Northern\"],\"z\":[5523000000000.0,3832000000000.0,2771000000000.0,1065000000000.0,921000000000.0,864700000000.0,540100000000.0,511000000000.0,483500000000.0,482400000000.0,451100000000.0,319100000000.0,303100000000.0,249500000000.0,243100000000.0,234000000000.0,231600000000.0,222600000000.0,211600000000.0,197000000000.0,195300000000.0,167500000000.0,159800000000.0,155900000000.0,139000000000.0,135600000000.0,130500000000.0,126400000000.0,118500000000.0,117100000000.0,116800000000.0,108300000000.0,97690000000.0,93280000000.0,82040000000.0,81890000000.0,80290000000.0,78890000000.0,75270000000.0,69750000000.0,63390000000.0,60550000000.0,59830000000.0,58010000000.0,57730000000.0,53410000000.0,50730000000.0,50000000000.0,49380000000.0,47180000000.0,46250000000.0,45210000000.0,44210000000.0,42870000000.0,41520000000.0,40300000000.0,37990000000.0,37880000000.0,35690000000.0,31960000000.0,30530000000.0,28360000000.0,27540000000.0,26910000000.0,26700000000.0,25700000000.0,24780000000.0,24240000000.0,21550000000.0,20360000000.0,19020000000.0,18620000000.0,17790000000.0,16970000000.0,16940000000.0,16200000000.0,16000000000.0,15140000000.0,14560000000.0,14420000000.0,13310000000.0,13020000000.0,12940000000.0,12560000000.0,11750000000.0,11690000000.0,11280000000.0,10580000000.0,10170000000.0,9943000000.0,9664000000.0,9559000000.0,8987000000.0,8915000000.0,8468000000.0,8365000000.0,8327000000.0,8125000000.0,7793000000.0,7765000000.0,7417000000.0,7292000000.0,7144000000.0,7141000000.0,6960000000.0,6831000000.0,6627000000.0,6456000000.0,6108000000.0,5665000000.0,5665000000.0,5535000000.0,5312000000.0,5227000000.0,5043000000.0,5036000000.0,4842000000.0,4731000000.0,4545000000.0,4412000000.0,4305000000.0,4296000000.0,4291000000.0,4238000000.0,4204000000.0,3893000000.0,3838000000.0,3766000000.0,3553000000.0,3465000000.0,3239000000.0,3213000000.0,3116000000.0,3008000000.0,2887000000.0,2874000000.0,2821000000.0,2716000000.0,2658000000.0,2586000000.0,2085000000.0,2027000000.0,1883000000.0,1716000000.0,1680000000.0,1572000000.0,1566000000.0,1360000000.0,1295000000.0,985500000.0,976000000.0,968000000.0,962600000.0,938000000.0,930200000.0,920700000.0,911000000.0,903000000.0,882600000.0,777600000.0,740000000.0,723500000.0,707000000.0,694100000.0,664200000.0,652900000.0,630100000.0,605000000.0,562400000.0,558000000.0,545900000.0,452000000.0,365500000.0,336400000.0,311600000.0,293900000.0,293000000.0,293000000.0,292000000.0,285500000.0,284000000.0,282900000.0,276900000.0,267100000.0,261300000.0,218600000.0,190700000.0,178600000.0,178000000.0,168300000.0,167400000.0,160000000.0,146000000.0,134900000.0,130200000.0,127400000.0,125300000.0,93000000.0,90400000.0,89750000.0,83700000.0,79050000.0,60450000.0,51150000.0,49290000.0,46500000.0,44640000.0,39990000.0,39990000.0,28950000.0,24180000.0,23250000.0,23250000.0,11160000.0,7440000.0,2790000.0,202000.0,174700.0,48300.0],\"type\":\"choropleth\"}],                        {\"geo\":{\"projection\":{\"type\":\"mercator\"},\"showframe\":false},\"title\":{\"text\":\"2014 Power Consumption KWH\"},\"template\":{\"data\":{\"histogram2dcontour\":[{\"type\":\"histogram2dcontour\",\"colorbar\":{\"outlinewidth\":0,\"ticks\":\"\"},\"colorscale\":[[0.0,\"#0d0887\"],[0.1111111111111111,\"#46039f\"],[0.2222222222222222,\"#7201a8\"],[0.3333333333333333,\"#9c179e\"],[0.4444444444444444,\"#bd3786\"],[0.5555555555555556,\"#d8576b\"],[0.6666666666666666,\"#ed7953\"],[0.7777777777777778,\"#fb9f3a\"],[0.8888888888888888,\"#fdca26\"],[1.0,\"#f0f921\"]]}],\"choropleth\":[{\"type\":\"choropleth\",\"colorbar\":{\"outlinewidth\":0,\"ticks\":\"\"}}],\"histogram2d\":[{\"type\":\"histogram2d\",\"colorbar\":{\"outlinewidth\":0,\"ticks\":\"\"},\"colorscale\":[[0.0,\"#0d0887\"],[0.1111111111111111,\"#46039f\"],[0.2222222222222222,\"#7201a8\"],[0.3333333333333333,\"#9c179e\"],[0.4444444444444444,\"#bd3786\"],[0.5555555555555556,\"#d8576b\"],[0.6666666666666666,\"#ed7953\"],[0.7777777777777778,\"#fb9f3a\"],[0.8888888888888888,\"#fdca26\"],[1.0,\"#f0f921\"]]}],\"heatmap\":[{\"type\":\"heatmap\",\"colorbar\":{\"outlinewidth\":0,\"ticks\":\"\"},\"colorscale\":[[0.0,\"#0d0887\"],[0.1111111111111111,\"#46039f\"],[0.2222222222222222,\"#7201a8\"],[0.3333333333333333,\"#9c179e\"],[0.4444444444444444,\"#bd3786\"],[0.5555555555555556,\"#d8576b\"],[0.6666666666666666,\"#ed7953\"],[0.7777777777777778,\"#fb9f3a\"],[0.8888888888888888,\"#fdca26\"],[1.0,\"#f0f921\"]]}],\"heatmapgl\":[{\"type\":\"heatmapgl\",\"colorbar\":{\"outlinewidth\":0,\"ticks\":\"\"},\"colorscale\":[[0.0,\"#0d0887\"],[0.1111111111111111,\"#46039f\"],[0.2222222222222222,\"#7201a8\"],[0.3333333333333333,\"#9c179e\"],[0.4444444444444444,\"#bd3786\"],[0.5555555555555556,\"#d8576b\"],[0.6666666666666666,\"#ed7953\"],[0.7777777777777778,\"#fb9f3a\"],[0.8888888888888888,\"#fdca26\"],[1.0,\"#f0f921\"]]}],\"contourcarpet\":[{\"type\":\"contourcarpet\",\"colorbar\":{\"outlinewidth\":0,\"ticks\":\"\"}}],\"contour\":[{\"type\":\"contour\",\"colorbar\":{\"outlinewidth\":0,\"ticks\":\"\"},\"colorscale\":[[0.0,\"#0d0887\"],[0.1111111111111111,\"#46039f\"],[0.2222222222222222,\"#7201a8\"],[0.3333333333333333,\"#9c179e\"],[0.4444444444444444,\"#bd3786\"],[0.5555555555555556,\"#d8576b\"],[0.6666666666666666,\"#ed7953\"],[0.7777777777777778,\"#fb9f3a\"],[0.8888888888888888,\"#fdca26\"],[1.0,\"#f0f921\"]]}],\"surface\":[{\"type\":\"surface\",\"colorbar\":{\"outlinewidth\":0,\"ticks\":\"\"},\"colorscale\":[[0.0,\"#0d0887\"],[0.1111111111111111,\"#46039f\"],[0.2222222222222222,\"#7201a8\"],[0.3333333333333333,\"#9c179e\"],[0.4444444444444444,\"#bd3786\"],[0.5555555555555556,\"#d8576b\"],[0.6666666666666666,\"#ed7953\"],[0.7777777777777778,\"#fb9f3a\"],[0.8888888888888888,\"#fdca26\"],[1.0,\"#f0f921\"]]}],\"mesh3d\":[{\"type\":\"mesh3d\",\"colorbar\":{\"outlinewidth\":0,\"ticks\":\"\"}}],\"scatter\":[{\"fillpattern\":{\"fillmode\":\"overlay\",\"size\":10,\"solidity\":0.2},\"type\":\"scatter\"}],\"parcoords\":[{\"type\":\"parcoords\",\"line\":{\"colorbar\":{\"outlinewidth\":0,\"ticks\":\"\"}}}],\"scatterpolargl\":[{\"type\":\"scatterpolargl\",\"marker\":{\"colorbar\":{\"outlinewidth\":0,\"ticks\":\"\"}}}],\"bar\":[{\"error_x\":{\"color\":\"#2a3f5f\"},\"error_y\":{\"color\":\"#2a3f5f\"},\"marker\":{\"line\":{\"color\":\"#E5ECF6\",\"width\":0.5},\"pattern\":{\"fillmode\":\"overlay\",\"size\":10,\"solidity\":0.2}},\"type\":\"bar\"}],\"scattergeo\":[{\"type\":\"scattergeo\",\"marker\":{\"colorbar\":{\"outlinewidth\":0,\"ticks\":\"\"}}}],\"scatterpolar\":[{\"type\":\"scatterpolar\",\"marker\":{\"colorbar\":{\"outlinewidth\":0,\"ticks\":\"\"}}}],\"histogram\":[{\"marker\":{\"pattern\":{\"fillmode\":\"overlay\",\"size\":10,\"solidity\":0.2}},\"type\":\"histogram\"}],\"scattergl\":[{\"type\":\"scattergl\",\"marker\":{\"colorbar\":{\"outlinewidth\":0,\"ticks\":\"\"}}}],\"scatter3d\":[{\"type\":\"scatter3d\",\"line\":{\"colorbar\":{\"outlinewidth\":0,\"ticks\":\"\"}},\"marker\":{\"colorbar\":{\"outlinewidth\":0,\"ticks\":\"\"}}}],\"scattermapbox\":[{\"type\":\"scattermapbox\",\"marker\":{\"colorbar\":{\"outlinewidth\":0,\"ticks\":\"\"}}}],\"scatterternary\":[{\"type\":\"scatterternary\",\"marker\":{\"colorbar\":{\"outlinewidth\":0,\"ticks\":\"\"}}}],\"scattercarpet\":[{\"type\":\"scattercarpet\",\"marker\":{\"colorbar\":{\"outlinewidth\":0,\"ticks\":\"\"}}}],\"carpet\":[{\"aaxis\":{\"endlinecolor\":\"#2a3f5f\",\"gridcolor\":\"white\",\"linecolor\":\"white\",\"minorgridcolor\":\"white\",\"startlinecolor\":\"#2a3f5f\"},\"baxis\":{\"endlinecolor\":\"#2a3f5f\",\"gridcolor\":\"white\",\"linecolor\":\"white\",\"minorgridcolor\":\"white\",\"startlinecolor\":\"#2a3f5f\"},\"type\":\"carpet\"}],\"table\":[{\"cells\":{\"fill\":{\"color\":\"#EBF0F8\"},\"line\":{\"color\":\"white\"}},\"header\":{\"fill\":{\"color\":\"#C8D4E3\"},\"line\":{\"color\":\"white\"}},\"type\":\"table\"}],\"barpolar\":[{\"marker\":{\"line\":{\"color\":\"#E5ECF6\",\"width\":0.5},\"pattern\":{\"fillmode\":\"overlay\",\"size\":10,\"solidity\":0.2}},\"type\":\"barpolar\"}],\"pie\":[{\"automargin\":true,\"type\":\"pie\"}]},\"layout\":{\"autotypenumbers\":\"strict\",\"colorway\":[\"#636efa\",\"#EF553B\",\"#00cc96\",\"#ab63fa\",\"#FFA15A\",\"#19d3f3\",\"#FF6692\",\"#B6E880\",\"#FF97FF\",\"#FECB52\"],\"font\":{\"color\":\"#2a3f5f\"},\"hovermode\":\"closest\",\"hoverlabel\":{\"align\":\"left\"},\"paper_bgcolor\":\"white\",\"plot_bgcolor\":\"#E5ECF6\",\"polar\":{\"bgcolor\":\"#E5ECF6\",\"angularaxis\":{\"gridcolor\":\"white\",\"linecolor\":\"white\",\"ticks\":\"\"},\"radialaxis\":{\"gridcolor\":\"white\",\"linecolor\":\"white\",\"ticks\":\"\"}},\"ternary\":{\"bgcolor\":\"#E5ECF6\",\"aaxis\":{\"gridcolor\":\"white\",\"linecolor\":\"white\",\"ticks\":\"\"},\"baxis\":{\"gridcolor\":\"white\",\"linecolor\":\"white\",\"ticks\":\"\"},\"caxis\":{\"gridcolor\":\"white\",\"linecolor\":\"white\",\"ticks\":\"\"}},\"coloraxis\":{\"colorbar\":{\"outlinewidth\":0,\"ticks\":\"\"}},\"colorscale\":{\"sequential\":[[0.0,\"#0d0887\"],[0.1111111111111111,\"#46039f\"],[0.2222222222222222,\"#7201a8\"],[0.3333333333333333,\"#9c179e\"],[0.4444444444444444,\"#bd3786\"],[0.5555555555555556,\"#d8576b\"],[0.6666666666666666,\"#ed7953\"],[0.7777777777777778,\"#fb9f3a\"],[0.8888888888888888,\"#fdca26\"],[1.0,\"#f0f921\"]],\"sequentialminus\":[[0.0,\"#0d0887\"],[0.1111111111111111,\"#46039f\"],[0.2222222222222222,\"#7201a8\"],[0.3333333333333333,\"#9c179e\"],[0.4444444444444444,\"#bd3786\"],[0.5555555555555556,\"#d8576b\"],[0.6666666666666666,\"#ed7953\"],[0.7777777777777778,\"#fb9f3a\"],[0.8888888888888888,\"#fdca26\"],[1.0,\"#f0f921\"]],\"diverging\":[[0,\"#8e0152\"],[0.1,\"#c51b7d\"],[0.2,\"#de77ae\"],[0.3,\"#f1b6da\"],[0.4,\"#fde0ef\"],[0.5,\"#f7f7f7\"],[0.6,\"#e6f5d0\"],[0.7,\"#b8e186\"],[0.8,\"#7fbc41\"],[0.9,\"#4d9221\"],[1,\"#276419\"]]},\"xaxis\":{\"gridcolor\":\"white\",\"linecolor\":\"white\",\"ticks\":\"\",\"title\":{\"standoff\":15},\"zerolinecolor\":\"white\",\"automargin\":true,\"zerolinewidth\":2},\"yaxis\":{\"gridcolor\":\"white\",\"linecolor\":\"white\",\"ticks\":\"\",\"title\":{\"standoff\":15},\"zerolinecolor\":\"white\",\"automargin\":true,\"zerolinewidth\":2},\"scene\":{\"xaxis\":{\"backgroundcolor\":\"#E5ECF6\",\"gridcolor\":\"white\",\"linecolor\":\"white\",\"showbackground\":true,\"ticks\":\"\",\"zerolinecolor\":\"white\",\"gridwidth\":2},\"yaxis\":{\"backgroundcolor\":\"#E5ECF6\",\"gridcolor\":\"white\",\"linecolor\":\"white\",\"showbackground\":true,\"ticks\":\"\",\"zerolinecolor\":\"white\",\"gridwidth\":2},\"zaxis\":{\"backgroundcolor\":\"#E5ECF6\",\"gridcolor\":\"white\",\"linecolor\":\"white\",\"showbackground\":true,\"ticks\":\"\",\"zerolinecolor\":\"white\",\"gridwidth\":2}},\"shapedefaults\":{\"line\":{\"color\":\"#2a3f5f\"}},\"annotationdefaults\":{\"arrowcolor\":\"#2a3f5f\",\"arrowhead\":0,\"arrowwidth\":1},\"geo\":{\"bgcolor\":\"white\",\"landcolor\":\"#E5ECF6\",\"subunitcolor\":\"white\",\"showland\":true,\"showlakes\":true,\"lakecolor\":\"white\"},\"title\":{\"x\":0.05},\"mapbox\":{\"style\":\"light\"}}}},                        {\"responsive\": true}                    ).then(function(){\n",
       "                            \n",
       "var gd = document.getElementById('5374aef3-d0f2-4a77-b699-4f3a887f0229');\n",
       "var x = new MutationObserver(function (mutations, observer) {{\n",
       "        var display = window.getComputedStyle(gd).display;\n",
       "        if (!display || display === 'none') {{\n",
       "            console.log([gd, 'removed!']);\n",
       "            Plotly.purge(gd);\n",
       "            observer.disconnect();\n",
       "        }}\n",
       "}});\n",
       "\n",
       "// Listen for the removal of the full notebook cells\n",
       "var notebookContainer = gd.closest('#notebook-container');\n",
       "if (notebookContainer) {{\n",
       "    x.observe(notebookContainer, {childList: true});\n",
       "}}\n",
       "\n",
       "// Listen for the clearing of the current output cell\n",
       "var outputEl = gd.closest('.output');\n",
       "if (outputEl) {{\n",
       "    x.observe(outputEl, {childList: true});\n",
       "}}\n",
       "\n",
       "                        })                };                });            </script>        </div>"
      ]
     },
     "metadata": {},
     "output_type": "display_data"
    }
   ],
   "source": [
    "choromap = go.Figure(data=[data],layout=layout)\n",
    "iplot(choromap,validate=False)"
   ]
  },
  {
   "cell_type": "code",
   "execution_count": 7,
   "id": "e48e8f5a-0e0e-44d5-8d10-a7cf7b06e90f",
   "metadata": {},
   "outputs": [],
   "source": [
    "#!pip install requests"
   ]
  },
  {
   "cell_type": "code",
   "execution_count": 21,
   "id": "0dcdc850-21f1-46c7-b3d9-75212851882c",
   "metadata": {},
   "outputs": [],
   "source": [
    "df = pd.read_clipboard(header=None)"
   ]
  },
  {
   "cell_type": "code",
   "execution_count": 23,
   "id": "3d8fe51a-d2bb-4e99-b8d4-054b02d6a790",
   "metadata": {},
   "outputs": [],
   "source": [
    "df.columns=['Country','Count']"
   ]
  },
  {
   "cell_type": "code",
   "execution_count": 24,
   "id": "63015abe-d54c-49b1-8012-5ef24247cdcd",
   "metadata": {},
   "outputs": [],
   "source": [
    "data = dict(\n",
    "        type = 'choropleth',\n",
    "        colorscale = 'Viridis',\n",
    "        reversescale = True,\n",
    "        locations = df['Country'],\n",
    "        locationmode = \"country names\",\n",
    "        z = df['Count'],\n",
    "        text = df['Country'],\n",
    "        colorbar = {'title' : 'Marsa gidecek isimler'},\n",
    "        )\n",
    "layout = dict(title = 'Mars',\n",
    "             geo = dict(showframe = False,\n",
    "                       projection = {'type':'mercator'})\n",
    "             )"
   ]
  },
  {
   "cell_type": "code",
   "execution_count": 25,
   "id": "6a142293-cc8c-4ff4-bd33-0aa4eff5ef90",
   "metadata": {},
   "outputs": [
    {
     "data": {
      "application/vnd.plotly.v1+json": {
       "config": {
        "linkText": "Export to plot.ly",
        "plotlyServerURL": "https://plot.ly",
        "showLink": false
       },
       "data": [
        {
         "colorbar": {
          "title": {
           "text": "Marsa gidecek isimler"
          }
         },
         "colorscale": [
          [
           0,
           "#440154"
          ],
          [
           0.1111111111111111,
           "#482878"
          ],
          [
           0.2222222222222222,
           "#3e4989"
          ],
          [
           0.3333333333333333,
           "#31688e"
          ],
          [
           0.4444444444444444,
           "#26828e"
          ],
          [
           0.5555555555555556,
           "#1f9e89"
          ],
          [
           0.6666666666666666,
           "#35b779"
          ],
          [
           0.7777777777777778,
           "#6ece58"
          ],
          [
           0.8888888888888888,
           "#b5de2b"
          ],
          [
           1,
           "#fde725"
          ]
         ],
         "locationmode": "country names",
         "locations": [
          "CHINA",
          "UNITED STATES",
          "PHILIPPINES",
          "BRAZIL",
          "UNITED KINGDOM",
          "RUSSIA",
          "ITALY",
          "MEXICO",
          "INDIA",
          "FRANCE",
          "INDONESIA",
          "UKRAINE",
          "CANADA",
          "SPAIN",
          "GERMANY",
          "MALAYSIA",
          "SOUTH KOREA",
          "AUSTRALIA",
          "KAZAKHSTAN",
          "PERU",
          "COLOMBIA",
          "POLAND",
          "TURKEY",
          "ARGENTINA",
          "CHILE",
          "CZECHIA",
          "ECUADOR",
          "IRAN",
          "VIETNAM",
          "PORTUGAL",
          "IRELAND",
          "TAIWAN",
          "SWEDEN",
          "BELARUS",
          "ROMANIA",
          "BELGIUM",
          "HONG KONG SAR CHINA",
          "ARMENIA",
          "THAILAND",
          "NETHERLANDS",
          "GREECE",
          "BANGLADESH",
          "SOUTH AFRICA",
          "AFGHANISTAN",
          "EGYPT",
          "UZBEKISTAN",
          "HUNGARY",
          "SAUDI ARABIA",
          "AUSTRIA",
          "ALBANIA",
          "ALGERIA",
          "COSTA RICA",
          "UNITED ARAB EMIRATES",
          "NEW ZEALAND",
          "SWITZERLAND",
          "JAPAN",
          "ISRAEL",
          "BOLIVIA",
          "SLOVAKIA",
          "AZERBAIJAN",
          "GUATEMALA",
          "SINGAPORE",
          "VENEZUELA",
          "SERBIA",
          "CROATIA",
          "NORWAY",
          "MOROCCO",
          "PAKISTAN",
          "AMERICAN SAMOA",
          "DENMARK",
          "KYRGYZSTAN",
          "FINLAND",
          "IRAQ",
          "BULGARIA",
          "ANDORRA",
          "MOLDOVA",
          "EL SALVADOR",
          "GEORGIA",
          "PANAMA",
          "LITHUANIA",
          "HONDURAS",
          "LEBANON",
          "PUERTO RICO",
          "BOSNIA & HERZEGOVINA",
          "JORDAN",
          "LATVIA",
          "NEPAL",
          "DOMINICAN REPUBLIC",
          "SRI LANKA",
          "PARAGUAY",
          "URUGUAY",
          "ANGOLA",
          "TUNISIA",
          "ESTONIA",
          "TRINIDAD & TOBAGO",
          "ANTARCTICA",
          "NICARAGUA",
          "SLOVENIA",
          "ANGUILLA",
          "KUWAIT",
          "MYANMAR (BURMA)",
          "CYPRUS",
          "BAHRAIN",
          "NORTH MACEDONIA",
          "ARUBA",
          "SYRIA",
          "BAHAMAS",
          "NORTH KOREA",
          "KOSOVO",
          "CANARY ISLANDS",
          "QATAR",
          "ASCENSION ISLAND",
          "MACAO SAR CHINA",
          "MALDIVES",
          "ANTIGUA & BARBUDA",
          "NIGERIA",
          "PALESTINIAN TERRITORIES",
          "OMAN",
          "CAMBODIA",
          "MALTA",
          "KENYA",
          "BRUNEI",
          "MONTENEGRO",
          "GUYANA",
          "LUXEMBOURG",
          "MAURITIUS",
          "RÉUNION",
          "ZIMBABWE",
          "CUBA",
          "ICELAND",
          "CHRISTMAS ISLAND",
          "BELIZE",
          "MONGOLIA",
          "YEMEN",
          "TANZANIA",
          "LIBYA",
          "TAJIKISTAN",
          "JAMAICA",
          "BRITISH VIRGIN ISLANDS",
          "SUDAN",
          "GHANA",
          "ETHIOPIA",
          "TURKMENISTAN",
          "CHAD",
          "BHUTAN",
          "BARBADOS",
          "BERMUDA",
          "GUAM",
          "BRITISH INDIAN OCEAN TERRITORY",
          "FIJI",
          "BOTSWANA",
          "JERSEY",
          "FRENCH POLYNESIA",
          "MADAGASCAR",
          "ISLE OF MAN",
          "NIGER",
          "ZAMBIA",
          "BENIN",
          "GUADELOUPE",
          "UGANDA",
          "CAPE VERDE",
          "SURINAME",
          "CAMEROON",
          "CARIBBEAN NETHERLANDS",
          "FRENCH GUIANA",
          "CEUTA & MELILLA",
          "MONACO",
          "CAYMAN ISLANDS",
          "CÔTE D’IVOIRE",
          "MARTINIQUE",
          "BURUNDI",
          "GIBRALTAR",
          "GUERNSEY",
          "MOZAMBIQUE",
          "DOMINICA",
          "FRENCH SOUTHERN TERRITORIES",
          "CENTRAL AFRICAN REPUBLIC",
          "NEW CALEDONIA",
          "BURKINA FASO",
          "SENEGAL",
          "U.S. VIRGIN ISLANDS",
          "CURAÇAO",
          "NAMIBIA",
          "LAOS",
          "NORTHERN MARIANA ISLANDS",
          "COCOS (KEELING) ISLANDS",
          "GREENLAND",
          "VATICAN CITY",
          "CONGO - KINSHASA",
          "SOMALIA",
          "HAITI",
          "RWANDA",
          "COMOROS",
          "COOK ISLANDS",
          "MALI",
          "CONGO - BRAZZAVILLE",
          "GABON",
          "MALAWI",
          "MARSHALL ISLANDS",
          "SOUTH SUDAN",
          "SAN MARINO",
          "GRENADA",
          "EQUATORIAL GUINEA",
          "PITCAIRN ISLANDS",
          "ERITREA",
          "DJIBOUTI",
          "FAROE ISLANDS",
          "MAYOTTE",
          "ESWATINI",
          "DIEGO GARCIA",
          "LIECHTENSTEIN",
          "SAMOA",
          "MAURITANIA",
          "U.S. OUTLYING ISLANDS",
          "TURKS & CAICOS ISLANDS",
          "WALLIS & FUTUNA",
          "TOGO",
          "PAPUA NEW GUINEA",
          "VANUATU",
          "GUINEA",
          "MICRONESIA",
          "SINT MAARTEN",
          "ST. MARTIN",
          "FALKLAND ISLANDS",
          "GAMBIA",
          "PALAU",
          "LIBERIA",
          "ST. LUCIA",
          "WESTERN SAHARA",
          "SEYCHELLES",
          "SOUTH GEORGIA & SOUTH SANDWICH ISLANDS",
          "SIERRA LEONE",
          "MONTSERRAT",
          "TIMOR-LESTE",
          "ST. VINCENT & GRENADINES",
          "ÅLAND ISLANDS",
          "SÃO TOMÉ & PRÍNCIPE",
          "ST. KITTS & NEVIS",
          "LESOTHO",
          "TONGA",
          "GUINEA-BISSAU",
          "NORFOLK ISLAND",
          "TUVALU",
          "ST. PIERRE & MIQUELON",
          "KIRIBATI",
          "SOLOMON ISLANDS",
          "ST. HELENA",
          "SVALBARD & JAN MAYEN",
          "NIUE",
          "NAURU",
          "ST. BARTHÉLEMY",
          "TOKELAU",
          "TRISTAN DA CUNHA",
          "PSEUDO-BIDI"
         ],
         "reversescale": true,
         "text": [
          "CHINA",
          "UNITED STATES",
          "PHILIPPINES",
          "BRAZIL",
          "UNITED KINGDOM",
          "RUSSIA",
          "ITALY",
          "MEXICO",
          "INDIA",
          "FRANCE",
          "INDONESIA",
          "UKRAINE",
          "CANADA",
          "SPAIN",
          "GERMANY",
          "MALAYSIA",
          "SOUTH KOREA",
          "AUSTRALIA",
          "KAZAKHSTAN",
          "PERU",
          "COLOMBIA",
          "POLAND",
          "TURKEY",
          "ARGENTINA",
          "CHILE",
          "CZECHIA",
          "ECUADOR",
          "IRAN",
          "VIETNAM",
          "PORTUGAL",
          "IRELAND",
          "TAIWAN",
          "SWEDEN",
          "BELARUS",
          "ROMANIA",
          "BELGIUM",
          "HONG KONG SAR CHINA",
          "ARMENIA",
          "THAILAND",
          "NETHERLANDS",
          "GREECE",
          "BANGLADESH",
          "SOUTH AFRICA",
          "AFGHANISTAN",
          "EGYPT",
          "UZBEKISTAN",
          "HUNGARY",
          "SAUDI ARABIA",
          "AUSTRIA",
          "ALBANIA",
          "ALGERIA",
          "COSTA RICA",
          "UNITED ARAB EMIRATES",
          "NEW ZEALAND",
          "SWITZERLAND",
          "JAPAN",
          "ISRAEL",
          "BOLIVIA",
          "SLOVAKIA",
          "AZERBAIJAN",
          "GUATEMALA",
          "SINGAPORE",
          "VENEZUELA",
          "SERBIA",
          "CROATIA",
          "NORWAY",
          "MOROCCO",
          "PAKISTAN",
          "AMERICAN SAMOA",
          "DENMARK",
          "KYRGYZSTAN",
          "FINLAND",
          "IRAQ",
          "BULGARIA",
          "ANDORRA",
          "MOLDOVA",
          "EL SALVADOR",
          "GEORGIA",
          "PANAMA",
          "LITHUANIA",
          "HONDURAS",
          "LEBANON",
          "PUERTO RICO",
          "BOSNIA & HERZEGOVINA",
          "JORDAN",
          "LATVIA",
          "NEPAL",
          "DOMINICAN REPUBLIC",
          "SRI LANKA",
          "PARAGUAY",
          "URUGUAY",
          "ANGOLA",
          "TUNISIA",
          "ESTONIA",
          "TRINIDAD & TOBAGO",
          "ANTARCTICA",
          "NICARAGUA",
          "SLOVENIA",
          "ANGUILLA",
          "KUWAIT",
          "MYANMAR (BURMA)",
          "CYPRUS",
          "BAHRAIN",
          "NORTH MACEDONIA",
          "ARUBA",
          "SYRIA",
          "BAHAMAS",
          "NORTH KOREA",
          "KOSOVO",
          "CANARY ISLANDS",
          "QATAR",
          "ASCENSION ISLAND",
          "MACAO SAR CHINA",
          "MALDIVES",
          "ANTIGUA & BARBUDA",
          "NIGERIA",
          "PALESTINIAN TERRITORIES",
          "OMAN",
          "CAMBODIA",
          "MALTA",
          "KENYA",
          "BRUNEI",
          "MONTENEGRO",
          "GUYANA",
          "LUXEMBOURG",
          "MAURITIUS",
          "RÉUNION",
          "ZIMBABWE",
          "CUBA",
          "ICELAND",
          "CHRISTMAS ISLAND",
          "BELIZE",
          "MONGOLIA",
          "YEMEN",
          "TANZANIA",
          "LIBYA",
          "TAJIKISTAN",
          "JAMAICA",
          "BRITISH VIRGIN ISLANDS",
          "SUDAN",
          "GHANA",
          "ETHIOPIA",
          "TURKMENISTAN",
          "CHAD",
          "BHUTAN",
          "BARBADOS",
          "BERMUDA",
          "GUAM",
          "BRITISH INDIAN OCEAN TERRITORY",
          "FIJI",
          "BOTSWANA",
          "JERSEY",
          "FRENCH POLYNESIA",
          "MADAGASCAR",
          "ISLE OF MAN",
          "NIGER",
          "ZAMBIA",
          "BENIN",
          "GUADELOUPE",
          "UGANDA",
          "CAPE VERDE",
          "SURINAME",
          "CAMEROON",
          "CARIBBEAN NETHERLANDS",
          "FRENCH GUIANA",
          "CEUTA & MELILLA",
          "MONACO",
          "CAYMAN ISLANDS",
          "CÔTE D’IVOIRE",
          "MARTINIQUE",
          "BURUNDI",
          "GIBRALTAR",
          "GUERNSEY",
          "MOZAMBIQUE",
          "DOMINICA",
          "FRENCH SOUTHERN TERRITORIES",
          "CENTRAL AFRICAN REPUBLIC",
          "NEW CALEDONIA",
          "BURKINA FASO",
          "SENEGAL",
          "U.S. VIRGIN ISLANDS",
          "CURAÇAO",
          "NAMIBIA",
          "LAOS",
          "NORTHERN MARIANA ISLANDS",
          "COCOS (KEELING) ISLANDS",
          "GREENLAND",
          "VATICAN CITY",
          "CONGO - KINSHASA",
          "SOMALIA",
          "HAITI",
          "RWANDA",
          "COMOROS",
          "COOK ISLANDS",
          "MALI",
          "CONGO - BRAZZAVILLE",
          "GABON",
          "MALAWI",
          "MARSHALL ISLANDS",
          "SOUTH SUDAN",
          "SAN MARINO",
          "GRENADA",
          "EQUATORIAL GUINEA",
          "PITCAIRN ISLANDS",
          "ERITREA",
          "DJIBOUTI",
          "FAROE ISLANDS",
          "MAYOTTE",
          "ESWATINI",
          "DIEGO GARCIA",
          "LIECHTENSTEIN",
          "SAMOA",
          "MAURITANIA",
          "U.S. OUTLYING ISLANDS",
          "TURKS & CAICOS ISLANDS",
          "WALLIS & FUTUNA",
          "TOGO",
          "PAPUA NEW GUINEA",
          "VANUATU",
          "GUINEA",
          "MICRONESIA",
          "SINT MAARTEN",
          "ST. MARTIN",
          "FALKLAND ISLANDS",
          "GAMBIA",
          "PALAU",
          "LIBERIA",
          "ST. LUCIA",
          "WESTERN SAHARA",
          "SEYCHELLES",
          "SOUTH GEORGIA & SOUTH SANDWICH ISLANDS",
          "SIERRA LEONE",
          "MONTSERRAT",
          "TIMOR-LESTE",
          "ST. VINCENT & GRENADINES",
          "ÅLAND ISLANDS",
          "SÃO TOMÉ & PRÍNCIPE",
          "ST. KITTS & NEVIS",
          "LESOTHO",
          "TONGA",
          "GUINEA-BISSAU",
          "NORFOLK ISLAND",
          "TUVALU",
          "ST. PIERRE & MIQUELON",
          "KIRIBATI",
          "SOLOMON ISLANDS",
          "ST. HELENA",
          "SVALBARD & JAN MAYEN",
          "NIUE",
          "NAURU",
          "ST. BARTHÉLEMY",
          "TOKELAU",
          "TRISTAN DA CUNHA",
          "PSEUDO-BIDI"
         ],
         "type": "choropleth",
         "z": [
          "4,100,380",
          "3,387,943",
          "2,299,171",
          "1,448,275",
          "1,304,947",
          "1,084,481",
          "815,809",
          "776,163",
          "691,916",
          "534,303",
          "414,436",
          "333,002",
          "331,972",
          "326,172",
          "324,700",
          "276,152",
          "274,433",
          "271,147",
          "238,844",
          "216,586",
          "201,123",
          "199,087",
          "192,687",
          "183,549",
          "168,248",
          "114,142",
          "113,663",
          "112,231",
          "108,430",
          "101,780",
          "94,763",
          "89,413",
          "87,645",
          "86,981",
          "80,206",
          "76,525",
          "73,045",
          "72,651",
          "72,506",
          "66,697",
          "63,007",
          "61,158",
          "59,041",
          "58,456",
          "57,055",
          "56,784",
          "54,156",
          "49,937",
          "49,544",
          "49,221",
          "49,179",
          "48,084",
          "47,061",
          "43,551",
          "43,440",
          "41,024",
          "39,960",
          "39,340",
          "39,169",
          "37,206",
          "36,824",
          "35,563",
          "35,466",
          "35,347",
          "32,968",
          "32,182",
          "31,567",
          "31,209",
          "30,939",
          "30,690",
          "29,593",
          "28,343",
          "28,141",
          "26,612",
          "25,700",
          "23,192",
          "23,100",
          "21,834",
          "21,661",
          "21,569",
          "21,212",
          "21,151",
          "20,978",
          "20,516",
          "19,530",
          "18,825",
          "18,676",
          "18,213",
          "16,894",
          "15,855",
          "15,803",
          "15,745",
          "15,164",
          "13,044",
          "12,126",
          "10,533",
          "10,289",
          "10,043",
          "9,920",
          "9,671",
          "9,494",
          "8,543",
          "8,476",
          "8,405",
          "7,701",
          "7,682",
          "7,662",
          "7,647",
          "7,642",
          "7,432",
          "7,288",
          "6,566",
          "6,372",
          "6,250",
          "6,096",
          "5,753",
          "5,681",
          "5,638",
          "5,523",
          "5,514",
          "4,817",
          "4,766",
          "4,553",
          "4,533",
          "3,641",
          "3,568",
          "3,409",
          "3,394",
          "3,321",
          "3,194",
          "3,175",
          "3,120",
          "3,074",
          "3,017",
          "2,976",
          "2,878",
          "2,837",
          "2,688",
          "2,614",
          "2,592",
          "2,548",
          "2,260",
          "2,113",
          "2,103",
          "2,081",
          "2,059",
          "1,753",
          "1,730",
          "1,669",
          "1,596",
          "1,545",
          "1,516",
          "1,505",
          "1,464",
          "1,386",
          "1,304",
          "1,252",
          "1,236",
          "1,217",
          "1,196",
          "1,163",
          "1,162",
          "1,158",
          "1,128",
          "1,110",
          "1,099",
          "1,091",
          "1,089",
          "1,088",
          "967",
          "960",
          "943",
          "912",
          "903",
          "903",
          "866",
          "866",
          "848",
          "847",
          "812",
          "783",
          "762",
          "753",
          "752",
          "747",
          "686",
          "650",
          "635",
          "622",
          "609",
          "584",
          "549",
          "506",
          "501",
          "491",
          "489",
          "468",
          "467",
          "465",
          "457",
          "448",
          "444",
          "438",
          "423",
          "418",
          "413",
          "403",
          "390",
          "384",
          "381",
          "380",
          "375",
          "375",
          "361",
          "350",
          "346",
          "340",
          "332",
          "323",
          "309",
          "309",
          "307",
          "306",
          "306",
          "291",
          "281",
          "280",
          "278",
          "273",
          "223",
          "203",
          "201",
          "197",
          "190",
          "178",
          "176",
          "173",
          "170",
          "164",
          "163",
          "150",
          "145",
          "142",
          "142",
          "140",
          "132",
          "131",
          "124",
          "118",
          "118",
          "112",
          "110",
          "99",
          "1"
         ]
        }
       ],
       "layout": {
        "autosize": true,
        "dragmode": "pan",
        "geo": {
         "center": {
          "lat": 25.742965949272698,
          "lon": 39.70831348660488
         },
         "fitbounds": false,
         "projection": {
          "rotation": {
           "lon": 39.70831348660488
          },
          "scale": 4.51248967125503,
          "type": "mercator"
         },
         "showframe": false
        },
        "template": {
         "data": {
          "bar": [
           {
            "error_x": {
             "color": "#2a3f5f"
            },
            "error_y": {
             "color": "#2a3f5f"
            },
            "marker": {
             "line": {
              "color": "#E5ECF6",
              "width": 0.5
             },
             "pattern": {
              "fillmode": "overlay",
              "size": 10,
              "solidity": 0.2
             }
            },
            "type": "bar"
           }
          ],
          "barpolar": [
           {
            "marker": {
             "line": {
              "color": "#E5ECF6",
              "width": 0.5
             },
             "pattern": {
              "fillmode": "overlay",
              "size": 10,
              "solidity": 0.2
             }
            },
            "type": "barpolar"
           }
          ],
          "carpet": [
           {
            "aaxis": {
             "endlinecolor": "#2a3f5f",
             "gridcolor": "white",
             "linecolor": "white",
             "minorgridcolor": "white",
             "startlinecolor": "#2a3f5f"
            },
            "baxis": {
             "endlinecolor": "#2a3f5f",
             "gridcolor": "white",
             "linecolor": "white",
             "minorgridcolor": "white",
             "startlinecolor": "#2a3f5f"
            },
            "type": "carpet"
           }
          ],
          "choropleth": [
           {
            "colorbar": {
             "outlinewidth": 0,
             "ticks": ""
            },
            "type": "choropleth"
           }
          ],
          "contour": [
           {
            "colorbar": {
             "outlinewidth": 0,
             "ticks": ""
            },
            "colorscale": [
             [
              0,
              "#0d0887"
             ],
             [
              0.1111111111111111,
              "#46039f"
             ],
             [
              0.2222222222222222,
              "#7201a8"
             ],
             [
              0.3333333333333333,
              "#9c179e"
             ],
             [
              0.4444444444444444,
              "#bd3786"
             ],
             [
              0.5555555555555556,
              "#d8576b"
             ],
             [
              0.6666666666666666,
              "#ed7953"
             ],
             [
              0.7777777777777778,
              "#fb9f3a"
             ],
             [
              0.8888888888888888,
              "#fdca26"
             ],
             [
              1,
              "#f0f921"
             ]
            ],
            "type": "contour"
           }
          ],
          "contourcarpet": [
           {
            "colorbar": {
             "outlinewidth": 0,
             "ticks": ""
            },
            "type": "contourcarpet"
           }
          ],
          "heatmap": [
           {
            "colorbar": {
             "outlinewidth": 0,
             "ticks": ""
            },
            "colorscale": [
             [
              0,
              "#0d0887"
             ],
             [
              0.1111111111111111,
              "#46039f"
             ],
             [
              0.2222222222222222,
              "#7201a8"
             ],
             [
              0.3333333333333333,
              "#9c179e"
             ],
             [
              0.4444444444444444,
              "#bd3786"
             ],
             [
              0.5555555555555556,
              "#d8576b"
             ],
             [
              0.6666666666666666,
              "#ed7953"
             ],
             [
              0.7777777777777778,
              "#fb9f3a"
             ],
             [
              0.8888888888888888,
              "#fdca26"
             ],
             [
              1,
              "#f0f921"
             ]
            ],
            "type": "heatmap"
           }
          ],
          "heatmapgl": [
           {
            "colorbar": {
             "outlinewidth": 0,
             "ticks": ""
            },
            "colorscale": [
             [
              0,
              "#0d0887"
             ],
             [
              0.1111111111111111,
              "#46039f"
             ],
             [
              0.2222222222222222,
              "#7201a8"
             ],
             [
              0.3333333333333333,
              "#9c179e"
             ],
             [
              0.4444444444444444,
              "#bd3786"
             ],
             [
              0.5555555555555556,
              "#d8576b"
             ],
             [
              0.6666666666666666,
              "#ed7953"
             ],
             [
              0.7777777777777778,
              "#fb9f3a"
             ],
             [
              0.8888888888888888,
              "#fdca26"
             ],
             [
              1,
              "#f0f921"
             ]
            ],
            "type": "heatmapgl"
           }
          ],
          "histogram": [
           {
            "marker": {
             "pattern": {
              "fillmode": "overlay",
              "size": 10,
              "solidity": 0.2
             }
            },
            "type": "histogram"
           }
          ],
          "histogram2d": [
           {
            "colorbar": {
             "outlinewidth": 0,
             "ticks": ""
            },
            "colorscale": [
             [
              0,
              "#0d0887"
             ],
             [
              0.1111111111111111,
              "#46039f"
             ],
             [
              0.2222222222222222,
              "#7201a8"
             ],
             [
              0.3333333333333333,
              "#9c179e"
             ],
             [
              0.4444444444444444,
              "#bd3786"
             ],
             [
              0.5555555555555556,
              "#d8576b"
             ],
             [
              0.6666666666666666,
              "#ed7953"
             ],
             [
              0.7777777777777778,
              "#fb9f3a"
             ],
             [
              0.8888888888888888,
              "#fdca26"
             ],
             [
              1,
              "#f0f921"
             ]
            ],
            "type": "histogram2d"
           }
          ],
          "histogram2dcontour": [
           {
            "colorbar": {
             "outlinewidth": 0,
             "ticks": ""
            },
            "colorscale": [
             [
              0,
              "#0d0887"
             ],
             [
              0.1111111111111111,
              "#46039f"
             ],
             [
              0.2222222222222222,
              "#7201a8"
             ],
             [
              0.3333333333333333,
              "#9c179e"
             ],
             [
              0.4444444444444444,
              "#bd3786"
             ],
             [
              0.5555555555555556,
              "#d8576b"
             ],
             [
              0.6666666666666666,
              "#ed7953"
             ],
             [
              0.7777777777777778,
              "#fb9f3a"
             ],
             [
              0.8888888888888888,
              "#fdca26"
             ],
             [
              1,
              "#f0f921"
             ]
            ],
            "type": "histogram2dcontour"
           }
          ],
          "mesh3d": [
           {
            "colorbar": {
             "outlinewidth": 0,
             "ticks": ""
            },
            "type": "mesh3d"
           }
          ],
          "parcoords": [
           {
            "line": {
             "colorbar": {
              "outlinewidth": 0,
              "ticks": ""
             }
            },
            "type": "parcoords"
           }
          ],
          "pie": [
           {
            "automargin": true,
            "type": "pie"
           }
          ],
          "scatter": [
           {
            "fillpattern": {
             "fillmode": "overlay",
             "size": 10,
             "solidity": 0.2
            },
            "type": "scatter"
           }
          ],
          "scatter3d": [
           {
            "line": {
             "colorbar": {
              "outlinewidth": 0,
              "ticks": ""
             }
            },
            "marker": {
             "colorbar": {
              "outlinewidth": 0,
              "ticks": ""
             }
            },
            "type": "scatter3d"
           }
          ],
          "scattercarpet": [
           {
            "marker": {
             "colorbar": {
              "outlinewidth": 0,
              "ticks": ""
             }
            },
            "type": "scattercarpet"
           }
          ],
          "scattergeo": [
           {
            "marker": {
             "colorbar": {
              "outlinewidth": 0,
              "ticks": ""
             }
            },
            "type": "scattergeo"
           }
          ],
          "scattergl": [
           {
            "marker": {
             "colorbar": {
              "outlinewidth": 0,
              "ticks": ""
             }
            },
            "type": "scattergl"
           }
          ],
          "scattermapbox": [
           {
            "marker": {
             "colorbar": {
              "outlinewidth": 0,
              "ticks": ""
             }
            },
            "type": "scattermapbox"
           }
          ],
          "scatterpolar": [
           {
            "marker": {
             "colorbar": {
              "outlinewidth": 0,
              "ticks": ""
             }
            },
            "type": "scatterpolar"
           }
          ],
          "scatterpolargl": [
           {
            "marker": {
             "colorbar": {
              "outlinewidth": 0,
              "ticks": ""
             }
            },
            "type": "scatterpolargl"
           }
          ],
          "scatterternary": [
           {
            "marker": {
             "colorbar": {
              "outlinewidth": 0,
              "ticks": ""
             }
            },
            "type": "scatterternary"
           }
          ],
          "surface": [
           {
            "colorbar": {
             "outlinewidth": 0,
             "ticks": ""
            },
            "colorscale": [
             [
              0,
              "#0d0887"
             ],
             [
              0.1111111111111111,
              "#46039f"
             ],
             [
              0.2222222222222222,
              "#7201a8"
             ],
             [
              0.3333333333333333,
              "#9c179e"
             ],
             [
              0.4444444444444444,
              "#bd3786"
             ],
             [
              0.5555555555555556,
              "#d8576b"
             ],
             [
              0.6666666666666666,
              "#ed7953"
             ],
             [
              0.7777777777777778,
              "#fb9f3a"
             ],
             [
              0.8888888888888888,
              "#fdca26"
             ],
             [
              1,
              "#f0f921"
             ]
            ],
            "type": "surface"
           }
          ],
          "table": [
           {
            "cells": {
             "fill": {
              "color": "#EBF0F8"
             },
             "line": {
              "color": "white"
             }
            },
            "header": {
             "fill": {
              "color": "#C8D4E3"
             },
             "line": {
              "color": "white"
             }
            },
            "type": "table"
           }
          ]
         },
         "layout": {
          "annotationdefaults": {
           "arrowcolor": "#2a3f5f",
           "arrowhead": 0,
           "arrowwidth": 1
          },
          "autotypenumbers": "strict",
          "coloraxis": {
           "colorbar": {
            "outlinewidth": 0,
            "ticks": ""
           }
          },
          "colorscale": {
           "diverging": [
            [
             0,
             "#8e0152"
            ],
            [
             0.1,
             "#c51b7d"
            ],
            [
             0.2,
             "#de77ae"
            ],
            [
             0.3,
             "#f1b6da"
            ],
            [
             0.4,
             "#fde0ef"
            ],
            [
             0.5,
             "#f7f7f7"
            ],
            [
             0.6,
             "#e6f5d0"
            ],
            [
             0.7,
             "#b8e186"
            ],
            [
             0.8,
             "#7fbc41"
            ],
            [
             0.9,
             "#4d9221"
            ],
            [
             1,
             "#276419"
            ]
           ],
           "sequential": [
            [
             0,
             "#0d0887"
            ],
            [
             0.1111111111111111,
             "#46039f"
            ],
            [
             0.2222222222222222,
             "#7201a8"
            ],
            [
             0.3333333333333333,
             "#9c179e"
            ],
            [
             0.4444444444444444,
             "#bd3786"
            ],
            [
             0.5555555555555556,
             "#d8576b"
            ],
            [
             0.6666666666666666,
             "#ed7953"
            ],
            [
             0.7777777777777778,
             "#fb9f3a"
            ],
            [
             0.8888888888888888,
             "#fdca26"
            ],
            [
             1,
             "#f0f921"
            ]
           ],
           "sequentialminus": [
            [
             0,
             "#0d0887"
            ],
            [
             0.1111111111111111,
             "#46039f"
            ],
            [
             0.2222222222222222,
             "#7201a8"
            ],
            [
             0.3333333333333333,
             "#9c179e"
            ],
            [
             0.4444444444444444,
             "#bd3786"
            ],
            [
             0.5555555555555556,
             "#d8576b"
            ],
            [
             0.6666666666666666,
             "#ed7953"
            ],
            [
             0.7777777777777778,
             "#fb9f3a"
            ],
            [
             0.8888888888888888,
             "#fdca26"
            ],
            [
             1,
             "#f0f921"
            ]
           ]
          },
          "colorway": [
           "#636efa",
           "#EF553B",
           "#00cc96",
           "#ab63fa",
           "#FFA15A",
           "#19d3f3",
           "#FF6692",
           "#B6E880",
           "#FF97FF",
           "#FECB52"
          ],
          "font": {
           "color": "#2a3f5f"
          },
          "geo": {
           "bgcolor": "white",
           "lakecolor": "white",
           "landcolor": "#E5ECF6",
           "showlakes": true,
           "showland": true,
           "subunitcolor": "white"
          },
          "hoverlabel": {
           "align": "left"
          },
          "hovermode": "closest",
          "mapbox": {
           "style": "light"
          },
          "paper_bgcolor": "white",
          "plot_bgcolor": "#E5ECF6",
          "polar": {
           "angularaxis": {
            "gridcolor": "white",
            "linecolor": "white",
            "ticks": ""
           },
           "bgcolor": "#E5ECF6",
           "radialaxis": {
            "gridcolor": "white",
            "linecolor": "white",
            "ticks": ""
           }
          },
          "scene": {
           "xaxis": {
            "backgroundcolor": "#E5ECF6",
            "gridcolor": "white",
            "gridwidth": 2,
            "linecolor": "white",
            "showbackground": true,
            "ticks": "",
            "zerolinecolor": "white"
           },
           "yaxis": {
            "backgroundcolor": "#E5ECF6",
            "gridcolor": "white",
            "gridwidth": 2,
            "linecolor": "white",
            "showbackground": true,
            "ticks": "",
            "zerolinecolor": "white"
           },
           "zaxis": {
            "backgroundcolor": "#E5ECF6",
            "gridcolor": "white",
            "gridwidth": 2,
            "linecolor": "white",
            "showbackground": true,
            "ticks": "",
            "zerolinecolor": "white"
           }
          },
          "shapedefaults": {
           "line": {
            "color": "#2a3f5f"
           }
          },
          "ternary": {
           "aaxis": {
            "gridcolor": "white",
            "linecolor": "white",
            "ticks": ""
           },
           "baxis": {
            "gridcolor": "white",
            "linecolor": "white",
            "ticks": ""
           },
           "bgcolor": "#E5ECF6",
           "caxis": {
            "gridcolor": "white",
            "linecolor": "white",
            "ticks": ""
           }
          },
          "title": {
           "x": 0.05
          },
          "xaxis": {
           "automargin": true,
           "gridcolor": "white",
           "linecolor": "white",
           "ticks": "",
           "title": {
            "standoff": 15
           },
           "zerolinecolor": "white",
           "zerolinewidth": 2
          },
          "yaxis": {
           "automargin": true,
           "gridcolor": "white",
           "linecolor": "white",
           "ticks": "",
           "title": {
            "standoff": 15
           },
           "zerolinecolor": "white",
           "zerolinewidth": 2
          }
         }
        },
        "title": {
         "text": "Mars"
        }
       }
      },
      "image/png": "[encoded data removed]",
      "text/html": [
       "<div>                            <div id=\"196a70e3-82a6-40db-920c-78044c4a8c69\" class=\"plotly-graph-div\" style=\"height:525px; width:100%;\"></div>            <script type=\"text/javascript\">                require([\"plotly\"], function(Plotly) {                    window.PLOTLYENV=window.PLOTLYENV || {};                                    if (document.getElementById(\"196a70e3-82a6-40db-920c-78044c4a8c69\")) {                    Plotly.newPlot(                        \"196a70e3-82a6-40db-920c-78044c4a8c69\",                        [{\"colorbar\":{\"title\":{\"text\":\"Marsa gidecek isimler\"}},\"colorscale\":[[0.0,\"#440154\"],[0.1111111111111111,\"#482878\"],[0.2222222222222222,\"#3e4989\"],[0.3333333333333333,\"#31688e\"],[0.4444444444444444,\"#26828e\"],[0.5555555555555556,\"#1f9e89\"],[0.6666666666666666,\"#35b779\"],[0.7777777777777778,\"#6ece58\"],[0.8888888888888888,\"#b5de2b\"],[1.0,\"#fde725\"]],\"locationmode\":\"country names\",\"locations\":[\"CHINA\",\"UNITED STATES\",\"PHILIPPINES\",\"BRAZIL\",\"UNITED KINGDOM\",\"RUSSIA\",\"ITALY\",\"MEXICO\",\"INDIA\",\"FRANCE\",\"INDONESIA\",\"UKRAINE\",\"CANADA\",\"SPAIN\",\"GERMANY\",\"MALAYSIA\",\"SOUTH KOREA\",\"AUSTRALIA\",\"KAZAKHSTAN\",\"PERU\",\"COLOMBIA\",\"POLAND\",\"TURKEY\",\"ARGENTINA\",\"CHILE\",\"CZECHIA\",\"ECUADOR\",\"IRAN\",\"VIETNAM\",\"PORTUGAL\",\"IRELAND\",\"TAIWAN\",\"SWEDEN\",\"BELARUS\",\"ROMANIA\",\"BELGIUM\",\"HONG KONG SAR CHINA\",\"ARMENIA\",\"THAILAND\",\"NETHERLANDS\",\"GREECE\",\"BANGLADESH\",\"SOUTH AFRICA\",\"AFGHANISTAN\",\"EGYPT\",\"UZBEKISTAN\",\"HUNGARY\",\"SAUDI ARABIA\",\"AUSTRIA\",\"ALBANIA\",\"ALGERIA\",\"COSTA RICA\",\"UNITED ARAB EMIRATES\",\"NEW ZEALAND\",\"SWITZERLAND\",\"JAPAN\",\"ISRAEL\",\"BOLIVIA\",\"SLOVAKIA\",\"AZERBAIJAN\",\"GUATEMALA\",\"SINGAPORE\",\"VENEZUELA\",\"SERBIA\",\"CROATIA\",\"NORWAY\",\"MOROCCO\",\"PAKISTAN\",\"AMERICAN SAMOA\",\"DENMARK\",\"KYRGYZSTAN\",\"FINLAND\",\"IRAQ\",\"BULGARIA\",\"ANDORRA\",\"MOLDOVA\",\"EL SALVADOR\",\"GEORGIA\",\"PANAMA\",\"LITHUANIA\",\"HONDURAS\",\"LEBANON\",\"PUERTO RICO\",\"BOSNIA & HERZEGOVINA\",\"JORDAN\",\"LATVIA\",\"NEPAL\",\"DOMINICAN REPUBLIC\",\"SRI LANKA\",\"PARAGUAY\",\"URUGUAY\",\"ANGOLA\",\"TUNISIA\",\"ESTONIA\",\"TRINIDAD & TOBAGO\",\"ANTARCTICA\",\"NICARAGUA\",\"SLOVENIA\",\"ANGUILLA\",\"KUWAIT\",\"MYANMAR (BURMA)\",\"CYPRUS\",\"BAHRAIN\",\"NORTH MACEDONIA\",\"ARUBA\",\"SYRIA\",\"BAHAMAS\",\"NORTH KOREA\",\"KOSOVO\",\"CANARY ISLANDS\",\"QATAR\",\"ASCENSION ISLAND\",\"MACAO SAR CHINA\",\"MALDIVES\",\"ANTIGUA & BARBUDA\",\"NIGERIA\",\"PALESTINIAN TERRITORIES\",\"OMAN\",\"CAMBODIA\",\"MALTA\",\"KENYA\",\"BRUNEI\",\"MONTENEGRO\",\"GUYANA\",\"LUXEMBOURG\",\"MAURITIUS\",\"R\\u00c9UNION\",\"ZIMBABWE\",\"CUBA\",\"ICELAND\",\"CHRISTMAS ISLAND\",\"BELIZE\",\"MONGOLIA\",\"YEMEN\",\"TANZANIA\",\"LIBYA\",\"TAJIKISTAN\",\"JAMAICA\",\"BRITISH VIRGIN ISLANDS\",\"SUDAN\",\"GHANA\",\"ETHIOPIA\",\"TURKMENISTAN\",\"CHAD\",\"BHUTAN\",\"BARBADOS\",\"BERMUDA\",\"GUAM\",\"BRITISH INDIAN OCEAN TERRITORY\",\"FIJI\",\"BOTSWANA\",\"JERSEY\",\"FRENCH POLYNESIA\",\"MADAGASCAR\",\"ISLE OF MAN\",\"NIGER\",\"ZAMBIA\",\"BENIN\",\"GUADELOUPE\",\"UGANDA\",\"CAPE VERDE\",\"SURINAME\",\"CAMEROON\",\"CARIBBEAN NETHERLANDS\",\"FRENCH GUIANA\",\"CEUTA & MELILLA\",\"MONACO\",\"CAYMAN ISLANDS\",\"C\\u00d4TE D\\u2019IVOIRE\",\"MARTINIQUE\",\"BURUNDI\",\"GIBRALTAR\",\"GUERNSEY\",\"MOZAMBIQUE\",\"DOMINICA\",\"FRENCH SOUTHERN TERRITORIES\",\"CENTRAL AFRICAN REPUBLIC\",\"NEW CALEDONIA\",\"BURKINA FASO\",\"SENEGAL\",\"U.S. VIRGIN ISLANDS\",\"CURA\\u00c7AO\",\"NAMIBIA\",\"LAOS\",\"NORTHERN MARIANA ISLANDS\",\"COCOS (KEELING) ISLANDS\",\"GREENLAND\",\"VATICAN CITY\",\"CONGO - KINSHASA\",\"SOMALIA\",\"HAITI\",\"RWANDA\",\"COMOROS\",\"COOK ISLANDS\",\"MALI\",\"CONGO - BRAZZAVILLE\",\"GABON\",\"MALAWI\",\"MARSHALL ISLANDS\",\"SOUTH SUDAN\",\"SAN MARINO\",\"GRENADA\",\"EQUATORIAL GUINEA\",\"PITCAIRN ISLANDS\",\"ERITREA\",\"DJIBOUTI\",\"FAROE ISLANDS\",\"MAYOTTE\",\"ESWATINI\",\"DIEGO GARCIA\",\"LIECHTENSTEIN\",\"SAMOA\",\"MAURITANIA\",\"U.S. OUTLYING ISLANDS\",\"TURKS & CAICOS ISLANDS\",\"WALLIS & FUTUNA\",\"TOGO\",\"PAPUA NEW GUINEA\",\"VANUATU\",\"GUINEA\",\"MICRONESIA\",\"SINT MAARTEN\",\"ST. MARTIN\",\"FALKLAND ISLANDS\",\"GAMBIA\",\"PALAU\",\"LIBERIA\",\"ST. LUCIA\",\"WESTERN SAHARA\",\"SEYCHELLES\",\"SOUTH GEORGIA & SOUTH SANDWICH ISLANDS\",\"SIERRA LEONE\",\"MONTSERRAT\",\"TIMOR-LESTE\",\"ST. VINCENT & GRENADINES\",\"\\u00c5LAND ISLANDS\",\"S\\u00c3O TOM\\u00c9 & PR\\u00cdNCIPE\",\"ST. KITTS & NEVIS\",\"LESOTHO\",\"TONGA\",\"GUINEA-BISSAU\",\"NORFOLK ISLAND\",\"TUVALU\",\"ST. PIERRE & MIQUELON\",\"KIRIBATI\",\"SOLOMON ISLANDS\",\"ST. HELENA\",\"SVALBARD & JAN MAYEN\",\"NIUE\",\"NAURU\",\"ST. BARTH\\u00c9LEMY\",\"TOKELAU\",\"TRISTAN DA CUNHA\",\"PSEUDO-BIDI\"],\"reversescale\":true,\"text\":[\"CHINA\",\"UNITED STATES\",\"PHILIPPINES\",\"BRAZIL\",\"UNITED KINGDOM\",\"RUSSIA\",\"ITALY\",\"MEXICO\",\"INDIA\",\"FRANCE\",\"INDONESIA\",\"UKRAINE\",\"CANADA\",\"SPAIN\",\"GERMANY\",\"MALAYSIA\",\"SOUTH KOREA\",\"AUSTRALIA\",\"KAZAKHSTAN\",\"PERU\",\"COLOMBIA\",\"POLAND\",\"TURKEY\",\"ARGENTINA\",\"CHILE\",\"CZECHIA\",\"ECUADOR\",\"IRAN\",\"VIETNAM\",\"PORTUGAL\",\"IRELAND\",\"TAIWAN\",\"SWEDEN\",\"BELARUS\",\"ROMANIA\",\"BELGIUM\",\"HONG KONG SAR CHINA\",\"ARMENIA\",\"THAILAND\",\"NETHERLANDS\",\"GREECE\",\"BANGLADESH\",\"SOUTH AFRICA\",\"AFGHANISTAN\",\"EGYPT\",\"UZBEKISTAN\",\"HUNGARY\",\"SAUDI ARABIA\",\"AUSTRIA\",\"ALBANIA\",\"ALGERIA\",\"COSTA RICA\",\"UNITED ARAB EMIRATES\",\"NEW ZEALAND\",\"SWITZERLAND\",\"JAPAN\",\"ISRAEL\",\"BOLIVIA\",\"SLOVAKIA\",\"AZERBAIJAN\",\"GUATEMALA\",\"SINGAPORE\",\"VENEZUELA\",\"SERBIA\",\"CROATIA\",\"NORWAY\",\"MOROCCO\",\"PAKISTAN\",\"AMERICAN SAMOA\",\"DENMARK\",\"KYRGYZSTAN\",\"FINLAND\",\"IRAQ\",\"BULGARIA\",\"ANDORRA\",\"MOLDOVA\",\"EL SALVADOR\",\"GEORGIA\",\"PANAMA\",\"LITHUANIA\",\"HONDURAS\",\"LEBANON\",\"PUERTO RICO\",\"BOSNIA & HERZEGOVINA\",\"JORDAN\",\"LATVIA\",\"NEPAL\",\"DOMINICAN REPUBLIC\",\"SRI LANKA\",\"PARAGUAY\",\"URUGUAY\",\"ANGOLA\",\"TUNISIA\",\"ESTONIA\",\"TRINIDAD & TOBAGO\",\"ANTARCTICA\",\"NICARAGUA\",\"SLOVENIA\",\"ANGUILLA\",\"KUWAIT\",\"MYANMAR (BURMA)\",\"CYPRUS\",\"BAHRAIN\",\"NORTH MACEDONIA\",\"ARUBA\",\"SYRIA\",\"BAHAMAS\",\"NORTH KOREA\",\"KOSOVO\",\"CANARY ISLANDS\",\"QATAR\",\"ASCENSION ISLAND\",\"MACAO SAR CHINA\",\"MALDIVES\",\"ANTIGUA & BARBUDA\",\"NIGERIA\",\"PALESTINIAN TERRITORIES\",\"OMAN\",\"CAMBODIA\",\"MALTA\",\"KENYA\",\"BRUNEI\",\"MONTENEGRO\",\"GUYANA\",\"LUXEMBOURG\",\"MAURITIUS\",\"R\\u00c9UNION\",\"ZIMBABWE\",\"CUBA\",\"ICELAND\",\"CHRISTMAS ISLAND\",\"BELIZE\",\"MONGOLIA\",\"YEMEN\",\"TANZANIA\",\"LIBYA\",\"TAJIKISTAN\",\"JAMAICA\",\"BRITISH VIRGIN ISLANDS\",\"SUDAN\",\"GHANA\",\"ETHIOPIA\",\"TURKMENISTAN\",\"CHAD\",\"BHUTAN\",\"BARBADOS\",\"BERMUDA\",\"GUAM\",\"BRITISH INDIAN OCEAN TERRITORY\",\"FIJI\",\"BOTSWANA\",\"JERSEY\",\"FRENCH POLYNESIA\",\"MADAGASCAR\",\"ISLE OF MAN\",\"NIGER\",\"ZAMBIA\",\"BENIN\",\"GUADELOUPE\",\"UGANDA\",\"CAPE VERDE\",\"SURINAME\",\"CAMEROON\",\"CARIBBEAN NETHERLANDS\",\"FRENCH GUIANA\",\"CEUTA & MELILLA\",\"MONACO\",\"CAYMAN ISLANDS\",\"C\\u00d4TE D\\u2019IVOIRE\",\"MARTINIQUE\",\"BURUNDI\",\"GIBRALTAR\",\"GUERNSEY\",\"MOZAMBIQUE\",\"DOMINICA\",\"FRENCH SOUTHERN TERRITORIES\",\"CENTRAL AFRICAN REPUBLIC\",\"NEW CALEDONIA\",\"BURKINA FASO\",\"SENEGAL\",\"U.S. VIRGIN ISLANDS\",\"CURA\\u00c7AO\",\"NAMIBIA\",\"LAOS\",\"NORTHERN MARIANA ISLANDS\",\"COCOS (KEELING) ISLANDS\",\"GREENLAND\",\"VATICAN CITY\",\"CONGO - KINSHASA\",\"SOMALIA\",\"HAITI\",\"RWANDA\",\"COMOROS\",\"COOK ISLANDS\",\"MALI\",\"CONGO - BRAZZAVILLE\",\"GABON\",\"MALAWI\",\"MARSHALL ISLANDS\",\"SOUTH SUDAN\",\"SAN MARINO\",\"GRENADA\",\"EQUATORIAL GUINEA\",\"PITCAIRN ISLANDS\",\"ERITREA\",\"DJIBOUTI\",\"FAROE ISLANDS\",\"MAYOTTE\",\"ESWATINI\",\"DIEGO GARCIA\",\"LIECHTENSTEIN\",\"SAMOA\",\"MAURITANIA\",\"U.S. OUTLYING ISLANDS\",\"TURKS & CAICOS ISLANDS\",\"WALLIS & FUTUNA\",\"TOGO\",\"PAPUA NEW GUINEA\",\"VANUATU\",\"GUINEA\",\"MICRONESIA\",\"SINT MAARTEN\",\"ST. MARTIN\",\"FALKLAND ISLANDS\",\"GAMBIA\",\"PALAU\",\"LIBERIA\",\"ST. LUCIA\",\"WESTERN SAHARA\",\"SEYCHELLES\",\"SOUTH GEORGIA & SOUTH SANDWICH ISLANDS\",\"SIERRA LEONE\",\"MONTSERRAT\",\"TIMOR-LESTE\",\"ST. VINCENT & GRENADINES\",\"\\u00c5LAND ISLANDS\",\"S\\u00c3O TOM\\u00c9 & PR\\u00cdNCIPE\",\"ST. KITTS & NEVIS\",\"LESOTHO\",\"TONGA\",\"GUINEA-BISSAU\",\"NORFOLK ISLAND\",\"TUVALU\",\"ST. PIERRE & MIQUELON\",\"KIRIBATI\",\"SOLOMON ISLANDS\",\"ST. HELENA\",\"SVALBARD & JAN MAYEN\",\"NIUE\",\"NAURU\",\"ST. BARTH\\u00c9LEMY\",\"TOKELAU\",\"TRISTAN DA CUNHA\",\"PSEUDO-BIDI\"],\"z\":[\"4,100,380\",\"3,387,943\",\"2,299,171\",\"1,448,275\",\"1,304,947\",\"1,084,481\",\"815,809\",\"776,163\",\"691,916\",\"534,303\",\"414,436\",\"333,002\",\"331,972\",\"326,172\",\"324,700\",\"276,152\",\"274,433\",\"271,147\",\"238,844\",\"216,586\",\"201,123\",\"199,087\",\"192,687\",\"183,549\",\"168,248\",\"114,142\",\"113,663\",\"112,231\",\"108,430\",\"101,780\",\"94,763\",\"89,413\",\"87,645\",\"86,981\",\"80,206\",\"76,525\",\"73,045\",\"72,651\",\"72,506\",\"66,697\",\"63,007\",\"61,158\",\"59,041\",\"58,456\",\"57,055\",\"56,784\",\"54,156\",\"49,937\",\"49,544\",\"49,221\",\"49,179\",\"48,084\",\"47,061\",\"43,551\",\"43,440\",\"41,024\",\"39,960\",\"39,340\",\"39,169\",\"37,206\",\"36,824\",\"35,563\",\"35,466\",\"35,347\",\"32,968\",\"32,182\",\"31,567\",\"31,209\",\"30,939\",\"30,690\",\"29,593\",\"28,343\",\"28,141\",\"26,612\",\"25,700\",\"23,192\",\"23,100\",\"21,834\",\"21,661\",\"21,569\",\"21,212\",\"21,151\",\"20,978\",\"20,516\",\"19,530\",\"18,825\",\"18,676\",\"18,213\",\"16,894\",\"15,855\",\"15,803\",\"15,745\",\"15,164\",\"13,044\",\"12,126\",\"10,533\",\"10,289\",\"10,043\",\"9,920\",\"9,671\",\"9,494\",\"8,543\",\"8,476\",\"8,405\",\"7,701\",\"7,682\",\"7,662\",\"7,647\",\"7,642\",\"7,432\",\"7,288\",\"6,566\",\"6,372\",\"6,250\",\"6,096\",\"5,753\",\"5,681\",\"5,638\",\"5,523\",\"5,514\",\"4,817\",\"4,766\",\"4,553\",\"4,533\",\"3,641\",\"3,568\",\"3,409\",\"3,394\",\"3,321\",\"3,194\",\"3,175\",\"3,120\",\"3,074\",\"3,017\",\"2,976\",\"2,878\",\"2,837\",\"2,688\",\"2,614\",\"2,592\",\"2,548\",\"2,260\",\"2,113\",\"2,103\",\"2,081\",\"2,059\",\"1,753\",\"1,730\",\"1,669\",\"1,596\",\"1,545\",\"1,516\",\"1,505\",\"1,464\",\"1,386\",\"1,304\",\"1,252\",\"1,236\",\"1,217\",\"1,196\",\"1,163\",\"1,162\",\"1,158\",\"1,128\",\"1,110\",\"1,099\",\"1,091\",\"1,089\",\"1,088\",\"967\",\"960\",\"943\",\"912\",\"903\",\"903\",\"866\",\"866\",\"848\",\"847\",\"812\",\"783\",\"762\",\"753\",\"752\",\"747\",\"686\",\"650\",\"635\",\"622\",\"609\",\"584\",\"549\",\"506\",\"501\",\"491\",\"489\",\"468\",\"467\",\"465\",\"457\",\"448\",\"444\",\"438\",\"423\",\"418\",\"413\",\"403\",\"390\",\"384\",\"381\",\"380\",\"375\",\"375\",\"361\",\"350\",\"346\",\"340\",\"332\",\"323\",\"309\",\"309\",\"307\",\"306\",\"306\",\"291\",\"281\",\"280\",\"278\",\"273\",\"223\",\"203\",\"201\",\"197\",\"190\",\"178\",\"176\",\"173\",\"170\",\"164\",\"163\",\"150\",\"145\",\"142\",\"142\",\"140\",\"132\",\"131\",\"124\",\"118\",\"118\",\"112\",\"110\",\"99\",\"1\"],\"type\":\"choropleth\"}],                        {\"geo\":{\"projection\":{\"type\":\"mercator\"},\"showframe\":false},\"title\":{\"text\":\"Mars\"},\"template\":{\"data\":{\"histogram2dcontour\":[{\"type\":\"histogram2dcontour\",\"colorbar\":{\"outlinewidth\":0,\"ticks\":\"\"},\"colorscale\":[[0.0,\"#0d0887\"],[0.1111111111111111,\"#46039f\"],[0.2222222222222222,\"#7201a8\"],[0.3333333333333333,\"#9c179e\"],[0.4444444444444444,\"#bd3786\"],[0.5555555555555556,\"#d8576b\"],[0.6666666666666666,\"#ed7953\"],[0.7777777777777778,\"#fb9f3a\"],[0.8888888888888888,\"#fdca26\"],[1.0,\"#f0f921\"]]}],\"choropleth\":[{\"type\":\"choropleth\",\"colorbar\":{\"outlinewidth\":0,\"ticks\":\"\"}}],\"histogram2d\":[{\"type\":\"histogram2d\",\"colorbar\":{\"outlinewidth\":0,\"ticks\":\"\"},\"colorscale\":[[0.0,\"#0d0887\"],[0.1111111111111111,\"#46039f\"],[0.2222222222222222,\"#7201a8\"],[0.3333333333333333,\"#9c179e\"],[0.4444444444444444,\"#bd3786\"],[0.5555555555555556,\"#d8576b\"],[0.6666666666666666,\"#ed7953\"],[0.7777777777777778,\"#fb9f3a\"],[0.8888888888888888,\"#fdca26\"],[1.0,\"#f0f921\"]]}],\"heatmap\":[{\"type\":\"heatmap\",\"colorbar\":{\"outlinewidth\":0,\"ticks\":\"\"},\"colorscale\":[[0.0,\"#0d0887\"],[0.1111111111111111,\"#46039f\"],[0.2222222222222222,\"#7201a8\"],[0.3333333333333333,\"#9c179e\"],[0.4444444444444444,\"#bd3786\"],[0.5555555555555556,\"#d8576b\"],[0.6666666666666666,\"#ed7953\"],[0.7777777777777778,\"#fb9f3a\"],[0.8888888888888888,\"#fdca26\"],[1.0,\"#f0f921\"]]}],\"heatmapgl\":[{\"type\":\"heatmapgl\",\"colorbar\":{\"outlinewidth\":0,\"ticks\":\"\"},\"colorscale\":[[0.0,\"#0d0887\"],[0.1111111111111111,\"#46039f\"],[0.2222222222222222,\"#7201a8\"],[0.3333333333333333,\"#9c179e\"],[0.4444444444444444,\"#bd3786\"],[0.5555555555555556,\"#d8576b\"],[0.6666666666666666,\"#ed7953\"],[0.7777777777777778,\"#fb9f3a\"],[0.8888888888888888,\"#fdca26\"],[1.0,\"#f0f921\"]]}],\"contourcarpet\":[{\"type\":\"contourcarpet\",\"colorbar\":{\"outlinewidth\":0,\"ticks\":\"\"}}],\"contour\":[{\"type\":\"contour\",\"colorbar\":{\"outlinewidth\":0,\"ticks\":\"\"},\"colorscale\":[[0.0,\"#0d0887\"],[0.1111111111111111,\"#46039f\"],[0.2222222222222222,\"#7201a8\"],[0.3333333333333333,\"#9c179e\"],[0.4444444444444444,\"#bd3786\"],[0.5555555555555556,\"#d8576b\"],[0.6666666666666666,\"#ed7953\"],[0.7777777777777778,\"#fb9f3a\"],[0.8888888888888888,\"#fdca26\"],[1.0,\"#f0f921\"]]}],\"surface\":[{\"type\":\"surface\",\"colorbar\":{\"outlinewidth\":0,\"ticks\":\"\"},\"colorscale\":[[0.0,\"#0d0887\"],[0.1111111111111111,\"#46039f\"],[0.2222222222222222,\"#7201a8\"],[0.3333333333333333,\"#9c179e\"],[0.4444444444444444,\"#bd3786\"],[0.5555555555555556,\"#d8576b\"],[0.6666666666666666,\"#ed7953\"],[0.7777777777777778,\"#fb9f3a\"],[0.8888888888888888,\"#fdca26\"],[1.0,\"#f0f921\"]]}],\"mesh3d\":[{\"type\":\"mesh3d\",\"colorbar\":{\"outlinewidth\":0,\"ticks\":\"\"}}],\"scatter\":[{\"fillpattern\":{\"fillmode\":\"overlay\",\"size\":10,\"solidity\":0.2},\"type\":\"scatter\"}],\"parcoords\":[{\"type\":\"parcoords\",\"line\":{\"colorbar\":{\"outlinewidth\":0,\"ticks\":\"\"}}}],\"scatterpolargl\":[{\"type\":\"scatterpolargl\",\"marker\":{\"colorbar\":{\"outlinewidth\":0,\"ticks\":\"\"}}}],\"bar\":[{\"error_x\":{\"color\":\"#2a3f5f\"},\"error_y\":{\"color\":\"#2a3f5f\"},\"marker\":{\"line\":{\"color\":\"#E5ECF6\",\"width\":0.5},\"pattern\":{\"fillmode\":\"overlay\",\"size\":10,\"solidity\":0.2}},\"type\":\"bar\"}],\"scattergeo\":[{\"type\":\"scattergeo\",\"marker\":{\"colorbar\":{\"outlinewidth\":0,\"ticks\":\"\"}}}],\"scatterpolar\":[{\"type\":\"scatterpolar\",\"marker\":{\"colorbar\":{\"outlinewidth\":0,\"ticks\":\"\"}}}],\"histogram\":[{\"marker\":{\"pattern\":{\"fillmode\":\"overlay\",\"size\":10,\"solidity\":0.2}},\"type\":\"histogram\"}],\"scattergl\":[{\"type\":\"scattergl\",\"marker\":{\"colorbar\":{\"outlinewidth\":0,\"ticks\":\"\"}}}],\"scatter3d\":[{\"type\":\"scatter3d\",\"line\":{\"colorbar\":{\"outlinewidth\":0,\"ticks\":\"\"}},\"marker\":{\"colorbar\":{\"outlinewidth\":0,\"ticks\":\"\"}}}],\"scattermapbox\":[{\"type\":\"scattermapbox\",\"marker\":{\"colorbar\":{\"outlinewidth\":0,\"ticks\":\"\"}}}],\"scatterternary\":[{\"type\":\"scatterternary\",\"marker\":{\"colorbar\":{\"outlinewidth\":0,\"ticks\":\"\"}}}],\"scattercarpet\":[{\"type\":\"scattercarpet\",\"marker\":{\"colorbar\":{\"outlinewidth\":0,\"ticks\":\"\"}}}],\"carpet\":[{\"aaxis\":{\"endlinecolor\":\"#2a3f5f\",\"gridcolor\":\"white\",\"linecolor\":\"white\",\"minorgridcolor\":\"white\",\"startlinecolor\":\"#2a3f5f\"},\"baxis\":{\"endlinecolor\":\"#2a3f5f\",\"gridcolor\":\"white\",\"linecolor\":\"white\",\"minorgridcolor\":\"white\",\"startlinecolor\":\"#2a3f5f\"},\"type\":\"carpet\"}],\"table\":[{\"cells\":{\"fill\":{\"color\":\"#EBF0F8\"},\"line\":{\"color\":\"white\"}},\"header\":{\"fill\":{\"color\":\"#C8D4E3\"},\"line\":{\"color\":\"white\"}},\"type\":\"table\"}],\"barpolar\":[{\"marker\":{\"line\":{\"color\":\"#E5ECF6\",\"width\":0.5},\"pattern\":{\"fillmode\":\"overlay\",\"size\":10,\"solidity\":0.2}},\"type\":\"barpolar\"}],\"pie\":[{\"automargin\":true,\"type\":\"pie\"}]},\"layout\":{\"autotypenumbers\":\"strict\",\"colorway\":[\"#636efa\",\"#EF553B\",\"#00cc96\",\"#ab63fa\",\"#FFA15A\",\"#19d3f3\",\"#FF6692\",\"#B6E880\",\"#FF97FF\",\"#FECB52\"],\"font\":{\"color\":\"#2a3f5f\"},\"hovermode\":\"closest\",\"hoverlabel\":{\"align\":\"left\"},\"paper_bgcolor\":\"white\",\"plot_bgcolor\":\"#E5ECF6\",\"polar\":{\"bgcolor\":\"#E5ECF6\",\"angularaxis\":{\"gridcolor\":\"white\",\"linecolor\":\"white\",\"ticks\":\"\"},\"radialaxis\":{\"gridcolor\":\"white\",\"linecolor\":\"white\",\"ticks\":\"\"}},\"ternary\":{\"bgcolor\":\"#E5ECF6\",\"aaxis\":{\"gridcolor\":\"white\",\"linecolor\":\"white\",\"ticks\":\"\"},\"baxis\":{\"gridcolor\":\"white\",\"linecolor\":\"white\",\"ticks\":\"\"},\"caxis\":{\"gridcolor\":\"white\",\"linecolor\":\"white\",\"ticks\":\"\"}},\"coloraxis\":{\"colorbar\":{\"outlinewidth\":0,\"ticks\":\"\"}},\"colorscale\":{\"sequential\":[[0.0,\"#0d0887\"],[0.1111111111111111,\"#46039f\"],[0.2222222222222222,\"#7201a8\"],[0.3333333333333333,\"#9c179e\"],[0.4444444444444444,\"#bd3786\"],[0.5555555555555556,\"#d8576b\"],[0.6666666666666666,\"#ed7953\"],[0.7777777777777778,\"#fb9f3a\"],[0.8888888888888888,\"#fdca26\"],[1.0,\"#f0f921\"]],\"sequentialminus\":[[0.0,\"#0d0887\"],[0.1111111111111111,\"#46039f\"],[0.2222222222222222,\"#7201a8\"],[0.3333333333333333,\"#9c179e\"],[0.4444444444444444,\"#bd3786\"],[0.5555555555555556,\"#d8576b\"],[0.6666666666666666,\"#ed7953\"],[0.7777777777777778,\"#fb9f3a\"],[0.8888888888888888,\"#fdca26\"],[1.0,\"#f0f921\"]],\"diverging\":[[0,\"#8e0152\"],[0.1,\"#c51b7d\"],[0.2,\"#de77ae\"],[0.3,\"#f1b6da\"],[0.4,\"#fde0ef\"],[0.5,\"#f7f7f7\"],[0.6,\"#e6f5d0\"],[0.7,\"#b8e186\"],[0.8,\"#7fbc41\"],[0.9,\"#4d9221\"],[1,\"#276419\"]]},\"xaxis\":{\"gridcolor\":\"white\",\"linecolor\":\"white\",\"ticks\":\"\",\"title\":{\"standoff\":15},\"zerolinecolor\":\"white\",\"automargin\":true,\"zerolinewidth\":2},\"yaxis\":{\"gridcolor\":\"white\",\"linecolor\":\"white\",\"ticks\":\"\",\"title\":{\"standoff\":15},\"zerolinecolor\":\"white\",\"automargin\":true,\"zerolinewidth\":2},\"scene\":{\"xaxis\":{\"backgroundcolor\":\"#E5ECF6\",\"gridcolor\":\"white\",\"linecolor\":\"white\",\"showbackground\":true,\"ticks\":\"\",\"zerolinecolor\":\"white\",\"gridwidth\":2},\"yaxis\":{\"backgroundcolor\":\"#E5ECF6\",\"gridcolor\":\"white\",\"linecolor\":\"white\",\"showbackground\":true,\"ticks\":\"\",\"zerolinecolor\":\"white\",\"gridwidth\":2},\"zaxis\":{\"backgroundcolor\":\"#E5ECF6\",\"gridcolor\":\"white\",\"linecolor\":\"white\",\"showbackground\":true,\"ticks\":\"\",\"zerolinecolor\":\"white\",\"gridwidth\":2}},\"shapedefaults\":{\"line\":{\"color\":\"#2a3f5f\"}},\"annotationdefaults\":{\"arrowcolor\":\"#2a3f5f\",\"arrowhead\":0,\"arrowwidth\":1},\"geo\":{\"bgcolor\":\"white\",\"landcolor\":\"#E5ECF6\",\"subunitcolor\":\"white\",\"showland\":true,\"showlakes\":true,\"lakecolor\":\"white\"},\"title\":{\"x\":0.05},\"mapbox\":{\"style\":\"light\"}}}},                        {\"responsive\": true}                    ).then(function(){\n",
       "                            \n",
       "var gd = document.getElementById('196a70e3-82a6-40db-920c-78044c4a8c69');\n",
       "var x = new MutationObserver(function (mutations, observer) {{\n",
       "        var display = window.getComputedStyle(gd).display;\n",
       "        if (!display || display === 'none') {{\n",
       "            console.log([gd, 'removed!']);\n",
       "            Plotly.purge(gd);\n",
       "            observer.disconnect();\n",
       "        }}\n",
       "}});\n",
       "\n",
       "// Listen for the removal of the full notebook cells\n",
       "var notebookContainer = gd.closest('#notebook-container');\n",
       "if (notebookContainer) {{\n",
       "    x.observe(notebookContainer, {childList: true});\n",
       "}}\n",
       "\n",
       "// Listen for the clearing of the current output cell\n",
       "var outputEl = gd.closest('.output');\n",
       "if (outputEl) {{\n",
       "    x.observe(outputEl, {childList: true});\n",
       "}}\n",
       "\n",
       "                        })                };                });            </script>        </div>"
      ]
     },
     "metadata": {},
     "output_type": "display_data"
    }
   ],
   "source": [
    "choromap = go.Figure(data=[data],layout=layout)\n",
    "iplot(choromap, validate=False)"
   ]
  },
  {
   "cell_type": "code",
   "execution_count": null,
   "id": "db7cd2b3-3c71-4e5b-9187-3b387c17d64c",
   "metadata": {},
   "outputs": [],
   "source": []
  }
 ],
 "metadata": {
  "kernelspec": {
   "display_name": "Python 3 (ipykernel)",
   "language": "python",
   "name": "python3"
  },
  "language_info": {
   "codemirror_mode": {
    "name": "ipython",
    "version": 3
   },
   "file_extension": ".py",
   "mimetype": "text/x-python",
   "name": "python",
   "nbconvert_exporter": "python",
   "pygments_lexer": "ipython3",
   "version": "3.9.13"
  }
 },
 "nbformat": 4,
 "nbformat_minor": 5
}
