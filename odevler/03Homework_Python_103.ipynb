{
 "cells": [
  {
   "cell_type": "markdown",
   "id": "88ff252b-8356-4ef8-a683-e2e28bd76dd5",
   "metadata": {},
   "source": [
    "## Let's practice with functions!\n",
    "### <font color=\"green\"> Exercise 1: Reverse it! </font>\n",
    "Write a function that asks for a string with multiple words. In other words, **print the same string, but with the words in backwards order.** \n",
    "\n",
    "For example, if the string is \"I am a data scientist\" should print \"scientist data a am I\".\n",
    "\n",
    "You can split a string based on a given set of characters. For example: \n",
    "\n",
    "__`test_string = 'I am a data scientist'\n",
    "result = test_string.split('a')`__\n",
    "\n",
    "Would output: __`['I ', 'm ', ' d', 't', ' scientist']`__\n",
    "\n",
    "You can split on any character you like (including space). \n",
    "\n",
    "You can also join a list of strings together: \n",
    "__`'a'.join(result)`__ \n",
    "would output: \"I am a data scientist\""
   ]
  },
  {
   "cell_type": "code",
   "execution_count": 2,
   "id": "94e0ad62-1564-41d6-b724-8d2ee65d3ac3",
   "metadata": {},
   "outputs": [
    {
     "name": "stdout",
     "output_type": "stream",
     "text": [
      "scientist data a am I\n"
     ]
    }
   ],
   "source": [
    "def reverse_words_in_string(input_string):\n",
    "    words = input_string.split(' ')\n",
    "    reversed_words = ' '.join(reversed(words))\n",
    "    return reversed_words\n",
    "\n",
    "# Test\n",
    "test_string = 'I am a data scientist'\n",
    "print(reverse_words_in_string(test_string))\n"
   ]
  },
  {
   "cell_type": "markdown",
   "id": "3674934b-491f-40cb-9664-85641e9edeef",
   "metadata": {},
   "source": [
    "### <font color=\"green\"> Exercise 2: Determining Divisors </font>\n",
    "Create a function that asks the user for a number and then prints out a list of all the divisors of that number. \n",
    "\n",
    "A divisor is a number that divides evenly into another number. <br>\n",
    "\n",
    "For example, 3 is a divisor of 9 because 9 / 3 has no remainder. "
   ]
  },
  {
   "cell_type": "code",
   "execution_count": 3,
   "id": "db6dbb12-832b-43f5-bfa6-24b4f01a1dda",
   "metadata": {},
   "outputs": [
    {
     "name": "stdout",
     "output_type": "stream",
     "text": [
      "[1, 3, 9]\n"
     ]
    }
   ],
   "source": [
    "def find_divisors(num):\n",
    "    divisors = [i for i in range(1, num + 1) if num % i == 0]\n",
    "    return divisors\n",
    "\n",
    "# Test\n",
    "number = 9\n",
    "print(find_divisors(number))\n"
   ]
  },
  {
   "cell_type": "markdown",
   "id": "e207b477-843e-4f28-8910-dd09678cf64b",
   "metadata": {},
   "source": [
    "### <font color=\"green\"> Exercise 3: Picking Primes </font>\n",
    "Ask the user for a number and determine whether the number is prime or not. \n",
    "\n",
    "(For those who have forgotten, a prime number is a number that has no divisors.)"
   ]
  },
  {
   "cell_type": "code",
   "execution_count": 4,
   "id": "b8ca9df1-126e-4e8a-9c24-e257a8b74c4b",
   "metadata": {},
   "outputs": [
    {
     "name": "stdout",
     "output_type": "stream",
     "text": [
      "True\n"
     ]
    }
   ],
   "source": [
    "def is_prime(num):\n",
    "    if num > 1:\n",
    "        for i in range(2, num):\n",
    "            if (num % i) == 0:\n",
    "                return False\n",
    "        else:\n",
    "            return True\n",
    "    else:\n",
    "        return False\n",
    "\n",
    "# Test\n",
    "number = 7\n",
    "print(is_prime(number))\n"
   ]
  },
  {
   "cell_type": "markdown",
   "id": "ec7e7fad-bf51-41ed-9a39-2ac646c60d34",
   "metadata": {},
   "source": [
    "### <font color=\"green\"> Exercise 4: Guessing Game </font>\n",
    "Generate a random integer from 1 to 9 (inclusive). <br>\n",
    "**Phase 1**: Ask the user to guess the number, and tell them whether their guess was too low, too high, or correct. <br>\n",
    "**Phase 2**: Keep the game going until the user gets the correct number. <br>\n",
    "**Bonus:** Keep track of how many guesses the user has taken, and when the game ends print this out. \n",
    "\n",
    "You'll need to use the random module for this question. See here for more info on random: [Python 3](https://docs.python.org/3/library/random.html)"
   ]
  },
  {
   "cell_type": "code",
   "execution_count": 5,
   "id": "8998bef7-2e0a-48d6-96d9-164be29657ad",
   "metadata": {},
   "outputs": [
    {
     "name": "stdin",
     "output_type": "stream",
     "text": [
      "Guess a number between 1 and 9:  5\n"
     ]
    },
    {
     "name": "stdout",
     "output_type": "stream",
     "text": [
      "You got it!\n",
      "And it only took you 1 tries!\n"
     ]
    }
   ],
   "source": [
    "import random\n",
    "\n",
    "def guessing_game():\n",
    "    number_to_guess = random.randint(1, 9)\n",
    "    guess = 0\n",
    "    count = 0\n",
    "\n",
    "    while guess != number_to_guess and guess != \"exit\":\n",
    "        guess = input(\"Guess a number between 1 and 9: \")\n",
    "\n",
    "        if guess == \"exit\":\n",
    "            break\n",
    "\n",
    "        guess = int(guess)\n",
    "        count += 1\n",
    "\n",
    "        if guess < number_to_guess:\n",
    "            print(\"Too low!\")\n",
    "        elif guess > number_to_guess:\n",
    "            print(\"Too high!\")\n",
    "        else:\n",
    "            print(\"You got it!\")\n",
    "            print(\"And it only took you\", count, \"tries!\")\n",
    "\n",
    "# Start the game\n",
    "guessing_game()\n"
   ]
  },
  {
   "cell_type": "markdown",
   "id": "63380926-71b0-461e-a43b-dbfab9012760",
   "metadata": {},
   "source": [
    "### <font color=\"green\"> Exercise 5: Rock-Paper-Scissors </font>\n",
    "Create a function to make a two-player Rock-Paper-Scissors game. <br>\n",
    "\n",
    "Ask for moves using input, compare them, print out a congratuations message to the winner, and ask if the players would like to start a new game. \n",
    "\n",
    "Remember the rules:\n",
    "* Rock beats scissors\n",
    "* Scissors beats paper\n",
    "* Paper beats rock"
   ]
  },
  {
   "cell_type": "code",
   "execution_count": 6,
   "id": "11ed52c0-5c0c-4501-aac4-ec9b6f9a67f0",
   "metadata": {},
   "outputs": [
    {
     "name": "stdin",
     "output_type": "stream",
     "text": [
      "Player 1, choose Rock, Paper or Scissors:  5\n",
      "Player 2, choose Rock, Paper or Scissors:  4\n"
     ]
    },
    {
     "name": "stdout",
     "output_type": "stream",
     "text": [
      "Congratulations Player 2, you win!\n"
     ]
    },
    {
     "name": "stdin",
     "output_type": "stream",
     "text": [
      "Would you like to play again? (yes/no):  n\n"
     ]
    }
   ],
   "source": [
    "def rock_paper_scissors():\n",
    "    while True:\n",
    "        player1 = input(\"Player 1, choose Rock, Paper or Scissors: \")\n",
    "        player2 = input(\"Player 2, choose Rock, Paper or Scissors: \")\n",
    "\n",
    "        if player1 == player2:\n",
    "            print(\"It's a tie!\")\n",
    "        elif (player1 == \"Rock\" and player2 == \"Scissors\") or (player1 == \"Scissors\" and player2 == \"Paper\") or (player1 == \"Paper\" and player2 == \"Rock\"):\n",
    "            print(\"Congratulations Player 1, you win!\")\n",
    "        else:\n",
    "            print(\"Congratulations Player 2, you win!\")\n",
    "\n",
    "        play_again = input(\"Would you like to play again? (yes/no): \")\n",
    "        if play_again.lower() != \"yes\":\n",
    "            break\n",
    "\n",
    "# Start the game\n",
    "rock_paper_scissors()\n"
   ]
  },
  {
   "cell_type": "markdown",
   "id": "d70926af-9912-42ff-a83b-5d40da0d7844",
   "metadata": {},
   "source": [
    "### <font color=\"green\"> Exercise 6: Guessing Game v2 </font>\n",
    "Update your guessing game function to make sure the user is guessing integers (not strings or floats!), and use **try & except** statements here!"
   ]
  },
  {
   "cell_type": "code",
   "execution_count": 7,
   "id": "342508aa-73b1-43cc-83c0-0da854fa7caa",
   "metadata": {},
   "outputs": [
    {
     "name": "stdin",
     "output_type": "stream",
     "text": [
      "Guess a number between 1 and 9:  5\n"
     ]
    },
    {
     "name": "stdout",
     "output_type": "stream",
     "text": [
      "Too low!\n"
     ]
    },
    {
     "name": "stdin",
     "output_type": "stream",
     "text": [
      "Guess a number between 1 and 9:  5\n"
     ]
    },
    {
     "name": "stdout",
     "output_type": "stream",
     "text": [
      "Too low!\n"
     ]
    },
    {
     "name": "stdin",
     "output_type": "stream",
     "text": [
      "Guess a number between 1 and 9:  4\n"
     ]
    },
    {
     "name": "stdout",
     "output_type": "stream",
     "text": [
      "Too low!\n"
     ]
    },
    {
     "name": "stdin",
     "output_type": "stream",
     "text": [
      "Guess a number between 1 and 9:  2\n"
     ]
    },
    {
     "name": "stdout",
     "output_type": "stream",
     "text": [
      "Too low!\n"
     ]
    },
    {
     "name": "stdin",
     "output_type": "stream",
     "text": [
      "Guess a number between 1 and 9:  3\n"
     ]
    },
    {
     "name": "stdout",
     "output_type": "stream",
     "text": [
      "Too low!\n"
     ]
    },
    {
     "name": "stdin",
     "output_type": "stream",
     "text": [
      "Guess a number between 1 and 9:  7\n"
     ]
    },
    {
     "name": "stdout",
     "output_type": "stream",
     "text": [
      "Too low!\n"
     ]
    },
    {
     "name": "stdin",
     "output_type": "stream",
     "text": [
      "Guess a number between 1 and 9:  8\n"
     ]
    },
    {
     "name": "stdout",
     "output_type": "stream",
     "text": [
      "Too low!\n"
     ]
    },
    {
     "name": "stdin",
     "output_type": "stream",
     "text": [
      "Guess a number between 1 and 9:  9\n"
     ]
    },
    {
     "name": "stdout",
     "output_type": "stream",
     "text": [
      "You got it!\n",
      "And it only took you 8 tries!\n"
     ]
    }
   ],
   "source": [
    "import random\n",
    "\n",
    "def guessing_game():\n",
    "    number_to_guess = random.randint(1, 9)\n",
    "    guess = 0\n",
    "    count = 0\n",
    "\n",
    "    while guess != number_to_guess and guess != \"exit\":\n",
    "        try:\n",
    "            guess = input(\"Guess a number between 1 and 9: \")\n",
    "\n",
    "            if guess == \"exit\":\n",
    "                break\n",
    "\n",
    "            guess = int(guess)\n",
    "            count += 1\n",
    "\n",
    "            if guess < number_to_guess:\n",
    "                print(\"Too low!\")\n",
    "            elif guess > number_to_guess:\n",
    "                print(\"Too high!\")\n",
    "            else:\n",
    "                print(\"You got it!\")\n",
    "                print(\"And it only took you\", count, \"tries!\")\n",
    "        except ValueError:\n",
    "            print(\"Invalid input. Please enter an integer or 'exit'.\")\n",
    "\n",
    "# Start the game\n",
    "guessing_game()\n"
   ]
  }
 ],
 "metadata": {
  "kernelspec": {
   "display_name": "Python 3 (ipykernel)",
   "language": "python",
   "name": "python3"
  },
  "language_info": {
   "codemirror_mode": {
    "name": "ipython",
    "version": 3
   },
   "file_extension": ".py",
   "mimetype": "text/x-python",
   "name": "python",
   "nbconvert_exporter": "python",
   "pygments_lexer": "ipython3",
   "version": "3.9.13"
  }
 },
 "nbformat": 4,
 "nbformat_minor": 5
}
