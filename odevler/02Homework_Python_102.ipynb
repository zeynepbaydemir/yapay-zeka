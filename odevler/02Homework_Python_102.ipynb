{
 "cells": [
  {
   "cell_type": "markdown",
   "id": "ec39cc3e-a0a9-4fc4-8b0e-0ac55ad2abc6",
   "metadata": {},
   "source": [
    "## Exercise 1: Secret Code\n",
    "Create a secret code checker. <p>\n",
    "\n",
    "Great programmers of any language create pseudo-code of their program before programming. <br>\n",
    "**Here is an example of pseudo-code for this problem:**\n",
    "0. Designate a password or your own secret code.\n",
    "    * This is a variable, called secret_code.\n",
    "1. Ask the user for the secret code.\n",
    "    1. Use raw_input(\"Phrase\") & assign it to a variable, called user_input.\n",
    "2. Check if the user's input matches with the secret code.\n",
    "    1. If it matches, print \"You got it!\"\n",
    "        * Hint: This sounds like an if-statement.\n",
    "    2. If it doesn't match, print \"Guess again!\"\n",
    "        * Hint: This sounds like an else-statement."
   ]
  },
  {
   "cell_type": "code",
   "execution_count": 2,
   "id": "185ea213-97fa-4e2b-9c8e-ee4facfffd3f",
   "metadata": {},
   "outputs": [
    {
     "name": "stdin",
     "output_type": "stream",
     "text": [
      "Gizli kodu girin:  5\n"
     ]
    },
    {
     "name": "stdout",
     "output_type": "stream",
     "text": [
      "Tekrar dene!\n"
     ]
    }
   ],
   "source": [
    "secret_code = \"AçılSusamAçıl\"\n",
    "\n",
    "user_input = input(\"Gizli kodu girin: \")\n",
    "\n",
    "if user_input == secret_code:\n",
    "    print(\"Doğru bildin!\")\n",
    "else:\n",
    "    print(\"Tekrar dene!\")\n"
   ]
  },
  {
   "cell_type": "markdown",
   "id": "cea0171a-77c1-46f2-b3c3-e2228b5a77ba",
   "metadata": {},
   "source": [
    "### **Checkpoint:** Why did we not need to convert the user_input into a string? How do you know?"
   ]
  },
  {
   "cell_type": "markdown",
   "id": "bb8a5b0e-d6cc-469d-b10b-0dafc89e1f10",
   "metadata": {},
   "source": [
    "user_input’ı bir dizeye dönüştürmemize gerek yoktur çünkü Python’daki input() fonksiyonu her zaman bir dize döndürür. "
   ]
  },
  {
   "cell_type": "markdown",
   "id": "7995f920-287c-4824-9df6-fd964b9a9a64",
   "metadata": {},
   "source": [
    "### <font color=\"green\"> Exercise 2: Grading Assignments </font>\n",
    "Create an automatic grader that prints the letter grade for an inputted score.\n",
    "* 0 - 59 = F \n",
    "* 60 - 69 = D \n",
    "* 70 - 79 = C \n",
    "* 80 - 89 = B \n",
    "* 90 - 100 = A"
   ]
  },
  {
   "cell_type": "code",
   "execution_count": 2,
   "id": "93c7fb9c-0f7c-4707-8891-19de78e8fb36",
   "metadata": {},
   "outputs": [
    {
     "name": "stdout",
     "output_type": "stream",
     "text": [
      "B\n"
     ]
    }
   ],
   "source": [
    "def grade(score):\n",
    "    if score < 60:\n",
    "        return 'F'\n",
    "    elif score < 70:\n",
    "        return 'D'\n",
    "    elif score < 80:\n",
    "        return 'C'\n",
    "    elif score < 90:\n",
    "        return 'B'\n",
    "    else:\n",
    "        return 'A'\n",
    "\n",
    "    \n",
    "print(grade(85))  # B\n"
   ]
  },
  {
   "cell_type": "markdown",
   "id": "74040270-2c00-42de-864d-87ca2840c08d",
   "metadata": {},
   "source": [
    "<font color=\"green\"> **Checkpoint:** Why did we use input here? How is this different from raw_input? </font>"
   ]
  },
  {
   "cell_type": "markdown",
   "id": "7d8323f0-c89c-40b6-985c-80206c4325f8",
   "metadata": {},
   "source": [
    "Burada input() kullandık çünkü Python 3 ile çalışıyoruz. Python 3’te, input() kullanıcıdan giriş almak için kullanılır. Öte yandan, raw_input() Python 2’de kullanıcıdan bir dize olarak giriş almak için kullanılırdı. Ancak, raw_input() Python 3’te kaldırıldı ve şimdi yerine input() kullanılıyor."
   ]
  },
  {
   "cell_type": "markdown",
   "id": "20c39c7a-b3c6-4b03-8144-c28866843063",
   "metadata": {
    "tags": []
   },
   "source": [
    "### <font color=\"green\"> Exercise 3: Crazy Cat Lover </font>\n",
    "Check to see if someone is a crazy cat lover. \n",
    "* If there are more than 3 cats, print \"They are crazy for cats!\".\n",
    "    * Unless they also have a dog, then print \"They love animals!\".\n",
    "* Otherwise print \"They aren't crazy for cats\"."
   ]
  },
  {
   "cell_type": "code",
   "execution_count": 7,
   "id": "d9b40354-4c4c-46be-a680-f6ab7be52b80",
   "metadata": {},
   "outputs": [
    {
     "name": "stdout",
     "output_type": "stream",
     "text": [
      "They are crazy for cats!\n"
     ]
    }
   ],
   "source": [
    "def check_cat_lover(num_cats, has_dog):\n",
    "    if num_cats > 3:\n",
    "        if has_dog:\n",
    "            return \"They love animals!\"\n",
    "        else:\n",
    "            return \"They are crazy for cats!\"\n",
    "    else:\n",
    "        return \"They aren't crazy for cats\"\n",
    "\n",
    "# Test the function\n",
    "print(check_cat_lover(4, False))  # This will print: They are crazy for cats!\n"
   ]
  },
  {
   "cell_type": "markdown",
   "id": "6e2560d3-8873-4892-a1e1-62328b28acd1",
   "metadata": {},
   "source": [
    "### <font color=\"green\"> Exercise 4: Summer Play </font>\n",
    "The kids by the beach spend most of their day playing, but depends on the weather! <br>\n",
    "Create a code that will tell you if the children are playing. <p>\n",
    "    \n",
    "* If the temperature is between 65 & 90 (inclusively), they are playing.\n",
    "* If it is summertime, the temperature can go up to 100, they are playing.\n",
    "* If they are playing, print True.\n",
    "    * If they are not playing, print False."
   ]
  },
  {
   "cell_type": "code",
   "execution_count": 9,
   "id": "ca25d600-98cf-4a31-a619-8cbf8643fc09",
   "metadata": {},
   "outputs": [
    {
     "name": "stdout",
     "output_type": "stream",
     "text": [
      "True\n"
     ]
    }
   ],
   "source": [
    "def check_play(temperature, is_summer):\n",
    "    if (65 <= temperature <= 90) or (is_summer and temperature <= 100):\n",
    "        return True\n",
    "    else:\n",
    "        return False\n",
    "\n",
    "# Test the function\n",
    "print(check_play(95, True))  # This will print: True\n"
   ]
  },
  {
   "cell_type": "markdown",
   "id": "04f3cc7c-718f-4448-8e36-a9f95a9f6ec7",
   "metadata": {},
   "source": [
    "### <font color=\"green\"> Exercise 5: Speeding Ticket </font>\n",
    "You are driving a little too fast and get pulled over by a police officer. <br>\n",
    "Write a code to determine what size ticket you'll get. <p>\n",
    "    \n",
    "* If speed is 65 or less, you will not get a ticket.\n",
    "* If speed is above 65, but below 80, you will get a small ticket.\n",
    "* If your speed is above 80, then you'll get a big ticket.\n",
    "* If it's your birthday though, you get a 5mph break - your speed can be 5 higher than the regular thresholds. \n",
    "    * You will still get a ticket."
   ]
  },
  {
   "cell_type": "code",
   "execution_count": 10,
   "id": "226f1667-5f0b-45ca-9cac-496c6346b246",
   "metadata": {},
   "outputs": [
    {
     "name": "stdout",
     "output_type": "stream",
     "text": [
      "Small ticket\n"
     ]
    }
   ],
   "source": [
    "def check_speeding(speed, is_birthday):\n",
    "    if is_birthday:\n",
    "        speed -= 5\n",
    "\n",
    "    if speed <= 65:\n",
    "        return \"No ticket\"\n",
    "    elif speed <= 80:\n",
    "        return \"Small ticket\"\n",
    "    else:\n",
    "        return \"Big ticket\"\n",
    "\n",
    "# Test the function\n",
    "print(check_speeding(85, True))  # This will print: Small ticket\n"
   ]
  },
  {
   "cell_type": "markdown",
   "id": "b7363f77-2be7-4659-aba3-7d8a68d50458",
   "metadata": {},
   "source": [
    "<font color=\"green\">**Checkpoint**: Why do we need to add one to the current_number each time?</font>"
   ]
  },
  {
   "cell_type": "markdown",
   "id": "425c9854-35b7-4360-abf4-27d582e14ccc",
   "metadata": {},
   "source": [
    "Bir döngüde her seferinde `current_number`'a bir eklememiz gerekiyor çünkü dizide ilerlememiz ve aynı sayıda takılıp kalmamamız gerekiyor. Bu, bir sayı dizisi üzerinde yinelemek istediğimizde programlamada yaygın bir uygulamadır. `current_number`'ı bir artırarak, her döngü yinelemenin dizideki bir sonraki sayıyla ilgilendiğinden emin oluruz. Bunu yapmazsak, döngü aynı `current_number` üzerinde sürekli olarak çalışır ve sonsuz bir döngüye yol açar."
   ]
  },
  {
   "cell_type": "markdown",
   "id": "099865c1-02f0-4dbb-9fc2-5664309fe14a",
   "metadata": {},
   "source": [
    "### <font color=\"green\">Exercise: Use a while loop to print the numbers from 10 to 1. After 1, print \"Blastoff!\"</font>"
   ]
  },
  {
   "cell_type": "code",
   "execution_count": 12,
   "id": "91ec5b01-ca2e-40c4-a26a-290eecc04be1",
   "metadata": {},
   "outputs": [
    {
     "name": "stdout",
     "output_type": "stream",
     "text": [
      "10\n",
      "9\n",
      "8\n",
      "7\n",
      "6\n",
      "5\n",
      "4\n",
      "3\n",
      "2\n",
      "1\n",
      "Blastoff!\n"
     ]
    }
   ],
   "source": [
    "current_number = 10\n",
    "while current_number > 0:\n",
    "    print(current_number)\n",
    "    current_number -= 1\n",
    "print(\"Blastoff!\")\n"
   ]
  },
  {
   "cell_type": "markdown",
   "id": "33156892-020f-46b8-aece-e9c9d0f62d5f",
   "metadata": {},
   "source": [
    "### <font color=\"green\">Exercise: Use a while loop to print all the even numbers from 2 through 20.\"</font>"
   ]
  },
  {
   "cell_type": "code",
   "execution_count": 13,
   "id": "307e6a83-4e48-4e86-9da1-3df96401d00b",
   "metadata": {},
   "outputs": [
    {
     "name": "stdout",
     "output_type": "stream",
     "text": [
      "2\n",
      "4\n",
      "6\n",
      "8\n",
      "10\n",
      "12\n",
      "14\n",
      "16\n",
      "18\n",
      "20\n"
     ]
    }
   ],
   "source": [
    "current_number = 2\n",
    "while current_number <= 20:\n",
    "    print(current_number)\n",
    "    current_number += 2\n"
   ]
  },
  {
   "cell_type": "markdown",
   "id": "0b866bcf-b480-4bc4-8310-e75f2d69a50d",
   "metadata": {},
   "source": [
    "<font color=\"green\"> **Checkpoint**: What does the range() function do? When do you think this will be important to use? </font>"
   ]
  },
  {
   "cell_type": "markdown",
   "id": "5bb4a855-b5d5-491b-90d1-17c9fbbd39be",
   "metadata": {},
   "source": [
    "Python’daki range() fonksiyonu, belirli bir aralıktaki sayıları oluşturur. Bu, döngülerde çok önemlidir çünkü genellikle belirli bir sayıda yineleme yapmak istersiniz. Örneğin, bir liste üzerinde yineleme yaparken veya belirli bir sayıda yineleme yapmak istediğinizde range() fonksiyonunu kullanabilirsiniz.\n",
    "\n"
   ]
  },
  {
   "cell_type": "markdown",
   "id": "90ae12e4-7014-464c-a63a-1d395f8033ff",
   "metadata": {},
   "source": [
    "### <font color=\"green\"> Exercise 1: Use a for loop to print the numbers from 10 to 1. After 1, print \"Blastoff!\" </font>"
   ]
  },
  {
   "cell_type": "code",
   "execution_count": 14,
   "id": "334966cb-2740-4492-8668-608860481131",
   "metadata": {},
   "outputs": [
    {
     "name": "stdout",
     "output_type": "stream",
     "text": [
      "10\n",
      "9\n",
      "8\n",
      "7\n",
      "6\n",
      "5\n",
      "4\n",
      "3\n",
      "2\n",
      "1\n",
      "Blastoff!\n"
     ]
    }
   ],
   "source": [
    "for i in range(10, 0, -1):\n",
    "    print(i)\n",
    "print(\"Blastoff!\")\n"
   ]
  },
  {
   "cell_type": "markdown",
   "id": "f051fc62-78e8-4d83-91dc-13c41a3e9c2e",
   "metadata": {},
   "source": [
    "### <font color=\"green\"> Exercise 2: Use a for loop to print the odd numbers from 1 through 20. </font>"
   ]
  },
  {
   "cell_type": "code",
   "execution_count": 15,
   "id": "3859d417-e46e-4c1d-8ece-9dd7c2c2f202",
   "metadata": {},
   "outputs": [
    {
     "name": "stdout",
     "output_type": "stream",
     "text": [
      "1\n",
      "3\n",
      "5\n",
      "7\n",
      "9\n",
      "11\n",
      "13\n",
      "15\n",
      "17\n",
      "19\n"
     ]
    }
   ],
   "source": [
    "for i in range(1, 21):\n",
    "    if i % 2 != 0:\n",
    "        print(i)\n"
   ]
  },
  {
   "cell_type": "markdown",
   "id": "048d0af8-381b-4398-bb68-7aba6e751b62",
   "metadata": {},
   "source": [
    "<font color=\"green\">**Challenge**: Which method was better for these exercises? The While or the For Loops? </font>"
   ]
  },
  {
   "cell_type": "markdown",
   "id": "129d1bf0-2a35-4768-b872-711d06190c92",
   "metadata": {},
   "source": [
    "Bu alıştırmalar için hangi yöntemin daha iyi olduğu, yapmak istediğiniz işe bağlıdır. Genel olarak, bir döngünün kaç kez yineleneceğini önceden biliyorsanız, for döngüsü kullanmak daha iyidir. Eğer bir döngünün ne zaman biteceğini önceden bilmiyorsanız, while döngüsü kullanmak daha iyidir. Bu alıştırmalarda, for döngüsü kullanmak daha kolay ve daha kısa olabilir, çünkü sayı aralıklarını range() fonksiyonu ile belirtebiliriz. Ancak, while döngüsü de aynı işi yapabilir, sadece bir sayaç değişkeni tanımlamamız ve her yinelemede güncellememiz gerekir."
   ]
  },
  {
   "cell_type": "markdown",
   "id": "5ae5560f-6fe0-4361-9b37-b7395ce87917",
   "metadata": {},
   "source": [
    "<font color=\"green\"> **Checkpoint:** Pick any of the above examples of loops you have done. Create a **break** in your chosen example. </font>"
   ]
  },
  {
   "cell_type": "markdown",
   "id": "d0e3fd4f-b80e-447d-8c4b-42a3150553cc",
   "metadata": {},
   "source": [
    "Elbette, yukarıdaki döngü örneklerinden birinde bir break oluşturabiliriz. Örneğin, 10’dan 1’e kadar olan sayıları yazdıran for döngüsünü ele alalım. Bu döngüde, sayı 5 olduğunda döngüyü durdurmak için bir break ekleyebiliriz:\n",
    "\n"
   ]
  },
  {
   "cell_type": "code",
   "execution_count": 17,
   "id": "c97cdb06-de84-4a05-bf62-0b54c600dc42",
   "metadata": {},
   "outputs": [
    {
     "name": "stdout",
     "output_type": "stream",
     "text": [
      "10\n",
      "9\n",
      "8\n",
      "7\n",
      "6\n",
      "Blastoff!\n"
     ]
    }
   ],
   "source": [
    "for i in range(10, 0, -1):\n",
    "    if i == 5:\n",
    "        break\n",
    "    print(i)\n",
    "print(\"Blastoff!\")\n"
   ]
  },
  {
   "cell_type": "markdown",
   "id": "f03c9eec-43e3-40a8-a352-03fa0ad9f1a2",
   "metadata": {},
   "source": [
    "<font color=\"green\"> **Checkpoint:** Pick any of the above examples of loops you have done. Create a **continue** in your chosen example. </font>"
   ]
  },
  {
   "cell_type": "code",
   "execution_count": 18,
   "id": "686bd196-05a1-4fa7-92e4-dae5eb63ac85",
   "metadata": {},
   "outputs": [
    {
     "name": "stdout",
     "output_type": "stream",
     "text": [
      "5\n",
      "6\n",
      "7\n",
      "8\n",
      "9\n"
     ]
    }
   ],
   "source": [
    "numbers = [1, 2, 3, 4, 5, 6, 7, 8, 9]\n",
    "for num in numbers:\n",
    "    if num < 5:\n",
    "        continue\n",
    "    print(num)\n"
   ]
  },
  {
   "cell_type": "markdown",
   "id": "d9fa2b9a-8048-4ddd-b97d-f4ffba2fb69f",
   "metadata": {},
   "source": [
    "<font color=\"green\"> **Challenge**: Pick a different example than what you can picked & create both **a continue & a break** point in the example."
   ]
  },
  {
   "cell_type": "code",
   "execution_count": 19,
   "id": "93ae5edb-3a62-477a-8298-5ba3acc158aa",
   "metadata": {},
   "outputs": [
    {
     "name": "stdout",
     "output_type": "stream",
     "text": [
      "5\n",
      "6\n",
      "7\n"
     ]
    }
   ],
   "source": [
    "numbers = [1, 2, 3, 4, 5, 6, 7, 8, 9]\n",
    "for num in numbers:\n",
    "    if num < 5:\n",
    "        continue\n",
    "    elif num > 7:\n",
    "        break\n",
    "    print(num)\n"
   ]
  },
  {
   "cell_type": "markdown",
   "id": "7d7a1d90-66f5-49b2-ab86-66f77bc0858a",
   "metadata": {},
   "source": [
    "<font color=\"green\"> **Checkpoint**: When do we use **del** vs when do we use **remove**?</font>"
   ]
  },
  {
   "cell_type": "markdown",
   "id": "67f28c90-70cb-40d8-8099-a51d6bba61f1",
   "metadata": {},
   "source": [
    "Python’da, del ve remove listelerden öğeleri silmek için kullanılan iki farklı yöntemdir. Aralarındaki farklar şunlardır:\n",
    "\n",
    "del bir anahtar kelime olup, listeden belirli bir indekse veya aralığa sahip öğeleri siler. Örneğin, del list[2] listesinin ikinci indeksindeki öğeyi siler. del list[1:3] listesinin birinci ve ikinci indekslerindeki öğeleri siler.\n",
    "\n",
    "remove bir liste yöntemi olup, listeden belirli bir değere sahip ilk öğeyi siler. Örneğin, list.remove(5) listesinden değeri 5 olan ilk öğeyi siler. Eğer listede böyle bir değer yoksa, bir ValueError hatası verir."
   ]
  },
  {
   "cell_type": "markdown",
   "id": "9a2861e9-59be-4dfe-8b90-0535f0725aad",
   "metadata": {},
   "source": [
    "### <font color=\"green\"> Exercise 1: Weekends </font>\n",
    "\n",
    "Use a for loop to iterate over the days of the week (hint: save them in a list)! <br> \n",
    "* If the day is a weekend (Saturday or Sunday), print the day and \"A chance to sleep in!\"\n",
    "* If it's a weekday print the day and \"Off to work.\"\n",
    "    * but if it's Friday, you should also print \"Ready for the weekend!\""
   ]
  },
  {
   "cell_type": "code",
   "execution_count": 22,
   "id": "28ce3191-fd1b-47f6-95ef-e6b13cfbd209",
   "metadata": {},
   "outputs": [
    {
     "name": "stdout",
     "output_type": "stream",
     "text": [
      "Pazartesi İşe gidiyorum.\n",
      "Salı İşe gidiyorum.\n",
      "Çarşamba İşe gidiyorum.\n",
      "Perşembe İşe gidiyorum.\n",
      "Cuma İşe gidiyorum.\n",
      "Hafta sonu için hazırım!\n",
      "Cumartesi Uyku şansı!\n",
      "Pazar Uyku şansı!\n"
     ]
    }
   ],
   "source": [
    "days = [\"Pazartesi\", \"Salı\", \"Çarşamba\", \"Perşembe\", \"Cuma\", \"Cumartesi\", \"Pazar\"]\n",
    "\n",
    "for day in days:\n",
    "    if day == \"Cumartesi\" or day == \"Pazar\":\n",
    "        print(day, \"Uyku şansı!\")\n",
    "    elif day == \"Cuma\":\n",
    "        print(day, \"İşe gidiyorum.\")\n",
    "        print(\"Hafta sonu için hazırım!\")\n",
    "    else:\n",
    "        print(day, \"İşe gidiyorum.\")\n"
   ]
  },
  {
   "cell_type": "markdown",
   "id": "2ad1a3db-1567-46aa-ae39-c33c9e1b78e0",
   "metadata": {},
   "source": [
    "### <font color=\"green\"> Exercise 2: Fizz Buzz </font>\n",
    "\n",
    "Use a loop to iterate over the the numbers from 1 to 30. <br>\n",
    "Print each of the numbers, but these criteria:\n",
    "* If the number is a multiple of 3, print Fizz instead. \n",
    "* If the number is a multiple of 5, print Buzz instead. \n",
    "* If the number is a multiple of both 3 and 5, print FizzBuzz instead."
   ]
  },
  {
   "cell_type": "code",
   "execution_count": 24,
   "id": "40553a78-ad4c-4cf6-962a-7bb317d63691",
   "metadata": {},
   "outputs": [
    {
     "name": "stdout",
     "output_type": "stream",
     "text": [
      "1\n",
      "2\n",
      "Fizz\n",
      "4\n",
      "Buzz\n",
      "Fizz\n",
      "7\n",
      "8\n",
      "Fizz\n",
      "Buzz\n",
      "11\n",
      "Fizz\n",
      "13\n",
      "14\n",
      "FizzBuzz\n",
      "16\n",
      "17\n",
      "Fizz\n",
      "19\n",
      "Buzz\n",
      "Fizz\n",
      "22\n",
      "23\n",
      "Fizz\n",
      "Buzz\n",
      "26\n",
      "Fizz\n",
      "28\n",
      "29\n",
      "FizzBuzz\n"
     ]
    }
   ],
   "source": [
    "for i in range(1, 31):\n",
    "    if i % 3 == 0 and i % 5 == 0:\n",
    "        print(\"FizzBuzz\")\n",
    "    elif i % 3 == 0:\n",
    "        print(\"Fizz\")\n",
    "    elif i % 5 == 0:\n",
    "        print(\"Buzz\")\n",
    "    else:\n",
    "        print(i)\n"
   ]
  },
  {
   "cell_type": "markdown",
   "id": "d429bbdd-e34c-4c27-8c71-ee9e7645e6f9",
   "metadata": {},
   "source": [
    "<font color=\"green\"> **Challenge**: In what scenarios would you use an immutable object like tuples? </font>"
   ]
  },
  {
   "cell_type": "markdown",
   "id": "87d2fd9e-bf6c-4ef4-bbec-f292e3dc6a52",
   "metadata": {},
   "source": [
    "Python’da, demetler (tuple) gibi değiştirilemez nesneleri kullanacağınız çeşitli senaryolar vardır. İşte bazı yaygın kullanım durumları:\n",
    "\n",
    "Sözlük Anahtarları: Python’da, yalnızca değiştirilemez nesneler sözlüklerde anahtar olarak kullanılabilir. Demetler, değiştirilemez oldukları için sözlük anahtarları olarak kullanılabilirken, listeler kullanılamaz.\n",
    "\n",
    "Fonksiyon Argümanları: Argümanları bir fonksiyona geçirirken, demetlerin kullanılması fonksiyonun yanlışlıkla argümanların değerlerini değiştirmesini önler.\n",
    "\n",
    "Performans Optimizasyonu: Demetler, değiştirilemez oldukları için listelere göre daha hafıza verimli ve daha hızlıdır. Değişmeyecek bir öğe koleksiyonunuz varsa ve liste özel işlemlere ihtiyaç duymuyorsanız, bir demet kullanmak iyi bir seçenektir.\n",
    "\n",
    "Veri Bütünlüğü: Belirli bir verinin program boyunca aynı kalmasını sağlamak istiyorsanız, onu bir demet yapmak iyi bir fikirdir. Bu, verinin kazara veya kasıtlı olarak değiştirilemeyeceğini garanti eder.\n",
    "\n",
    "Çoklu Dönüş Değerleri: Python’daki fonksiyonlar, demetleri kullanarak birden çok değer döndürebilir. Bu, Python’da yaygın bir uygulamadır ve kodunuzu daha okunabilir ve özlü hale getirebilir."
   ]
  },
  {
   "cell_type": "markdown",
   "id": "c97cb0a5-9249-4d5c-b8ee-b015bdddb45b",
   "metadata": {},
   "source": [
    "<font color=\"green\">**Checkpoint:** When do you think we will use a set vs a dictionary?</font>"
   ]
  },
  {
   "cell_type": "markdown",
   "id": "f7a992ee-6f0a-43bf-bacf-494540adc52f",
   "metadata": {},
   "source": [
    "Python’daki kümeler ve sözlükler farklı amaçlara hizmet eder ve farklı senaryolarda kullanılır:\n",
    "\n",
    "Kümeler:\n",
    "\n",
    "Kümeler, belirli bir sıra olmaksızın benzersiz öğelerin bir koleksiyonunu saklamak istediğinizde kullanılır.\n",
    "Bir öğenin koleksiyonda olup olmadığını hızlıca kontrol etmek istediğinizde yararlıdırlar, çünkü Python’daki kümeler hash tabloları olarak uygulanır.\n",
    "Kümeler ayrıca birleşim, kesişim, fark ve simetrik fark gibi matematiksel küme işlemlerini destekler.\n",
    "Sözlükler:\n",
    "\n",
    "Sözlükler, anahtarlarla değerleri ilişkilendirmek istediğinizde kullanılır, böylece bir anahtarı vererek hızlıca bir değeri arayabilirsiniz.\n",
    "Bir belgedeki kelimelerin frekansını sayma gibi görevler için yararlıdırlar, burada kelimeler anahtarlardır ve sayımlar değerlerdir.\n",
    "Python’daki sözlükler (kümeler gibi) ayrıca hash tabloları olarak uygulanır, bu yüzden anahtarına göre bir değeri aramak çok hızlıdır.\n",
    "Yani, bir koleksiyonda hangi öğelerin olduğunu (ve bunların sırasını veya herhangi bir ilişkili değeri) önemsediğinizde bir küme kullanırsınız ve anahtarlarla değerleri ilişkilendirmek istediğinizde bir sözlük kullanırsınız."
   ]
  }
 ],
 "metadata": {
  "kernelspec": {
   "display_name": "Python 3 (ipykernel)",
   "language": "python",
   "name": "python3"
  },
  "language_info": {
   "codemirror_mode": {
    "name": "ipython",
    "version": 3
   },
   "file_extension": ".py",
   "mimetype": "text/x-python",
   "name": "python",
   "nbconvert_exporter": "python",
   "pygments_lexer": "ipython3",
   "version": "3.9.13"
  }
 },
 "nbformat": 4,
 "nbformat_minor": 5
}
