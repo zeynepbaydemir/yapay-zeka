{
 "cells": [
  {
   "cell_type": "markdown",
   "id": "e2c7547a-e85e-4ce8-872b-96219594188b",
   "metadata": {},
   "source": [
    "## Code Cell"
   ]
  },
  {
   "cell_type": "code",
   "execution_count": 1,
   "id": "dda3972b-2bb5-4de9-bb38-b4dc931d0660",
   "metadata": {},
   "outputs": [
    {
     "name": "stdout",
     "output_type": "stream",
     "text": [
      "Hello World\n"
     ]
    }
   ],
   "source": [
    "print('Hello World')"
   ]
  },
  {
   "cell_type": "markdown",
   "id": "c82d469f-4eb8-4344-9a92-73466069c101",
   "metadata": {},
   "source": [
    "## Creat a Comment"
   ]
  },
  {
   "cell_type": "code",
   "execution_count": 2,
   "id": "b3cde2a4-d9f2-43db-bbd3-cb7993f2a8fb",
   "metadata": {},
   "outputs": [
    {
     "name": "stdout",
     "output_type": "stream",
     "text": [
      "Hello Python Programmer!\n"
     ]
    }
   ],
   "source": [
    "print('Hello Python Programmer!')"
   ]
  },
  {
   "cell_type": "markdown",
   "id": "fbf0b367-8997-4cdc-8e53-fec093dd4636",
   "metadata": {},
   "source": [
    "## Multi Line Comments"
   ]
  },
  {
   "cell_type": "code",
   "execution_count": 3,
   "id": "8b217b85-8f68-437d-88c0-fdd445f48949",
   "metadata": {},
   "outputs": [
    {
     "name": "stdout",
     "output_type": "stream",
     "text": [
      "Hello, world!\n"
     ]
    }
   ],
   "source": [
    "\"\"\"This is a comment written in more than just one line\"\"\"\n",
    "print(\"Hello, world!\")"
   ]
  },
  {
   "cell_type": "markdown",
   "id": "f4d5b9ce-619d-43a9-a319-961f4fe5ed1d",
   "metadata": {},
   "source": [
    "## Variable naming rules"
   ]
  },
  {
   "cell_type": "code",
   "execution_count": 6,
   "id": "a8fc6f0c-50eb-4b50-8df3-165b7574e12e",
   "metadata": {},
   "outputs": [],
   "source": [
    "myProfession = 'Data Scientist'\n",
    "myNumber = 123456789"
   ]
  },
  {
   "cell_type": "markdown",
   "id": "034ce498-9f87-444a-8482-e2f0a1318fd5",
   "metadata": {},
   "source": [
    "## Declare a Variable"
   ]
  },
  {
   "cell_type": "code",
   "execution_count": 7,
   "id": "5dc9991b-c000-43cf-afcc-1be1eee2adfd",
   "metadata": {},
   "outputs": [
    {
     "data": {
      "text/plain": [
       "'Data Scientist'"
      ]
     },
     "execution_count": 7,
     "metadata": {},
     "output_type": "execute_result"
    }
   ],
   "source": [
    "myProfession"
   ]
  },
  {
   "cell_type": "code",
   "execution_count": 8,
   "id": "64ae542d-7d17-4a57-b3ad-12c2887b095a",
   "metadata": {},
   "outputs": [
    {
     "data": {
      "text/plain": [
       "123456789"
      ]
     },
     "execution_count": 8,
     "metadata": {},
     "output_type": "execute_result"
    }
   ],
   "source": [
    "myProfession\n",
    "myNumber"
   ]
  },
  {
   "cell_type": "code",
   "execution_count": 9,
   "id": "f5b65e55-d354-4829-adf6-2c267102e1f3",
   "metadata": {},
   "outputs": [
    {
     "name": "stdout",
     "output_type": "stream",
     "text": [
      "Data Scientist\n",
      "My number is:  123456789\n",
      "My number is: 123456789\n"
     ]
    }
   ],
   "source": [
    "print(myProfession)\n",
    "print('My number is: ', myNumber)\n",
    "print('My number is: ' + str(myNumber))"
   ]
  },
  {
   "cell_type": "code",
   "execution_count": 10,
   "id": "139db670-6b3b-4499-b9cd-9b2812857243",
   "metadata": {},
   "outputs": [
    {
     "data": {
      "text/plain": [
       "(123456789, 'Data Scientist')"
      ]
     },
     "execution_count": 10,
     "metadata": {},
     "output_type": "execute_result"
    }
   ],
   "source": [
    "myNumber, myProfession"
   ]
  },
  {
   "cell_type": "markdown",
   "id": "9f5fa618-6372-41c7-b74f-d3ac8b118d03",
   "metadata": {},
   "source": [
    "## Numbers "
   ]
  },
  {
   "cell_type": "code",
   "execution_count": 11,
   "id": "648911b2-9506-4f8d-b9ae-b4bc391ef761",
   "metadata": {},
   "outputs": [],
   "source": [
    "x = 1 #int\n",
    "y = 2.8 #float\n",
    "yy = 35e3 #float\n",
    "z = 1j #complex"
   ]
  },
  {
   "cell_type": "code",
   "execution_count": 12,
   "id": "60d53b5c-ad7b-47f8-86b1-6f43a7bf48c4",
   "metadata": {},
   "outputs": [
    {
     "name": "stdout",
     "output_type": "stream",
     "text": [
      "<class 'int'>\n",
      "<class 'float'>\n",
      "<class 'float'>\n",
      "<class 'complex'>\n"
     ]
    }
   ],
   "source": [
    "print(type(x))\n",
    "print(type(y))\n",
    "print(type(yy))\n",
    "print(type(z))"
   ]
  },
  {
   "cell_type": "code",
   "execution_count": 13,
   "id": "f0987116-a347-4732-b1a9-066a3c13e53e",
   "metadata": {},
   "outputs": [
    {
     "name": "stdout",
     "output_type": "stream",
     "text": [
      "1.0\n",
      "2\n",
      "(1+0j)\n"
     ]
    }
   ],
   "source": [
    "#convert from int to float:\n",
    "a = float(x)\n",
    "\n",
    "#convert from float to int:\n",
    "b = int(y)\n",
    "\n",
    "#convert from int to complex:\n",
    "c = complex(x)\n",
    "\n",
    "print(a)\n",
    "print(b)\n",
    "print(c)"
   ]
  },
  {
   "cell_type": "markdown",
   "id": "0aa44213-73f4-45b9-8d3f-168caa430986",
   "metadata": {},
   "source": [
    "## Strings"
   ]
  },
  {
   "cell_type": "code",
   "execution_count": 14,
   "id": "647c2b25-b8df-4157-9bc3-fe460f0127d8",
   "metadata": {},
   "outputs": [
    {
     "name": "stdout",
     "output_type": "stream",
     "text": [
      "This fesrfgd\n",
      "fdgsd\n",
      "gfsdd\n"
     ]
    }
   ],
   "source": [
    "text = '''This fesrfgd\n",
    "fdgsd\n",
    "gfsdd'''\n",
    "print(text)"
   ]
  },
  {
   "cell_type": "code",
   "execution_count": 15,
   "id": "474c5281-d15e-4d0a-bfe9-0a7cd482f69a",
   "metadata": {},
   "outputs": [
    {
     "data": {
      "text/plain": [
       "'First string - single quote'"
      ]
     },
     "execution_count": 15,
     "metadata": {},
     "output_type": "execute_result"
    }
   ],
   "source": [
    "'First string - single quote'"
   ]
  },
  {
   "cell_type": "code",
   "execution_count": 16,
   "id": "b7fe6c94-4adb-4680-8ca6-a92b00177e20",
   "metadata": {},
   "outputs": [
    {
     "data": {
      "text/plain": [
       "'Second string - double quote'"
      ]
     },
     "execution_count": 16,
     "metadata": {},
     "output_type": "execute_result"
    }
   ],
   "source": [
    "\"Second string - double quote\""
   ]
  },
  {
   "cell_type": "code",
   "execution_count": 17,
   "id": "9cb115ba-6acc-44e5-933c-33e510f89a85",
   "metadata": {},
   "outputs": [
    {
     "data": {
      "text/plain": [
       "'Third string - triple quote '"
      ]
     },
     "execution_count": 17,
     "metadata": {},
     "output_type": "execute_result"
    }
   ],
   "source": [
    "'''Third string - triple quote '''"
   ]
  },
  {
   "cell_type": "code",
   "execution_count": 18,
   "id": "d7ae286c-d59e-44ac-819c-e9011e776fa1",
   "metadata": {},
   "outputs": [
    {
     "data": {
      "text/plain": [
       "'A string that includes \"double quote\" in the line'"
      ]
     },
     "execution_count": 18,
     "metadata": {},
     "output_type": "execute_result"
    }
   ],
   "source": [
    "'A string that includes \"double quote\" in the line'"
   ]
  },
  {
   "cell_type": "code",
   "execution_count": 19,
   "id": "03365088-245e-4d0b-94d9-eb12268318af",
   "metadata": {},
   "outputs": [],
   "source": [
    "my_str = 'Practice takes time & time is spent best in practice'"
   ]
  },
  {
   "cell_type": "code",
   "execution_count": 20,
   "id": "4a493279-d3ac-4997-a14b-e985bde3611c",
   "metadata": {},
   "outputs": [
    {
     "data": {
      "text/plain": [
       "'Practice takes time & time is spent best in practice'"
      ]
     },
     "execution_count": 20,
     "metadata": {},
     "output_type": "execute_result"
    }
   ],
   "source": [
    "my_str"
   ]
  },
  {
   "cell_type": "code",
   "execution_count": 21,
   "id": "922b199c-f58c-468c-a18e-f7ada0e06f69",
   "metadata": {},
   "outputs": [
    {
     "data": {
      "text/plain": [
       "'PRACTICE TAKES TIME & TIME IS SPENT BEST IN PRACTICE'"
      ]
     },
     "execution_count": 21,
     "metadata": {},
     "output_type": "execute_result"
    }
   ],
   "source": [
    "my_str.upper()"
   ]
  },
  {
   "cell_type": "code",
   "execution_count": 22,
   "id": "68fc5df1-3849-4466-8795-61195be46bff",
   "metadata": {},
   "outputs": [
    {
     "data": {
      "text/plain": [
       "'practice takes time & time is spent best in practice'"
      ]
     },
     "execution_count": 22,
     "metadata": {},
     "output_type": "execute_result"
    }
   ],
   "source": [
    "my_str.lower()"
   ]
  },
  {
   "cell_type": "code",
   "execution_count": 23,
   "id": "f3efabd2-2466-4e4c-a49d-fb0631411ad1",
   "metadata": {},
   "outputs": [
    {
     "data": {
      "text/plain": [
       "('P', 'r', 'a')"
      ]
     },
     "execution_count": 23,
     "metadata": {},
     "output_type": "execute_result"
    }
   ],
   "source": [
    "my_str[0], my_str[1], my_str[2]"
   ]
  },
  {
   "cell_type": "code",
   "execution_count": 24,
   "id": "e8876f18-b278-44af-a416-4af45182b4aa",
   "metadata": {},
   "outputs": [
    {
     "data": {
      "text/plain": [
       "('e', 'c', 'i')"
      ]
     },
     "execution_count": 24,
     "metadata": {},
     "output_type": "execute_result"
    }
   ],
   "source": [
    "my_str[-1], my_str[-2], my_str[-3]"
   ]
  },
  {
   "cell_type": "code",
   "execution_count": 25,
   "id": "4369412f-8a52-47ab-a382-9c10a84954e8",
   "metadata": {},
   "outputs": [
    {
     "data": {
      "text/plain": [
       "'Prac'"
      ]
     },
     "execution_count": 25,
     "metadata": {},
     "output_type": "execute_result"
    }
   ],
   "source": [
    "my_str[0:4]"
   ]
  },
  {
   "cell_type": "code",
   "execution_count": 26,
   "id": "5c2cc206-c51a-4f90-a5ac-d4ec20dda4e6",
   "metadata": {},
   "outputs": [
    {
     "data": {
      "text/plain": [
       "'Patc'"
      ]
     },
     "execution_count": 26,
     "metadata": {},
     "output_type": "execute_result"
    }
   ],
   "source": [
    "my_str[0:7:2]"
   ]
  },
  {
   "cell_type": "code",
   "execution_count": 27,
   "id": "acf5780c-c841-4817-8d9f-12665ac1b875",
   "metadata": {},
   "outputs": [
    {
     "data": {
      "text/plain": [
       "'Pract'"
      ]
     },
     "execution_count": 27,
     "metadata": {},
     "output_type": "execute_result"
    }
   ],
   "source": [
    "my_str[:5]"
   ]
  },
  {
   "cell_type": "code",
   "execution_count": 28,
   "id": "a6b6bf0c-d456-4e33-ae80-5a6886198816",
   "metadata": {},
   "outputs": [
    {
     "data": {
      "text/plain": [
       "'ice takes time & time is spent best in practice'"
      ]
     },
     "execution_count": 28,
     "metadata": {},
     "output_type": "execute_result"
    }
   ],
   "source": [
    "my_str[5:]"
   ]
  },
  {
   "cell_type": "code",
   "execution_count": 29,
   "id": "a23cdeac-2b0a-41a7-86e6-8de69f98d311",
   "metadata": {},
   "outputs": [
    {
     "data": {
      "text/plain": [
       "'Patc ae ie&tm ssetbs npatc'"
      ]
     },
     "execution_count": 29,
     "metadata": {},
     "output_type": "execute_result"
    }
   ],
   "source": [
    "my_str[::2]"
   ]
  },
  {
   "cell_type": "code",
   "execution_count": 30,
   "id": "d41c1407-a779-4d33-8683-210537d1e40f",
   "metadata": {},
   "outputs": [
    {
     "data": {
      "text/plain": [
       "'ecitcarp ni tseb tneps si emit & emit sekat ecitcarP'"
      ]
     },
     "execution_count": 30,
     "metadata": {},
     "output_type": "execute_result"
    }
   ],
   "source": [
    "my_str[::-1]"
   ]
  },
  {
   "cell_type": "code",
   "execution_count": 33,
   "id": "2e0e5ec9-028f-446c-8071-8ba2389feb9e",
   "metadata": {},
   "outputs": [
    {
     "data": {
      "text/plain": [
       "52"
      ]
     },
     "execution_count": 33,
     "metadata": {},
     "output_type": "execute_result"
    }
   ],
   "source": [
    "len(my_str)"
   ]
  },
  {
   "cell_type": "markdown",
   "id": "764b96ed-a905-4144-badf-2053b949cb55",
   "metadata": {},
   "source": [
    "## Literal Constants"
   ]
  },
  {
   "cell_type": "code",
   "execution_count": 34,
   "id": "8efb621a-064f-4333-b6ca-65181509b578",
   "metadata": {},
   "outputs": [
    {
     "data": {
      "text/plain": [
       "2"
      ]
     },
     "execution_count": 34,
     "metadata": {},
     "output_type": "execute_result"
    }
   ],
   "source": [
    "#This is a literal constant - it's value cannot change\n",
    "2"
   ]
  },
  {
   "cell_type": "code",
   "execution_count": 35,
   "id": "9e332d5b-7baf-49e4-b2b5-39672796cb90",
   "metadata": {},
   "outputs": [
    {
     "data": {
      "text/plain": [
       "'This sentece is a literal constant'"
      ]
     },
     "execution_count": 35,
     "metadata": {},
     "output_type": "execute_result"
    }
   ],
   "source": [
    "# This is also a literal constant - it cannot change\n",
    "'This sentece is a literal constant'"
   ]
  },
  {
   "cell_type": "markdown",
   "id": "e619e342-8aa3-428d-a5e6-198d74b1592b",
   "metadata": {},
   "source": [
    "## Operators"
   ]
  },
  {
   "cell_type": "markdown",
   "id": "2785a33b-0c51-44d8-be7e-9a8aaaa4958d",
   "metadata": {},
   "source": [
    "## Arithmetic Operators"
   ]
  },
  {
   "cell_type": "code",
   "execution_count": 40,
   "id": "2bbe82f4-9970-4e89-a936-d7e41d1eed76",
   "metadata": {},
   "outputs": [
    {
     "name": "stdout",
     "output_type": "stream",
     "text": [
      "x + y = 19\n",
      "x - y = 11\n",
      "x * y = 60\n",
      "x / y = 3.75\n",
      "x // y = 3\n",
      "x ** y = 50625\n"
     ]
    }
   ],
   "source": [
    "x = 15\n",
    "y = 4\n",
    "\n",
    "print('x + y =', x+y)\n",
    "print('x - y =', x-y)\n",
    "print('x * y =', x*y)\n",
    "print('x / y =',x/y)\n",
    "print('x // y =',x//y)\n",
    "print('x ** y =',x**y)"
   ]
  },
  {
   "cell_type": "markdown",
   "id": "7572bb9b-809b-4c5d-9f12-92353282879a",
   "metadata": {},
   "source": [
    "## Comparison operators"
   ]
  },
  {
   "cell_type": "code",
   "execution_count": 41,
   "id": "4c495c56-66f3-45e3-a1e3-87b584202f51",
   "metadata": {},
   "outputs": [
    {
     "name": "stdout",
     "output_type": "stream",
     "text": [
      "x > y  is False\n",
      "x < y  is True\n",
      "x == y is False\n",
      "x != y is True\n",
      "x >= y is False\n",
      "x <= y is True\n"
     ]
    }
   ],
   "source": [
    "x = 10\n",
    "y = 12\n",
    "# Output: x > y is False\n",
    "print('x > y  is',x>y)\n",
    "# Output: x < y is True\n",
    "print('x < y  is',x<y)\n",
    "# Output: x == y is False\n",
    "print('x == y is',x==y)\n",
    "# Output: x != y is True\n",
    "print('x != y is',x!=y)\n",
    "# Output: x >= y is False\n",
    "print('x >= y is',x>=y)\n",
    "# Output: x <= y is True\n",
    "print('x <= y is',x<=y)"
   ]
  },
  {
   "cell_type": "markdown",
   "id": "005d51f0-d02f-4ca7-ae04-0dd0819eacb7",
   "metadata": {},
   "source": [
    "## Logic Operators"
   ]
  },
  {
   "cell_type": "code",
   "execution_count": 42,
   "id": "77e0534c-d560-43a0-af9d-33098f994ea2",
   "metadata": {},
   "outputs": [
    {
     "name": "stdout",
     "output_type": "stream",
     "text": [
      "x and y is False\n",
      "x or y is True\n",
      "not x is False\n"
     ]
    }
   ],
   "source": [
    "x = True\n",
    "y = False\n",
    "# Output: x and y is False\n",
    "print('x and y is',x and y)\n",
    "# Output: x or y is True\n",
    "print('x or y is',x or y)\n",
    "# Output: not x is False\n",
    "print('not x is',not x)"
   ]
  },
  {
   "cell_type": "code",
   "execution_count": 43,
   "id": "a6e62335-367c-455c-a6a9-d99fbc437638",
   "metadata": {},
   "outputs": [
    {
     "name": "stdout",
     "output_type": "stream",
     "text": [
      "x and y is False\n",
      "x or y is True\n",
      "not x is False\n"
     ]
    }
   ],
   "source": [
    "x = True\n",
    "y = False\n",
    "# Output: x and y is False\n",
    "print('x and y is',x and y)\n",
    "# Output: x or y is True\n",
    "print('x or y is',x or y)\n",
    "# Output: not x is False\n",
    "print('not x is',not x)"
   ]
  },
  {
   "cell_type": "markdown",
   "id": "2c74d884-d8f9-45fe-bfa9-4eb06644d389",
   "metadata": {},
   "source": [
    "### Q: List the most interesting pros and/or cons that you read in the blog about why we should use Python instead of R.\n",
    "\n"
   ]
  },
  {
   "cell_type": "markdown",
   "id": "a119be58-6e86-43f7-94f7-675e12189844",
   "metadata": {},
   "source": [
    "Python’un Artıları:\n",
    "\n",
    "Python, çok yönlü ve web geliştirme, veri manipülasyonu ve makine öğrenimi gibi daha geniş bir görev yelpazesi için kullanılabilen genel amaçlı bir programlama dilidir.\n",
    "Python, R’den daha büyük bir veri bilimi topluluğuna sahiptir.\n",
    "Python, büyük ölçekli makine öğrenimi dağıtımı için özellikle uygundur. Özel derin öğrenme ve makine öğrenimi kütüphaneleri paketi, scikit-learn, Keras ve TensorFlow gibi araçlar içerir. Bu araçlar, veri bilimcilerinin üretim sistemine doğrudan bağlanabilen sofistike veri modelleri geliştirmelerini sağlar.\n",
    "Python kodları, R’den daha kolay bakım yapılabilir ve daha sağlamdır. Makine öğrenimi veya Yapay Zeka için son teknoloji API sağlar.\n",
    "Python’un Eksileri:\n",
    "\n",
    "Python, veri manipülasyonu ve tekrarlanan görevler için harika bir araç olsa da, R veri setlerini keşfetmek ve ad-hoc analiz yapmak için daha iyi olabilir."
   ]
  },
  {
   "cell_type": "markdown",
   "id": "6362c3a7-d53d-4a19-8d54-03d24ff2f07e",
   "metadata": {},
   "source": [
    "### Q: Does the int() function round up or round down? Why do you think it does or it doesn't round?"
   ]
  },
  {
   "cell_type": "markdown",
   "id": "0e0e44e7-ecc6-4a70-936b-fcdfa16d0ae0",
   "metadata": {},
   "source": [
    "Python’da int() fonksiyonunun yuvarlama yapmaz, bunun yerine sayının ondalık kısmı kester. Bu, ondalık kısmı kaldırıp sayının tam kısmını döndürdüğü anlamına gelir. Örneğin, int(3.7) 3 döndürür ve int(3.2) de 3 döndürür.\n",
    "\n",
    "Bunun nedeni, int() fonksiyonunun amacının bir sayıyı tam sayıya dönüştürmek, yuvarlamak değil. Bir sayıyı en yakın tam sayıya yuvarlamak isterseniz, round() fonksiyonunu kullanabilirsiniz. Örneğin, round(3.7) 4 döndürür ve round(3.2) 3 döndürür."
   ]
  },
  {
   "cell_type": "markdown",
   "id": "2aa2bf21-9947-4a99-b4ea-bb89f8bbdb45",
   "metadata": {},
   "source": [
    "### Exercise: Create your own strings below - be sure to use each type of quote: "
   ]
  },
  {
   "cell_type": "code",
   "execution_count": 44,
   "id": "1ec86d94-d252-431a-910c-5633f2381f18",
   "metadata": {},
   "outputs": [
    {
     "data": {
      "text/plain": [
       "'Ben Zeynep'"
      ]
     },
     "execution_count": 44,
     "metadata": {},
     "output_type": "execute_result"
    }
   ],
   "source": [
    "'Ben Zeynep'"
   ]
  },
  {
   "cell_type": "code",
   "execution_count": 45,
   "id": "a77bc50b-b01d-49f9-b0cc-9525635cd035",
   "metadata": {},
   "outputs": [
    {
     "data": {
      "text/plain": [
       "'Merhaba'"
      ]
     },
     "execution_count": 45,
     "metadata": {},
     "output_type": "execute_result"
    }
   ],
   "source": [
    "\"Merhaba\""
   ]
  },
  {
   "cell_type": "code",
   "execution_count": 48,
   "id": "2d9666be-0151-4edd-99f7-45dfb68ac7dc",
   "metadata": {},
   "outputs": [
    {
     "data": {
      "text/plain": [
       "'Ayda yılda bir olsa da muhakkak ara'"
      ]
     },
     "execution_count": 48,
     "metadata": {},
     "output_type": "execute_result"
    }
   ],
   "source": [
    "'''Ayda yılda bir olsa da muhakkak ara'''"
   ]
  },
  {
   "cell_type": "markdown",
   "id": "bccfc707-046f-440f-ab2c-5473cba03126",
   "metadata": {},
   "source": [
    "### Q: When would you use both single quotes & double quotes in the same string? Give an example below."
   ]
  },
  {
   "cell_type": "code",
   "execution_count": 49,
   "id": "ba0a26b9-1cec-463e-9808-5849019fe378",
   "metadata": {},
   "outputs": [
    {
     "data": {
      "text/plain": [
       "'Benim adım, \"Zeynep\" biliyor musun? '"
      ]
     },
     "execution_count": 49,
     "metadata": {},
     "output_type": "execute_result"
    }
   ],
   "source": [
    "'Benim adım, \"Zeynep\" biliyor musun? '"
   ]
  },
  {
   "cell_type": "markdown",
   "id": "ea396420-c478-47b2-814f-db86dc6280a2",
   "metadata": {},
   "source": [
    "### Q: Create your own literal constants below (one number and one string)\n"
   ]
  },
  {
   "cell_type": "code",
   "execution_count": 51,
   "id": "cd24a9df-329f-4558-82b5-71b6f6d38897",
   "metadata": {},
   "outputs": [
    {
     "data": {
      "text/plain": [
       "'Hey! Ben Zeynep'"
      ]
     },
     "execution_count": 51,
     "metadata": {},
     "output_type": "execute_result"
    }
   ],
   "source": [
    "10\n",
    "\"Hey! Ben Zeynep\""
   ]
  },
  {
   "cell_type": "markdown",
   "id": "c9ffe9f9-b897-45c6-bb70-792a7dd46521",
   "metadata": {},
   "source": [
    "### Exercises: Let's convert a temperature from fahrenheit to celcius. (Subtract 32 from the temperature, multiply by 5, then divide by 9.)"
   ]
  },
  {
   "cell_type": "code",
   "execution_count": 52,
   "id": "9177d8bc-b52a-4e23-a3c3-5b0722b0d294",
   "metadata": {},
   "outputs": [],
   "source": [
    "def fahrenheit_to_celsius(fahrenheit):\n",
    "    celsius = (fahrenheit - 32) * 5 / 9\n",
    "    return celsius\n"
   ]
  },
  {
   "cell_type": "code",
   "execution_count": 53,
   "id": "4368c1e2-c8a4-4d77-a999-b126c20e934e",
   "metadata": {},
   "outputs": [
    {
     "name": "stdout",
     "output_type": "stream",
     "text": [
      "20.0\n"
     ]
    }
   ],
   "source": [
    "print(fahrenheit_to_celsius(68))\n"
   ]
  },
  {
   "cell_type": "markdown",
   "id": "82a330b7-90c9-482c-81b7-143ae99e0beb",
   "metadata": {},
   "source": [
    "### Exercises: We have 25 cookies and 7 friends at our party. If we wanted to give each friend 3 cookies how many cookies would we have left? (Use the modulo operator for this question)"
   ]
  },
  {
   "cell_type": "code",
   "execution_count": 54,
   "id": "91f2d109-f373-4099-a535-f77de8bbc2d5",
   "metadata": {},
   "outputs": [
    {
     "name": "stdout",
     "output_type": "stream",
     "text": [
      "4\n"
     ]
    }
   ],
   "source": [
    "cookies = 25\n",
    "friends = 7\n",
    "\n",
    "cookies_per_friend = 3\n",
    "\n",
    "total_cookies_given = friends * cookies_per_friend\n",
    "\n",
    "cookies_left = cookies % total_cookies_given\n",
    "\n",
    "print(cookies_left)\n"
   ]
  }
 ],
 "metadata": {
  "kernelspec": {
   "display_name": "Python 3 (ipykernel)",
   "language": "python",
   "name": "python3"
  },
  "language_info": {
   "codemirror_mode": {
    "name": "ipython",
    "version": 3
   },
   "file_extension": ".py",
   "mimetype": "text/x-python",
   "name": "python",
   "nbconvert_exporter": "python",
   "pygments_lexer": "ipython3",
   "version": "3.9.13"
  }
 },
 "nbformat": 4,
 "nbformat_minor": 5
}
