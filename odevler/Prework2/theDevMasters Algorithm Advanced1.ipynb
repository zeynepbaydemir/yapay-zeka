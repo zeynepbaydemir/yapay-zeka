{
 "cells": [
  {
   "cell_type": "markdown",
   "metadata": {
    "deletable": true,
    "editable": true
   },
   "source": [
    "# Algorithm Challenges\n",
    "These challenges are meant to help you learn to think like a programmer. Work through the challenges and make sure that each of the provided test cases match. Reference the Python documentation as needed. These algorithm challenges are adapted from freeCodeCamp's algorithm practice problems. "
   ]
  },
  {
   "cell_type": "code",
   "execution_count": 1,
   "metadata": {
    "collapsed": false,
    "deletable": true,
    "editable": true,
    "jupyter": {
     "outputs_hidden": false
    }
   },
   "outputs": [],
   "source": [
    "# Do not change this line, this will grade your algorithm challenges!\n",
    "import algo_tests1 as t"
   ]
  },
  {
   "cell_type": "markdown",
   "metadata": {
    "deletable": true,
    "editable": true
   },
   "source": [
    "## Reverse a String\n",
    "Reverse the provided string. Try to do this a few different ways. "
   ]
  },
  {
   "cell_type": "code",
   "execution_count": 2,
   "metadata": {
    "collapsed": false,
    "deletable": true,
    "editable": true,
    "jupyter": {
     "outputs_hidden": false
    }
   },
   "outputs": [
    {
     "name": "stdout",
     "output_type": "stream",
     "text": [
      "Passed: Correctly returned 'olleh' for input 'hello'!\n",
      "Passed: Correctly returned 'ydwoH' for input 'Howdy'!\n",
      "Passed: Correctly returned 'htraE morf sgniteerG' for input 'Greetings from Earth'!\n",
      "Passed 3 tests out of 3 tests!\n"
     ]
    }
   ],
   "source": [
    "string = \"Baydemir\"\n",
    "\n",
    "def reverseString(string):\n",
    "    result = \"\"\n",
    "    for char in string:\n",
    "        result = char + result \n",
    "    return result\n",
    "    \n",
    "t.reverse_test(reverseString) # Do not change - this is for grading!"
   ]
  },
  {
   "cell_type": "markdown",
   "metadata": {
    "deletable": true,
    "editable": true,
    "tags": []
   },
   "source": [
    "## Factorialize a Number\n",
    "Return the factorial of the provided integer.\n",
    "\n",
    "If the integer is represented with the letter n, a factorial is the product of all positive integers less than or equal to n.\n",
    "\n",
    "Factorials are often represented with the shorthand notation n!\n",
    "\n",
    "For example: 5! = 1 * 2 * 3 * 4 * 5 = 120"
   ]
  },
  {
   "cell_type": "code",
   "execution_count": 3,
   "metadata": {
    "collapsed": false,
    "deletable": true,
    "editable": true,
    "jupyter": {
     "outputs_hidden": false
    }
   },
   "outputs": [
    {
     "name": "stdout",
     "output_type": "stream",
     "text": [
      "Passed: Correctly returned '120' for input '5'!\n",
      "Passed: Correctly returned '3628800' for input '10'!\n",
      "Passed: Correctly returned '2432902008176640000' for input '20'!\n",
      "Passed: Correctly returned '1' for input '0'!\n",
      "Passed 4 tests out of 4 tests!\n"
     ]
    }
   ],
   "source": [
    "def factorialize(num):\n",
    "    if num == 0:\n",
    "        return 1\n",
    "    else:\n",
    "        factorial = 1\n",
    "        for i in range(1, num + 1):\n",
    "            factorial *= i\n",
    "        return factorial\n",
    "\n",
    "\n",
    "t.factorialize_test(factorialize) # Do not change - this is for grading!"
   ]
  },
  {
   "cell_type": "markdown",
   "metadata": {
    "deletable": true,
    "editable": true
   },
   "source": [
    "## Check for Palindromes \n",
    "Return true if the given string is a palindrome. Otherwise, return false.\n",
    "\n",
    "A palindrome is a word or sentence that's spelled the same way both forward and backward, ignoring punctuation, case, and spacing.\n",
    "\n",
    "Note: You'll need to remove all non-alphanumeric characters (punctuation, spaces and symbols) and turn everything lower case in order to check for palindromes.\n",
    "\n",
    "We'll pass strings with varying formats, such as \"racecar\", \"RaceCar\", and \"race CAR\" among others.\n",
    "\n",
    "We'll also pass strings with special symbols, such as \"2A3*3a2\", \"2A3 3a2\", and \"2_A3*3#A2\"."
   ]
  },
  {
   "cell_type": "code",
   "execution_count": 4,
   "metadata": {
    "collapsed": false,
    "deletable": true,
    "editable": true,
    "jupyter": {
     "outputs_hidden": false
    }
   },
   "outputs": [
    {
     "name": "stdout",
     "output_type": "stream",
     "text": [
      "Passed: Correctly returned 'True' for input 'eye'!\n",
      "Passed: Correctly returned 'True' for input '_eye'!\n",
      "Passed: Correctly returned 'True' for input 'race car'!\n",
      "Passed: Correctly returned 'False' for input 'not a palindrome'!\n",
      "Passed: Correctly returned 'True' for input 'A man, a plan, a canal. Panama'!\n",
      "Passed: Correctly returned 'True' for input 'never odd or even'!\n",
      "Passed: Correctly returned 'False' for input 'nope'!\n",
      "Passed: Correctly returned 'False' for input 'almostomla'!\n",
      "Passed: Correctly returned 'True' for input 'My age is 0, 0 si ega ym.'!\n",
      "Passed: Correctly returned 'False' for input '1 eye for of 1 eye.'!\n",
      "Passed: Correctly returned 'True' for input '0_0 (: /-\\ :) 0-0'!\n",
      "Passed: Correctly returned 'False' for input 'five|\\_/|four'!\n",
      "Passed 12 tests out of 12 tests!\n"
     ]
    }
   ],
   "source": [
    "def palindrome(string):\n",
    "    import re\n",
    "    string = re.sub('[\\W_]', '', string.lower())\n",
    "    return string == string[::-1]\n",
    "\n",
    "\n",
    "t.palindrome_test(palindrome) # Do not change - this is for grading!"
   ]
  },
  {
   "cell_type": "markdown",
   "metadata": {
    "deletable": true,
    "editable": true
   },
   "source": [
    "## Find the Longest Word in a String \n",
    "Return the length of the longest word in the provided sentence.\n",
    "\n",
    "Your response should be a number."
   ]
  },
  {
   "cell_type": "code",
   "execution_count": 5,
   "metadata": {
    "collapsed": false,
    "deletable": true,
    "editable": true,
    "jupyter": {
     "outputs_hidden": false
    }
   },
   "outputs": [
    {
     "name": "stdout",
     "output_type": "stream",
     "text": [
      "Passed: Correctly returned '6' for input 'The quick brown fox jumped over the lazy dog'!\n",
      "Passed: Correctly returned '5' for input 'May the force be with you'!\n",
      "Passed: Correctly returned '6' for input 'Google do a barrel roll'!\n",
      "Passed: Correctly returned '8' for input 'What is the average airspeed velocity of an unladen swallow'!\n",
      "Passed: Correctly returned '19' for input 'What if we try a super-long word such as otorhinolaryngology'!\n",
      "Passed 5 tests out of 5 tests!\n"
     ]
    }
   ],
   "source": [
    "def findLongestWord(string):\n",
    "    return max(len(word) for word in string.split())\n",
    "\n",
    "t.findLongestWord_test(findLongestWord) # Do not change - this is for grading!"
   ]
  },
  {
   "cell_type": "markdown",
   "metadata": {
    "deletable": true,
    "editable": true
   },
   "source": [
    "## Title Case a Sentence \n",
    "Return the provided string with the first letter of each word capitalized. Make sure the rest of the word is in lower case.\n",
    "\n",
    "For the purpose of this exercise, you should also capitalize connecting words like \"the\" and \"of\"."
   ]
  },
  {
   "cell_type": "code",
   "execution_count": 6,
   "metadata": {
    "collapsed": false,
    "deletable": true,
    "editable": true,
    "jupyter": {
     "outputs_hidden": false
    }
   },
   "outputs": [
    {
     "name": "stdout",
     "output_type": "stream",
     "text": [
      "Passed: Correctly returned 'I'm A Little Tea Pot' for input 'I'm a little tea pot'!\n",
      "Passed: Correctly returned 'Short And Stout' for input 'sHoRt AnD sToUt'!\n",
      "Passed: Correctly returned 'Here Is My Handle Here Is My Spout' for input 'HERE IS MY HANDLE HERE IS MY SPOUT'!\n",
      "Passed 3 tests out of 3 tests!\n"
     ]
    }
   ],
   "source": [
    "def titleCase(string):\n",
    "    return ' '.join(word[0].upper() + word[1:].lower() for word in string.split())\n",
    "\n",
    "\n",
    "t.titleCase_test(titleCase) # Do not change - this is for grading!"
   ]
  },
  {
   "cell_type": "markdown",
   "metadata": {
    "deletable": true,
    "editable": true
   },
   "source": [
    "## Return Largest Numbers in Lists \n",
    "Return an list consisting of the largest number from each provided sub-list. For simplicity, the provided list will contain exactly 4 sub-lists.\n",
    "\n",
    "Remember, you can iterate through an list with a simple for loop, and access each member with list syntax list[i]."
   ]
  },
  {
   "cell_type": "code",
   "execution_count": 7,
   "metadata": {
    "collapsed": false,
    "deletable": true,
    "editable": true,
    "jupyter": {
     "outputs_hidden": false
    }
   },
   "outputs": [
    {
     "name": "stdout",
     "output_type": "stream",
     "text": [
      "Passed: Correctly returned '[27, 5, 39, 1001]' for input '[[13, 27, 18, 26], [4, 5, 1, 3], [32, 35, 37, 39], [1000, 1001, 857, 1]]'!\n",
      "Passed: Correctly returned '[9, 35, 97, 1000000]' for input '[[4, 9, 1, 3], [13, 35, 18, 26], [32, 35, 97, 39], [1000000, 1001, 857, 1]]'!\n",
      "Passed 2 tests out of 2 tests!\n"
     ]
    }
   ],
   "source": [
    "def largestOfFour(arr):\n",
    "    return [max(sub_list) for sub_list in arr]\n",
    "\n",
    "\n",
    "t.largestOfFour_test(largestOfFour) # Do not change - this is for grading!"
   ]
  },
  {
   "cell_type": "markdown",
   "metadata": {
    "deletable": true,
    "editable": true
   },
   "source": [
    "## Confirm the Ending \n",
    "Check if a string (first argument, string) ends with the given target string (second argument, target)."
   ]
  },
  {
   "cell_type": "code",
   "execution_count": 8,
   "metadata": {
    "collapsed": false,
    "deletable": true,
    "editable": true,
    "jupyter": {
     "outputs_hidden": false
    }
   },
   "outputs": [
    {
     "name": "stdout",
     "output_type": "stream",
     "text": [
      "Passed: Correctly returned 'True' for input 'Bastian' and 'n'!\n",
      "Passed: Correctly returned 'False' for input 'Connor' and 'n'!\n",
      "Passed: Correctly returned 'False' for input 'Walking on water and developing software from a specification are easy if both are frozen' and 'specification'!\n",
      "Passed: Correctly returned 'True' for input 'He has to give me a new name' and 'name'!\n",
      "Passed: Correctly returned 'True' for input 'Open sesame' and 'same'!\n",
      "Passed: Correctly returned 'False' for input 'Open sesame' and 'pen'!\n",
      "Passed: Correctly returned 'False' for input 'If you want to save our world, you must hurry. We dont know how much longer we can withstand the nothing' and 'mountain'!\n",
      "Passed 7 tests out of 7 tests!\n"
     ]
    }
   ],
   "source": [
    "def confirmEnding(string, target):\n",
    "    return string.endswith(target)\n",
    "\n",
    "\n",
    "t.confirmEnding_test(confirmEnding) # Do not change - this is for grading"
   ]
  },
  {
   "cell_type": "markdown",
   "metadata": {
    "deletable": true,
    "editable": true
   },
   "source": [
    "## Repeat a string repeat a string \n",
    "Repeat a given string (first argument) num times (second argument). Return an empty string if num is not a positive number."
   ]
  },
  {
   "cell_type": "code",
   "execution_count": 9,
   "metadata": {
    "collapsed": false,
    "deletable": true,
    "editable": true,
    "jupyter": {
     "outputs_hidden": false
    }
   },
   "outputs": [
    {
     "name": "stdout",
     "output_type": "stream",
     "text": [
      "Passed: Correctly returned '***' for input '*' and '3'!\n",
      "Passed: Correctly returned 'abcabcabc' for input 'abc' and '3'!\n",
      "Passed: Correctly returned 'abcabcabcabc' for input 'abc' and '4'!\n",
      "Passed: Correctly returned 'abc' for input 'abc' and '1'!\n",
      "Passed: Correctly returned '********' for input '*' and '8'!\n",
      "Passed: Correctly returned '' for input 'abc' and '-2'!\n",
      "Passed 6 tests out of 6 tests!\n"
     ]
    }
   ],
   "source": [
    "def repeatStringNumTimes(string, num):\n",
    "    if num > 0:\n",
    "        return string * num\n",
    "    else:\n",
    "        return \"\"\n",
    "\n",
    "t.repeatString_test(repeatStringNumTimes) # Do not change - this is for grading!"
   ]
  },
  {
   "cell_type": "markdown",
   "metadata": {
    "deletable": true,
    "editable": true
   },
   "source": [
    "## Truncate a string \n",
    "Truncate a string (first argument) if it is longer than the given maximum string length (second argument). Return the truncated string with a ... ending.\n",
    "\n",
    "Note that inserting the three dots to the end will add to the string length.\n",
    "\n",
    "However, if the given maximum string length num is less than or equal to 3, then the addition of the three dots does not add to the string length in determining the truncated string."
   ]
  },
  {
   "cell_type": "code",
   "execution_count": 10,
   "metadata": {
    "collapsed": false,
    "deletable": true,
    "editable": true,
    "jupyter": {
     "outputs_hidden": false
    }
   },
   "outputs": [
    {
     "name": "stdout",
     "output_type": "stream",
     "text": [
      "Passed: Correctly returned 'A-tisket...' for input 'A-tisket a-tasket A green and yellow basket' and '11'!\n",
      "Passed: Correctly returned 'Peter Piper...' for input 'Peter Piper picked a peck of pickled peppers' and '14'!\n",
      "Passed: Correctly returned 'A-tisket a-tasket A green and yellow basket' for input 'A-tisket a-tasket A green and yellow basket' and '43'!\n",
      "Passed: Correctly returned 'A-tisket a-tasket A green and yellow basket' for input 'A-tisket a-tasket A green and yellow basket' and '45'!\n",
      "Passed: Correctly returned 'A...' for input 'A-' and '1'!\n",
      "Passed: Correctly returned 'Ab...' for input 'Absolutely Longer' and '2'!\n",
      "Passed 6 tests out of 6 tests!\n"
     ]
    }
   ],
   "source": [
    "def truncateString(string, num):\n",
    "    if len(string) > num:\n",
    "        if num <= 3:\n",
    "            return string[:num] + \"...\"\n",
    "        else:\n",
    "            return string[:num - 3] + \"...\"\n",
    "    else:\n",
    "        return string\n",
    "\n",
    "\n",
    "t.truncateString_test(truncateString) # Do not change - this is for grading!"
   ]
  },
  {
   "cell_type": "markdown",
   "metadata": {
    "deletable": true,
    "editable": true
   },
   "source": [
    "## Chunky Monkey \n",
    "Write a function that splits a list (first argument) into groups the length of size (second argument) and returns them as a two-dimensional list."
   ]
  },
  {
   "cell_type": "code",
   "execution_count": 11,
   "metadata": {
    "collapsed": false,
    "deletable": true,
    "editable": true,
    "jupyter": {
     "outputs_hidden": false
    }
   },
   "outputs": [
    {
     "name": "stdout",
     "output_type": "stream",
     "text": [
      "Passed: Correctly returned '[['a', 'b'], ['c', 'd']]' for input '['a', 'b', 'c', 'd']' and '2'!\n",
      "Passed: Correctly returned '[[0, 1, 2], [3, 4, 5]]' for input '[0, 1, 2, 3, 4, 5]' and '3'!\n",
      "Passed: Correctly returned '[[0, 1], [2, 3], [4, 5]]' for input '[0, 1, 2, 3, 4, 5]' and '2'!\n",
      "Passed: Correctly returned '[[0, 1, 2, 3], [4, 5]]' for input '[0, 1, 2, 3, 4, 5]' and '4'!\n",
      "Passed: Correctly returned '[[0, 1, 2], [3, 4, 5], [6]]' for input '[0, 1, 2, 3, 4, 5, 6]' and '3'!\n",
      "Passed: Correctly returned '[[0, 1, 2, 3], [4, 5, 6, 7], [8]]' for input '[0, 1, 2, 3, 4, 5, 6, 7, 8]' and '4'!\n",
      "Passed: Correctly returned '[[0, 1], [2, 3], [4, 5], [6, 7], [8]]' for input '[0, 1, 2, 3, 4, 5, 6, 7, 8]' and '2'!\n",
      "Passed 7 tests out of 7 tests!\n"
     ]
    }
   ],
   "source": [
    "def chunkList(arr, size):\n",
    "    return [arr[i:i + size] for i in range(0, len(arr), size)]\n",
    "\n",
    "\n",
    "t.chunkList_test(chunkList) # Do not change - this is for grading!"
   ]
  },
  {
   "cell_type": "markdown",
   "metadata": {
    "deletable": true,
    "editable": true
   },
   "source": [
    "## Slasher Flick \n",
    "Return the remaining elements of a list after chopping off n elements from the head.\n",
    "\n",
    "The head means the beginning of the list, or the zeroth index."
   ]
  },
  {
   "cell_type": "code",
   "execution_count": 12,
   "metadata": {
    "collapsed": false,
    "deletable": true,
    "editable": true,
    "jupyter": {
     "outputs_hidden": false
    }
   },
   "outputs": [
    {
     "name": "stdout",
     "output_type": "stream",
     "text": [
      "Passed: Correctly returned '[3]' for input '[1, 2, 3]' and '2'!\n",
      "Passed: Correctly returned '[1, 2, 3]' for input '[1, 2, 3]' and '0'!\n",
      "Passed: Correctly returned '[]' for input '[1, 2, 3]' and '9'!\n",
      "Passed: Correctly returned '[]' for input '[1, 2, 3]' and '4'!\n",
      "Passed: Correctly returned '['fries', 'shake']' for input '['burgers', 'fries', 'shake']' and '1'!\n",
      "Passed: Correctly returned '['cheese', 4]' for input '[1, 2, 'chicken', 3, 'potatoes', 'cheese', 4]' and '5'!\n",
      "Passed 6 tests out of 6 tests!\n"
     ]
    }
   ],
   "source": [
    "def slasher(arr, howMany):\n",
    "    return arr[howMany:]\n",
    "\n",
    "\n",
    "t.slasher_test(slasher) # Do not change - this is for grading!"
   ]
  },
  {
   "cell_type": "markdown",
   "metadata": {
    "deletable": true,
    "editable": true
   },
   "source": [
    "## Mutations \n",
    "Return true if the string in the first element of the list contains all of the letters of the string in the second element of the list.\n",
    "\n",
    "For example, [\"hello\", \"Hello\"], should return true because all of the letters in the second string are present in the first, ignoring case.\n",
    "\n",
    "The arguments [\"hello\", \"hey\"] should return false because the string \"hello\" does not contain a \"y\".\n",
    "\n",
    "Lastly, [\"Alien\", \"line\"], should return true because all of the letters in \"line\" are present in \"Alien\"."
   ]
  },
  {
   "cell_type": "code",
   "execution_count": 13,
   "metadata": {
    "collapsed": false,
    "deletable": true,
    "editable": true,
    "jupyter": {
     "outputs_hidden": false
    }
   },
   "outputs": [
    {
     "name": "stdout",
     "output_type": "stream",
     "text": [
      "Passed: Correctly returned 'False' for input '['hello', 'hey']'!\n",
      "Passed: Correctly returned 'True' for input '['hello', 'Hello']'!\n",
      "Passed: Correctly returned 'True' for input '['zyxwvutsrqponmlkjihgfedcba', 'qrstu']'!\n",
      "Passed: Correctly returned 'True' for input '['Mary', 'Army']'!\n",
      "Passed: Correctly returned 'True' for input '['Mary', 'Aarmy']'!\n",
      "Passed: Correctly returned 'True' for input '['Alien', 'line']'!\n",
      "Passed: Correctly returned 'True' for input '['floor', 'for']'!\n",
      "Passed: Correctly returned 'False' for input '['hello', 'neo']'!\n",
      "Passed: Correctly returned 'False' for input '['voodoo', 'no']'!\n",
      "Passed 9 tests out of 9 tests!\n"
     ]
    }
   ],
   "source": [
    "def mutation(arr):\n",
    "    first_string = arr[0].lower()\n",
    "    second_string = arr[1].lower()\n",
    "    for letter in second_string:\n",
    "        if letter not in first_string:\n",
    "            return False\n",
    "    return True\n",
    "\n",
    "\n",
    "t.mutation_test(mutation) # Do not change - this is for grading!"
   ]
  },
  {
   "cell_type": "markdown",
   "metadata": {
    "deletable": true,
    "editable": true
   },
   "source": [
    "## Falsy Bouncer \n",
    "Remove all falsy values from a list.\n",
    "\n",
    "Falsy values in Python are False, None, 0, \"\", (), [], and {}."
   ]
  },
  {
   "cell_type": "code",
   "execution_count": 14,
   "metadata": {
    "collapsed": false,
    "deletable": true,
    "editable": true,
    "jupyter": {
     "outputs_hidden": false
    }
   },
   "outputs": [
    {
     "name": "stdout",
     "output_type": "stream",
     "text": [
      "Passed: Correctly returned '[7, 'ate', 9]' for input '[7, 'ate', '', False, 9]'!\n",
      "Passed: Correctly returned '['a', 'b', 'c']' for input '['a', 'b', 'c']'!\n",
      "Passed: Correctly returned '[]' for input '[False, None, 0, [], '']'!\n",
      "Passed: Correctly returned '[1, 2]' for input '[1, None, False, 2, {}]'!\n",
      "Passed 4 tests out of 4 tests!\n"
     ]
    }
   ],
   "source": [
    "def bouncer(arr):\n",
    "    return [item for item in arr if item]\n",
    "\n",
    "t.bouncer_test(bouncer) # Do not change - this is for grading!"
   ]
  },
  {
   "cell_type": "markdown",
   "metadata": {
    "deletable": true,
    "editable": true
   },
   "source": [
    "## Seek and Destroy \n",
    "You will be provided with an initial list (the first argument in the destroyer function), followed by a list of targets. Remove all elements from the initial list that are of the same value as these targets."
   ]
  },
  {
   "cell_type": "code",
   "execution_count": 15,
   "metadata": {
    "collapsed": false,
    "deletable": true,
    "editable": true,
    "jupyter": {
     "outputs_hidden": false
    }
   },
   "outputs": [
    {
     "name": "stdout",
     "output_type": "stream",
     "text": [
      "Passed: Correctly returned '[1, 1]' for input '[1, 2, 3, 1, 2, 3]' and '[2, 3]'!\n",
      "Passed: Correctly returned '[1, 5, 1]' for input '[1, 2, 3, 5, 1, 2, 3]' and '[2, 3]'!\n",
      "Passed: Correctly returned '[1]' for input '[3, 5, 1, 2, 2]' and '[2, 3, 5]'!\n",
      "Passed: Correctly returned '[]' for input '[2, 3, 2, 3]' and '[2, 3]'!\n",
      "Passed: Correctly returned '['hamburger']' for input '['tree', 'hamburger', 53]' and '['tree', 53]'!\n",
      "Passed 5 tests out of 5 tests!\n"
     ]
    }
   ],
   "source": [
    "def destroyer(arr, target):\n",
    "    return [item for item in arr if item not in target]\n",
    "\n",
    "\n",
    "t.destroyer_test(destroyer) # Do not change - this is for grading!"
   ]
  },
  {
   "cell_type": "markdown",
   "metadata": {
    "deletable": true,
    "editable": true
   },
   "source": [
    "## Where do I belong \n",
    "Return the lowest index at which a value (second argument) should be inserted into a list (first argument) once it has been sorted. The returned value should be a number.\n",
    "\n",
    "For example, `getIndexToIns([1,2,3,4], 1.5)` should return 1 because it is greater than 1 (index 0), but less than 2 (index 1).\n",
    "\n",
    "Likewise, `getIndexToIns([20,3,5], 19)` should return 2 because once the array has been sorted it will look like [3,5,20] and 19 is less than 20 (index 2) and greater than 5 (index 1)."
   ]
  },
  {
   "cell_type": "code",
   "execution_count": 16,
   "metadata": {
    "collapsed": false,
    "deletable": true,
    "editable": true,
    "jupyter": {
     "outputs_hidden": false
    }
   },
   "outputs": [
    {
     "name": "stdout",
     "output_type": "stream",
     "text": [
      "Passed: Correctly returned '3' for input '[10, 20, 30, 40, 50]' and '35'!\n",
      "Passed: Correctly returned '2' for input '[10, 20, 30, 40, 50]' and '30'!\n",
      "Passed: Correctly returned '1' for input '[40, 60]' and '50'!\n",
      "Passed: Correctly returned '0' for input '[3, 5, 10]' and '3'!\n",
      "Passed: Correctly returned '2' for input '[3, 3, 5, 20]' and '5'!\n",
      "Passed: Correctly returned '2' for input '[2, 10, 20]' and '19'!\n",
      "Passed: Correctly returned '3' for input '[2, 5, 10]' and '15'!\n",
      "Passed 7 tests out of 7 tests!\n"
     ]
    }
   ],
   "source": [
    "def getIndexToIns(arr, num):\n",
    "    arr.sort()\n",
    "    for i in range(len(arr)):\n",
    "        if arr[i] >= num:\n",
    "            return i\n",
    "    return len(arr)\n",
    "\n",
    "\n",
    "t.getIndex_test(getIndexToIns) # Do not change - this is for grading!"
   ]
  },
  {
   "cell_type": "markdown",
   "metadata": {
    "deletable": true,
    "editable": true
   },
   "source": [
    "## Caesars Cipher \n",
    "One of the simplest and most widely known ciphers is a Caesar cipher, also known as a shift cipher. In a shift cipher the meanings of the letters are shifted by some set amount.\n",
    "\n",
    "A common modern use is the ROT13 cipher, where the values of the letters are shifted by 13 places. Thus 'A' ↔ 'N', 'B' ↔ 'O' and so on.\n",
    "\n",
    "Write a function which takes a ROT13 encoded string as input and returns a decoded string.\n",
    "\n",
    "All letters will be uppercase. Do not transform any non-alphabetic character (i.e. spaces, punctuation), but do pass them on."
   ]
  },
  {
   "cell_type": "code",
   "execution_count": 17,
   "metadata": {
    "collapsed": false,
    "deletable": true,
    "editable": true,
    "jupyter": {
     "outputs_hidden": false
    }
   },
   "outputs": [
    {
     "name": "stdout",
     "output_type": "stream",
     "text": [
      "Passed: Correctly returned 'THEDEVMASTERS' for input 'GURQRIZNFGREF'!\n",
      "Passed: Correctly returned 'DATA SCIENCE!' for input 'QNGN FPVRAPR!'!\n",
      "Passed: Correctly returned 'FREE PIZZA!' for input 'SERR CVMMN!'!\n",
      "Passed: Correctly returned 'THE QUICK BROWN DOG JUMPED OVER THE LAZY FOX.' for input 'GUR DHVPX OEBJA QBT WHZCRQ BIRE GUR YNML SBK.'!\n",
      "Passed 4 tests out of 4 tests!\n"
     ]
    }
   ],
   "source": [
    "def rot13(string):\n",
    "    result = \"\"\n",
    "    for char in string:\n",
    "        if char.isalpha():\n",
    "            ascii_offset = ord('A') if char.isupper() else ord('a')\n",
    "            result += chr((ord(char) - ascii_offset + 13) % 26 + ascii_offset)\n",
    "        else:\n",
    "            result += char\n",
    "    return result\n",
    "\n",
    "\n",
    "t.rot13_test(rot13) # Do not change - this is for grading!"
   ]
  },
  {
   "cell_type": "code",
   "execution_count": null,
   "metadata": {
    "collapsed": true,
    "deletable": true,
    "editable": true,
    "jupyter": {
     "outputs_hidden": true
    },
    "tags": []
   },
   "outputs": [],
   "source": []
  }
 ],
 "metadata": {
  "anaconda-cloud": {},
  "kernelspec": {
   "display_name": "Python 3 (ipykernel)",
   "language": "python",
   "name": "python3"
  },
  "language_info": {
   "codemirror_mode": {
    "name": "ipython",
    "version": 3
   },
   "file_extension": ".py",
   "mimetype": "text/x-python",
   "name": "python",
   "nbconvert_exporter": "python",
   "pygments_lexer": "ipython3",
   "version": "3.9.13"
  }
 },
 "nbformat": 4,
 "nbformat_minor": 4
}
